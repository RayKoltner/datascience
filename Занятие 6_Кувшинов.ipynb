{
 "cells": [
  {
   "cell_type": "markdown",
   "metadata": {},
   "source": [
    "# Сводная таблица pivot_table\n",
    "\n",
    "Сводная таблица - это мощный инструмент для обобщения и представления данных.\n",
    "\n",
    "В Pandas для подготовки сводных таблиц вызывают метод pivot_table().\n",
    "\n",
    "Аргументы метода:\n",
    "\n",
    "• index — ключи для группировки по индексу (строке)\n",
    "\n",
    "• columns — ключи для группировки столбцов\n",
    "\n",
    "• values — значения, по которым мы хотим увидеть сводную таблицу (столбцы для агрегирования)\n",
    "\n",
    "• aggfunc — функция, применяемая к значениям (т.е. что делать с повторяющимися значениями)\n",
    "\n",
    "<img src=\"https://raw.githubusercontent.com/dm-fedorov/pandas_basic/master/pic/pivot_table_pandas.png\" >\n",
    "\n"
   ]
  },
  {
   "cell_type": "markdown",
   "metadata": {},
   "source": [
    "Построим сводную таблицу для задачи по SEO-оптимизации.\n",
    "Для начала загрузите дата-сет data.final, полученный в результате выполнения предыдущей задачи (объединения таблиц), сохраните ешл в переменной df."
   ]
  },
  {
   "cell_type": "code",
   "execution_count": 2,
   "metadata": {},
   "outputs": [
    {
     "name": "stdout",
     "output_type": "stream",
     "text": [
      "<class 'pandas.core.frame.DataFrame'>\n",
      "RangeIndex: 1928 entries, 0 to 1927\n",
      "Data columns (total 6 columns):\n",
      " #   Column            Non-Null Count  Dtype \n",
      "---  ------            --------------  ----- \n",
      " 0   subcategory_id    1928 non-null   object\n",
      " 1   source            1928 non-null   object\n",
      " 2   visits            1928 non-null   int64 \n",
      " 3   subcategory_name  1928 non-null   object\n",
      " 4   category_id       1928 non-null   object\n",
      " 5   category_name     1928 non-null   object\n",
      "dtypes: int64(1), object(5)\n",
      "memory usage: 90.5+ KB\n",
      "None\n",
      "  subcategory_id  source  visits                subcategory_name category_id  \\\n",
      "0     cf2e61c7af  direct  501165              Мобильные телефоны  09f279a643   \n",
      "1     0cd903d1cc  direct  126342                        Ноутбуки  3509869a61   \n",
      "2     ef35bc88a7  direct   95626                      Телевизоры  09f279a643   \n",
      "3     6ff9f4014c  direct   75680                        Планшеты  3509869a61   \n",
      "4     72bc238e4d  direct   64435  Наушники и Bluetooth-гарнитуры  09f279a643   \n",
      "\n",
      "          category_name  \n",
      "0           Электроника  \n",
      "1  Компьютерная техника  \n",
      "2           Электроника  \n",
      "3  Компьютерная техника  \n",
      "4           Электроника  \n"
     ]
    }
   ],
   "source": [
    "#Youre codw is here\n",
    "import pandas as pd\n",
    "\n",
    "df = pd.read_csv('data_final.csv')\n",
    "print(df.info())\n",
    "print(df.head(5))"
   ]
  },
  {
   "cell_type": "markdown",
   "metadata": {},
   "source": [
    "## Поворот данных\n",
    "\n",
    "Создавать сводную таблицу (pivot_table) лучше всего последовательно. Добавляйте элементы по одному и проверяйте каждый шаг, чтобы убедиться, что вы получаете ожидаемые результаты. Самая простая сводная таблица должна иметь DataFrame и индекс (index). \n",
    "\n",
    "В этом примере давайте использовать category_name в качестве индекса:\n",
    "\n",
    "pd.pivot_table(df, index=[\"category_name\"])"
   ]
  },
  {
   "cell_type": "code",
   "execution_count": null,
   "metadata": {},
   "outputs": [
    {
     "name": "stdout",
     "output_type": "stream",
     "text": [
      "                          visits\n",
      "category_name                   \n",
      "Авто                 4328.489583\n",
      "Бытовая техника      7012.164557\n",
      "Дача, сад и огород   1511.142857\n",
      "Детские товары       1657.736434\n",
      "Досуг и развлечения   959.428571\n"
     ]
    }
   ],
   "source": [
    "# Youre code is here\n",
    "print(pd.pivot_table(df, index=[\"category_name\"], values='visits').head(5)) #Автоопределение стобца не работает\n"
   ]
  },
  {
   "cell_type": "markdown",
   "metadata": {},
   "source": [
    "У вас может быть несколько индексов. Фактически, большинство аргументов pivot_table могут принимать несколько значений в качестве элементов списка. Добавьте в список индексов переменную subcategory_name."
   ]
  },
  {
   "cell_type": "code",
   "execution_count": null,
   "metadata": {},
   "outputs": [
    {
     "name": "stdout",
     "output_type": "stream",
     "text": [
      "                                          visits\n",
      "category_name subcategory_name                  \n",
      "Авто          Автоакустика               10674.0\n",
      "              Автомагнитолы              13236.5\n",
      "              Автомобильные инверторы      147.5\n",
      "              Автомобильные компрессоры    598.5\n",
      "              Автомобильные телевизоры    1610.5\n"
     ]
    }
   ],
   "source": [
    "# Youre code is here\n",
    "print(pd.pivot_table(df, index=[\"category_name\", \"subcategory_name\"], values='visits').head(5)) "
   ]
  },
  {
   "cell_type": "markdown",
   "metadata": {},
   "source": [
    "Вы могли заметить, что сводная таблица достаточно умна, чтобы начать агрегирование данных и их обобщение, группируя категории товаров (category_name) с их подкатегориями (subcategory_name). Теперь мы начинаем понимать, что может сделать для нас сводная таблица.\n",
    "\n",
    "Поскольку в данном случае столбец с количественной переменной только один (visits), он автоматически определился в качестве значения параметра values. Однако, можно явно определить столбцы, которые нам нужны, с помощью этого параметра values:\n",
    "\n",
    "pd.pivot_table(df, index=['category_name', 'subcategory_name'], values=[\"visits\"])"
   ]
  },
  {
   "cell_type": "code",
   "execution_count": 18,
   "metadata": {},
   "outputs": [
    {
     "name": "stdout",
     "output_type": "stream",
     "text": [
      "                                          visits\n",
      "category_name subcategory_name                  \n",
      "Авто          Автоакустика               10674.0\n",
      "              Автомагнитолы              13236.5\n",
      "              Автомобильные инверторы      147.5\n",
      "              Автомобильные компрессоры    598.5\n",
      "              Автомобильные телевизоры    1610.5\n"
     ]
    }
   ],
   "source": [
    "# Youre code is here\n",
    "print(pd.pivot_table(df, index=[\"category_name\", \"subcategory_name\"], values='visits').head(5))"
   ]
  },
  {
   "cell_type": "markdown",
   "metadata": {},
   "source": [
    "Столбец цен (visits) по умолчанию усредняет данные, но мы можем произвести подсчет количества или суммы. Добавить их можно с помощью параметра aggfunc:\n",
    "\n",
    "pd.pivot_table(df, index=['category_name', 'subcategory_name'], values=[\"visits\"], aggfunc='sum')"
   ]
  },
  {
   "cell_type": "code",
   "execution_count": 19,
   "metadata": {},
   "outputs": [
    {
     "name": "stdout",
     "output_type": "stream",
     "text": [
      "                                         visits\n",
      "category_name subcategory_name                 \n",
      "Авто          Автоакустика                21348\n",
      "              Автомагнитолы               26473\n",
      "              Автомобильные инверторы       295\n",
      "              Автомобильные компрессоры    1197\n",
      "              Автомобильные телевизоры     3221\n"
     ]
    }
   ],
   "source": [
    "# Youre code is here\n",
    "print(pd.pivot_table(df, index=[\"category_name\", \"subcategory_name\"], values='visits', aggfunc='sum').head(5))"
   ]
  },
  {
   "cell_type": "markdown",
   "metadata": {},
   "source": [
    "Aggfunc может принимать список функций.\n",
    "\n",
    "Давайте попробуем узнать среднее значение и количество:\n",
    "\n"
   ]
  },
  {
   "cell_type": "code",
   "execution_count": 20,
   "metadata": {},
   "outputs": [
    {
     "name": "stdout",
     "output_type": "stream",
     "text": [
      "                                           sum     mean\n",
      "                                        visits   visits\n",
      "category_name subcategory_name                         \n",
      "Авто          Автоакустика               21348  10674.0\n",
      "              Автомагнитолы              26473  13236.5\n",
      "              Автомобильные инверторы      295    147.5\n",
      "              Автомобильные компрессоры   1197    598.5\n",
      "              Автомобильные телевизоры    3221   1610.5\n"
     ]
    }
   ],
   "source": [
    "# Youre code is here\n",
    "print(pd.pivot_table(df, index=[\"category_name\", \"subcategory_name\"], values='visits', aggfunc=['sum', 'mean']).head(5))"
   ]
  },
  {
   "cell_type": "markdown",
   "metadata": {},
   "source": [
    "Если мы хотим увидеть визиты с разбивкой по источникам трафика (source), переменная columns позволяет нам определить один или несколько столбцов.\n",
    "\n",
    "Одна из сложностей pivot_table - это использование столбцов (columns) и значений (values).\n",
    "\n",
    "Помните, что столбцы необязательны - они предоставляют дополнительный способ сегментировать актуальные значения, которые вам нужны.\n",
    "\n",
    "Функции агрегирования применяются к перечисленным значениям (values):\n",
    "\n",
    "pd.pivot_table(df, index=['category_name', 'subcategory_name'], values=[\"visits\"], columns=[\"source\"], aggfunc='sum'])\n"
   ]
  },
  {
   "cell_type": "code",
   "execution_count": 21,
   "metadata": {},
   "outputs": [
    {
     "name": "stdout",
     "output_type": "stream",
     "text": [
      "source                                   direct  organic\n",
      "category_name subcategory_name                          \n",
      "Авто          Автоакустика                 5915    15433\n",
      "              Автомагнитолы                7783    18690\n",
      "              Автомобильные инверторы       145      150\n",
      "              Автомобильные компрессоры     407      790\n",
      "              Автомобильные телевизоры      975     2246\n"
     ]
    }
   ],
   "source": [
    "# Youre code is here\n",
    "print(pd.pivot_table(df, index=[\"category_name\", \"subcategory_name\"], values='visits', columns='source', aggfunc='sum').head(5))"
   ]
  },
  {
   "cell_type": "markdown",
   "metadata": {},
   "source": [
    "Теперь вы видите название категории и её подкатегории со значениями объёма трафика по каждой.\n",
    "\n",
    "Как видно, основная категория включает в себя подкатегорию и это представлено в структуре датафрейма: категория отображена иерархически главной над подкатегорией. Такие датафреймы содержат в себе мультииндекс. Часто при работе с такими датафреймами мультииндекс убирают, чтобы категория была отображена на каждой строчке датафрейма:\n",
    "\n",
    "pd.pivot_table(df, index=['category_name', 'subcategory_name'], values=[\"visits\"], \n",
    "               columns=[\"source\"], aggfunc='sum').reset_index()\n"
   ]
  },
  {
   "cell_type": "code",
   "execution_count": 22,
   "metadata": {},
   "outputs": [
    {
     "name": "stdout",
     "output_type": "stream",
     "text": [
      "source category_name           subcategory_name  direct  organic\n",
      "0               Авто               Автоакустика    5915    15433\n",
      "1               Авто              Автомагнитолы    7783    18690\n",
      "2               Авто    Автомобильные инверторы     145      150\n",
      "3               Авто  Автомобильные компрессоры     407      790\n",
      "4               Авто   Автомобильные телевизоры     975     2246\n"
     ]
    }
   ],
   "source": [
    "#Youre code is here\n",
    "print(pd.pivot_table(df, index=[\"category_name\", \"subcategory_name\"], values='visits', columns='source', aggfunc='sum').reset_index().head(5))"
   ]
  },
  {
   "cell_type": "markdown",
   "metadata": {},
   "source": [
    "В таблице выше суммы визитов visits по каждому из источников source (direct и organic) представлены в отдельных столбцах. Такой вид таблицы называется «широкий». Он удобен, когда нужно сравнить значения столбцов. Хорошо заметно, например, что в подкатегории «Автомобильные инверторы» количество визитов из источников direct и organic практически одинаково, а в подкатегории «Автомагнитолы» из источника organic пришло почти в два раза больше посетителей, чем из direct."
   ]
  },
  {
   "cell_type": "markdown",
   "metadata": {},
   "source": [
    "## Расширенная фильтрация сводной таблицы\n",
    "\n",
    "После того, как вы сгенерировали свои данные, они находятся в DataFrame, поэтому можно фильтровать их, используя обычные методы DataFrame.\n",
    "\n",
    "Если вы хотите посмотреть только на одну категорию, например, \"Товары для дома\":\n",
    "\n",
    "data_pivot = pd.pivot_table(df, index=['category_name', 'subcategory_name'], values='visits', columns='source',\n",
    "                            aggfunc='sum').reset_index()\n",
    "print((data_pivot[data_pivot['category_name']=='Товары для дома']).head(10))"
   ]
  },
  {
   "cell_type": "code",
   "execution_count": 23,
   "metadata": {},
   "outputs": [
    {
     "name": "stdout",
     "output_type": "stream",
     "text": [
      "source    category_name          subcategory_name  direct  organic\n",
      "646     Товары для дома                Аксессуары     219      329\n",
      "647     Товары для дома    Аксессуары для готовки     216      326\n",
      "648     Товары для дома        Банки для хранения     113       58\n",
      "649     Товары для дома         Блюда и салатники     300      550\n",
      "650     Товары для дома          Бокалы и стаканы     750     1595\n",
      "651     Товары для дома                       Бра     265      452\n",
      "652     Товары для дома                      Вазы     142      142\n",
      "653     Товары для дома         Вешалки напольные     304      562\n",
      "654     Товары для дома  Встраиваемые светильники     306      563\n",
      "655     Товары для дома       Выпечка и запекание     698     1460\n"
     ]
    }
   ],
   "source": [
    "#Youre code is here\n",
    "data_pivot = pd.pivot_table(df, index=['category_name', 'subcategory_name'], values='visits', columns='source',\n",
    "                            aggfunc='sum').reset_index()\n",
    "print((data_pivot[data_pivot['category_name']=='Товары для дома']).head(10))"
   ]
  },
  {
   "cell_type": "markdown",
   "metadata": {},
   "source": [
    "Или, например, мы можем узнать на какие товары запросы с органического трафика в разы больше, чем с прямого. Для этого создадим в таблице data_pivot новый столбец 'ratio' и сохраните в нём значение отношения органического трафика 'organic' к прямому 'direct'. \n",
    "\n",
    "Отсортируем таблицу по столбцу 'ratio' в порядке убывания. Выведите первые 10 строк. \n",
    "\n",
    "data_pivot['ratio'] = data_pivot['organic'] / data_pivot['direct']\n",
    "\n",
    "data_my = data_pivot.sort_values(by = 'ratio', ascending=False)\n",
    "\n",
    "print(data_my.head(10))"
   ]
  },
  {
   "cell_type": "code",
   "execution_count": 24,
   "metadata": {},
   "outputs": [
    {
     "name": "stdout",
     "output_type": "stream",
     "text": [
      "source           category_name                    subcategory_name  direct  \\\n",
      "45                        Авто                                Шины   39638   \n",
      "105            Бытовая техника                   Стиральные машины   22064   \n",
      "468              Спорт и отдых                          Велосипеды   16009   \n",
      "205             Детские товары                             Коляски   18079   \n",
      "609     Строительство и ремонт                  Сварочные аппараты    6175   \n",
      "678            Товары для дома                 Компьютерные кресла    6208   \n",
      "330       Компьютерная техника                          Клавиатуры    6224   \n",
      "921                Электроника  Универсальные внешние аккумуляторы    6146   \n",
      "866                Электроника                           TV-тюнеры    6275   \n",
      "117            Бытовая техника                        Холодильники   20920   \n",
      "\n",
      "source  organic     ratio  \n",
      "45       153859  3.881604  \n",
      "105       64570  2.926487  \n",
      "468       46087  2.878818  \n",
      "205       52005  2.876542  \n",
      "609       17325  2.805668  \n",
      "678       17407  2.803963  \n",
      "330       17417  2.798361  \n",
      "921       17115  2.784738  \n",
      "866       17427  2.777211  \n",
      "117       57985  2.771750  \n"
     ]
    }
   ],
   "source": [
    "#Youre code is here\n",
    "data_pivot['ratio'] = data_pivot['organic'] / data_pivot['direct']\n",
    "\n",
    "data_my = data_pivot.sort_values(by = 'ratio', ascending=False)\n",
    "\n",
    "print(data_my.head(10))"
   ]
  },
  {
   "cell_type": "markdown",
   "metadata": {},
   "source": [
    "# Задачи для самостоятельного выполнения\n",
    "\n",
    "Для начала давайте представим, что мы являемся аналитиками в фирме по продаже компьютеров, программного обеспечения к ним, а также оказываем услуги по техническому сопровождению. Нам поставлена задача проанализировать участие компании в различных аукционах. \n",
    "\n",
    "1. Прочитайте и сохраните файл \"baza.xlsx\" с данными аукционов в переменную data_pd."
   ]
  },
  {
   "cell_type": "code",
   "execution_count": 28,
   "metadata": {},
   "outputs": [
    {
     "name": "stdout",
     "output_type": "stream",
     "text": [
      "<class 'pandas.core.frame.DataFrame'>\n",
      "RangeIndex: 17 entries, 0 to 16\n",
      "Data columns (total 8 columns):\n",
      " #   Column      Non-Null Count  Dtype \n",
      "---  ------      --------------  ----- \n",
      " 0   Аукцион     17 non-null     int64 \n",
      " 1   Контрагент  17 non-null     object\n",
      " 2   Контакт     17 non-null     object\n",
      " 3   Менеджер    17 non-null     object\n",
      " 4   Продукт     17 non-null     object\n",
      " 5   Количество  17 non-null     int64 \n",
      " 6   Цена        17 non-null     int64 \n",
      " 7   Статус      17 non-null     object\n",
      "dtypes: int64(3), object(5)\n",
      "memory usage: 1.2+ KB\n",
      "None\n"
     ]
    }
   ],
   "source": [
    "#Youre code is here\n",
    "data_pd = pd.read_excel(\"baza.xlsx\")\n",
    "print(data_pd.info())"
   ]
  },
  {
   "cell_type": "markdown",
   "metadata": {},
   "source": [
    "2. Cоздайте сводную таблицу сводную таблицу по столбцу Контрагент:"
   ]
  },
  {
   "cell_type": "code",
   "execution_count": 32,
   "metadata": {},
   "outputs": [
    {
     "name": "stdout",
     "output_type": "stream",
     "text": [
      "                Количество     Цена\n",
      "Контрагент                         \n",
      "Альма             3.000000  24500.0\n",
      "Ильин и Ко        3.250000  35775.0\n",
      "Кружка и ложка    2.750000  27000.0\n",
      "Микрошкин         3.500000  23275.0\n",
      "Шахты плюс        1.666667  14900.0\n"
     ]
    }
   ],
   "source": [
    "#Youre code is here\n",
    "print(pd.pivot_table(data_pd, index=['Контрагент'], values=['Количество', 'Цена']).head(5))"
   ]
  },
  {
   "cell_type": "markdown",
   "metadata": {},
   "source": [
    "3. Создайте сводную таблицу по нескольким индексируемым столбцам  'Контакт', 'Менеджер':\n"
   ]
  },
  {
   "cell_type": "code",
   "execution_count": 33,
   "metadata": {},
   "outputs": [
    {
     "name": "stdout",
     "output_type": "stream",
     "text": [
      "                            Количество     Цена\n",
      "Контакт       Менеджер                         \n",
      "Виктор Юдин   Павел Попов     2.750000  27000.0\n",
      "Данил Сидоров Илья Сергеев    1.666667  14900.0\n",
      "Женя Сидин    Илья Сергеев    3.000000  24500.0\n",
      "Сергей Ильин  Илья Сергеев    3.250000  35775.0\n",
      "Сергей Минин  Павел Попов     3.500000  23275.0\n"
     ]
    }
   ],
   "source": [
    "#Youre code is here\n",
    "print(pd.pivot_table(data_pd, index=['Контакт', 'Менеджер'], values=['Количество', 'Цена']).head(5))"
   ]
  },
  {
   "cell_type": "markdown",
   "metadata": {},
   "source": [
    "4. По умолчанию сводная таблица выводится по всем числовым полям, однако это не всегда удобно, а иногда и лишено смысла, поэтому можно выводить сводные данные только по отдельным столбцам. Выведите только столбец \"Стоимость\", для этого добавьте параметр values=['Цена']:"
   ]
  },
  {
   "cell_type": "code",
   "execution_count": 34,
   "metadata": {},
   "outputs": [
    {
     "name": "stdout",
     "output_type": "stream",
     "text": [
      "                               Цена\n",
      "Контакт       Менеджер             \n",
      "Виктор Юдин   Павел Попов   27000.0\n",
      "Данил Сидоров Илья Сергеев  14900.0\n",
      "Женя Сидин    Илья Сергеев  24500.0\n",
      "Сергей Ильин  Илья Сергеев  35775.0\n",
      "Сергей Минин  Павел Попов   23275.0\n"
     ]
    }
   ],
   "source": [
    "#Youre code is here\n",
    "print(pd.pivot_table(data_pd, index=['Контакт', 'Менеджер'], values=['Цена']).head(5))"
   ]
  },
  {
   "cell_type": "markdown",
   "metadata": {},
   "source": [
    "5. Столбец с ценой по умолчанию выводит среднее значение, однако нам скорее интересна сумма продаж. Добавляем параметр aggfunc='sum':"
   ]
  },
  {
   "cell_type": "code",
   "execution_count": 35,
   "metadata": {},
   "outputs": [
    {
     "name": "stdout",
     "output_type": "stream",
     "text": [
      "                              Цена\n",
      "Контакт       Менеджер            \n",
      "Виктор Юдин   Павел Попов   108000\n",
      "Данил Сидоров Илья Сергеев   44700\n",
      "Женя Сидин    Илья Сергеев   49000\n",
      "Сергей Ильин  Илья Сергеев  143100\n",
      "Сергей Минин  Павел Попов    93100\n"
     ]
    }
   ],
   "source": [
    "#Youre code is here\n",
    "print(pd.pivot_table(data_pd, index=['Контакт', 'Менеджер'], values=['Цена'], aggfunc='sum').head(5))"
   ]
  },
  {
   "cell_type": "markdown",
   "metadata": {},
   "source": [
    "6. С помощью параметра columns выведите в столбцы наименование продуктов:"
   ]
  },
  {
   "cell_type": "code",
   "execution_count": 36,
   "metadata": {},
   "outputs": [
    {
     "name": "stdout",
     "output_type": "stream",
     "text": [
      "                                Цена                                    \n",
      "Продукт                    Компьютер Монитор     Софт Тех. сопровождение\n",
      "Контакт       Менеджер                                                  \n",
      "Виктор Юдин   Павел Попов    83900.0  9300.0      NaN            14800.0\n",
      "Данил Сидоров Илья Сергеев   38000.0     NaN   6700.0                NaN\n",
      "Женя Сидин    Илья Сергеев   42000.0     NaN      NaN             7000.0\n",
      "Сергей Ильин  Илья Сергеев   84300.0     NaN  37600.0            21200.0\n",
      "Сергей Минин  Павел Попов    43900.0     NaN  46900.0             2300.0\n"
     ]
    }
   ],
   "source": [
    "#Youre code is here\n",
    "print(pd.pivot_table(data_pd, index=['Контакт', 'Менеджер'],columns=['Продукт'], values=['Цена'], aggfunc='sum').head(5))"
   ]
  },
  {
   "cell_type": "markdown",
   "metadata": {},
   "source": [
    "7. Наверное вы обратили внимание, что в ячейках, где нет данных пусто, хотя нам привычнее, что бы в таких полях указывалось бы значение 0. Добавьте параметр fill_value=0:"
   ]
  },
  {
   "cell_type": "code",
   "execution_count": 37,
   "metadata": {},
   "outputs": [
    {
     "name": "stdout",
     "output_type": "stream",
     "text": [
      "                                Цена                                  \n",
      "Продукт                    Компьютер Монитор   Софт Тех. сопровождение\n",
      "Контакт       Менеджер                                                \n",
      "Виктор Юдин   Павел Попов      83900    9300      0              14800\n",
      "Данил Сидоров Илья Сергеев     38000       0   6700                  0\n",
      "Женя Сидин    Илья Сергеев     42000       0      0               7000\n",
      "Сергей Ильин  Илья Сергеев     84300       0  37600              21200\n",
      "Сергей Минин  Павел Попов      43900       0  46900               2300\n"
     ]
    }
   ],
   "source": [
    "#Youre code is here\n",
    "print(pd.pivot_table(data_pd, index=['Контакт', 'Менеджер'],columns=['Продукт'], values=['Цена'], aggfunc='sum', fill_value=0).head(5))"
   ]
  },
  {
   "cell_type": "markdown",
   "metadata": {},
   "source": [
    "8. Вероятно полезно было бы рассматривать эффективность деятельности наших менеджеров не только по стоимости продаж, но и по их количеству. Добавьте в параметр values переменную  \"Количество\""
   ]
  },
  {
   "cell_type": "code",
   "execution_count": 38,
   "metadata": {},
   "outputs": [
    {
     "name": "stdout",
     "output_type": "stream",
     "text": [
      "                           Количество                                  \\\n",
      "Продукт                     Компьютер Монитор Софт Тех. сопровождение   \n",
      "Контакт       Менеджер                                                  \n",
      "Виктор Юдин   Павел Попов           6       4    0                  1   \n",
      "Данил Сидоров Илья Сергеев          4       0    1                  0   \n",
      "Женя Сидин    Илья Сергеев          4       0    0                  2   \n",
      "Сергей Ильин  Илья Сергеев          9       0    2                  2   \n",
      "Сергей Минин  Павел Попов           8       0    4                  2   \n",
      "\n",
      "                                Цена                                    \n",
      "Продукт                    Компьютер Монитор   Софт Тех. сопровождение  \n",
      "Контакт       Менеджер                                                  \n",
      "Виктор Юдин   Павел Попов      83900    9300      0              14800  \n",
      "Данил Сидоров Илья Сергеев     38000       0   6700                  0  \n",
      "Женя Сидин    Илья Сергеев     42000       0      0               7000  \n",
      "Сергей Ильин  Илья Сергеев     84300       0  37600              21200  \n",
      "Сергей Минин  Павел Попов      43900       0  46900               2300  \n"
     ]
    }
   ],
   "source": [
    "#Youre code is here\n",
    "print(pd.pivot_table(data_pd, index=['Контакт', 'Менеджер'],columns=['Продукт'], values=['Цена', 'Количество'], aggfunc='sum', fill_value=0).head(5))"
   ]
  },
  {
   "cell_type": "markdown",
   "metadata": {},
   "source": [
    "9. Выведите продажи только менеджера \"Илья Сергеев\":"
   ]
  },
  {
   "cell_type": "code",
   "execution_count": 44,
   "metadata": {},
   "outputs": [
    {
     "name": "stdout",
     "output_type": "stream",
     "text": [
      "               Контакт      Менеджер      Цена                 \\\n",
      "Продукт                              Компьютер Монитор   Софт   \n",
      "1        Данил Сидоров  Илья Сергеев     38000       0   6700   \n",
      "2           Женя Сидин  Илья Сергеев     42000       0      0   \n",
      "3         Сергей Ильин  Илья Сергеев     84300       0  37600   \n",
      "\n",
      "                            \n",
      "Продукт Тех. сопровождение  \n",
      "1                        0  \n",
      "2                     7000  \n",
      "3                    21200  \n"
     ]
    }
   ],
   "source": [
    "#Youre code is here\n",
    "final_pivot = pd.pivot_table(data_pd, index=['Контакт', 'Менеджер'],columns=['Продукт'], values=['Цена'], aggfunc='sum', fill_value=0).reset_index()\n",
    "print(final_pivot[final_pivot['Менеджер'] == \"Илья Сергеев\"].head(10))"
   ]
  }
 ],
 "metadata": {
  "kernelspec": {
   "display_name": "Python 3",
   "language": "python",
   "name": "python3"
  },
  "language_info": {
   "codemirror_mode": {
    "name": "ipython",
    "version": 3
   },
   "file_extension": ".py",
   "mimetype": "text/x-python",
   "name": "python",
   "nbconvert_exporter": "python",
   "pygments_lexer": "ipython3",
   "version": "3.13.1"
  }
 },
 "nbformat": 4,
 "nbformat_minor": 4
}
