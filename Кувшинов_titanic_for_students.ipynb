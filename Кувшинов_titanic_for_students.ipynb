{
  "cells": [
    {
      "cell_type": "markdown",
      "metadata": {
        "id": "view-in-github",
        "colab_type": "text"
      },
      "source": [
        "<a href=\"https://colab.research.google.com/github/RayKoltner/datascience/blob/main/%D0%9A%D1%83%D0%B2%D1%88%D0%B8%D0%BD%D0%BE%D0%B2_titanic_for_students.ipynb\" target=\"_parent\"><img src=\"https://colab.research.google.com/assets/colab-badge.svg\" alt=\"Open In Colab\"/></a>"
      ]
    },
    {
      "cell_type": "markdown",
      "metadata": {
        "id": "FtNCYtAu2oZ2"
      },
      "source": [
        "## Получение данных\n"
      ]
    },
    {
      "cell_type": "markdown",
      "metadata": {
        "id": "mXqM_KvJ2oZ6"
      },
      "source": [
        "Знакомому формату электронной таблицы Excel в Pandas соответствует структура данных DataFrame. Аналитики обычно называют такие объекты просто DataFrame.\n",
        "В рабочей практике вы столкнётесь с тем, что данные хранят в файлах разных форматов. Из них самый распространённый – CSV (от англ. Comma-Separated Values, «значения, разделённые запятой»). Каждая строка такого файла представляет собой одну строку таблицы, где данные разделены запятыми. В первой строке собраны заголовки столбцов (если они есть).\n",
        "\n",
        "Файлы CSV удобнее всего открывать вызовом метода read_csv() из библиотеки Pandas.\n",
        "Команда для открыия файла имеет вид:\n",
        "**import pandas as pd\n",
        "df = pd.read_csv('music_log.csv') # аргумент - путь к файлу**\n",
        "\n",
        "Теперь все данные из файла можно напечатать на экране командой **print(df)**, но это не всегда нужно делать — не исключено, что таблица огромна и неудобна для изучения. Для знакомства с данными запрашивают несколько строк из начала или конца таблицы, вызывая специальные методы **head()** и **tail()**. По умолчанию **head()** возвращает первые 5 строк набора данных, а метод **tail()** – последние 5 строк. Когда нужно не 5, количество строк передаётся этим методам как аргумент. Например, **head(10)** вернёт первые 10 строк.\n",
        "\n",
        "1. Загрузите базу данных по пассажирам “Титаника”.  https://raw.githubusercontent.com/allatambov/Py-programming-3/master/28-05/Titanic.csv.\n",
        "2. Выведите на печать первые десять строк таблицы.\n",
        "\n",
        "\n"
      ]
    },
    {
      "cell_type": "code",
      "execution_count": 1,
      "metadata": {
        "id": "b_DlUOV-2oZ8",
        "outputId": "b422108c-cf03-4199-af12-cfc02a7273d0",
        "colab": {
          "base_uri": "https://localhost:8080/"
        }
      },
      "outputs": [
        {
          "output_type": "stream",
          "name": "stdout",
          "text": [
            "   PassengerId  Survived  Pclass  \\\n",
            "0            1         0       3   \n",
            "1            2         1       1   \n",
            "2            3         1       3   \n",
            "3            4         1       1   \n",
            "4            5         0       3   \n",
            "5            6         0       3   \n",
            "6            7         0       1   \n",
            "7            8         0       3   \n",
            "8            9         1       3   \n",
            "9           10         1       2   \n",
            "\n",
            "                                                Name     Sex   Age  SibSp  \\\n",
            "0                            Braund, Mr. Owen Harris    male  22.0      1   \n",
            "1  Cumings, Mrs. John Bradley (Florence Briggs Th...  female  38.0      1   \n",
            "2                             Heikkinen, Miss. Laina  female  26.0      0   \n",
            "3       Futrelle, Mrs. Jacques Heath (Lily May Peel)  female  35.0      1   \n",
            "4                           Allen, Mr. William Henry    male  35.0      0   \n",
            "5                                   Moran, Mr. James    male   NaN      0   \n",
            "6                            McCarthy, Mr. Timothy J    male  54.0      0   \n",
            "7                     Palsson, Master. Gosta Leonard    male   2.0      3   \n",
            "8  Johnson, Mrs. Oscar W (Elisabeth Vilhelmina Berg)  female  27.0      0   \n",
            "9                Nasser, Mrs. Nicholas (Adele Achem)  female  14.0      1   \n",
            "\n",
            "   Parch            Ticket     Fare Cabin Embarked  \n",
            "0      0         A/5 21171   7.2500   NaN        S  \n",
            "1      0          PC 17599  71.2833   C85        C  \n",
            "2      0  STON/O2. 3101282   7.9250   NaN        S  \n",
            "3      0            113803  53.1000  C123        S  \n",
            "4      0            373450   8.0500   NaN        S  \n",
            "5      0            330877   8.4583   NaN        Q  \n",
            "6      0             17463  51.8625   E46        S  \n",
            "7      1            349909  21.0750   NaN        S  \n",
            "8      2            347742  11.1333   NaN        S  \n",
            "9      0            237736  30.0708   NaN        C  \n"
          ]
        }
      ],
      "source": [
        "import pandas as pd\n",
        "\n",
        "df = pd.read_csv('https://raw.githubusercontent.com/allatambov/Py-programming-3/master/28-05/Titanic.csv')\n",
        "\n",
        "print(df.head(10))"
      ]
    },
    {
      "cell_type": "markdown",
      "metadata": {
        "id": "PHVPX4ao2oZ-"
      },
      "source": [
        "## Объект DataFrame"
      ]
    },
    {
      "cell_type": "markdown",
      "metadata": {
        "id": "-mZ1-rxB2oZ_"
      },
      "source": [
        "Таблица, которую мы получили, хранится в структуре данных DataFrame. DataFrame — это двумерная структура данных Pandas, где у каждого элемента есть две координаты: по строке и по столбцу. Вы видите две оси, которые формируют объект DataFrame. Первая ось называется индексы, вторая ось — столбцы. По умолчанию индексация в DataFrame начинается с нуля.\n",
        "Каждая строка — это одно наблюдение, запись об объекте исследования. А столбцы — признаки объектов. В нашем случае одна строка — это информация об одном пассажире, включая класс, фамилию-имя, возраст и т.д.\n",
        "Подробнее об этом датасете можно почитать здесь http://campus.lakeforest.edu/frank/FILES/MLFfiles/Bio150/Titanic/TitanicMETA.pdf.\n",
        "Для лучшего понимания данных полезно получить доступ к их описанию. Это либо документация со сведениями о содержании каждого столбца, либо – не самый лучший вариант – рассказ человека, который предоставил вам эту информацию.\n",
        "Такое описание поможет нам ставить себе корректные задачи.\n",
        "\n",
        "У DataFrame есть неотъемлемые свойства, значения которых можно запросить. Они называются атрибуты. Например, атрибут columns содержит информацию о названиях столбцов в наборе данных.\n",
        "**print(df.columns)**\n"
      ]
    },
    {
      "cell_type": "code",
      "execution_count": 2,
      "metadata": {
        "id": "kQbQzNe82oZ_",
        "outputId": "dd8d4f20-3a17-4d3b-b64e-a0db01872b65",
        "colab": {
          "base_uri": "https://localhost:8080/"
        }
      },
      "outputs": [
        {
          "output_type": "stream",
          "name": "stdout",
          "text": [
            "Index(['PassengerId', 'Survived', 'Pclass', 'Name', 'Sex', 'Age', 'SibSp',\n",
            "       'Parch', 'Ticket', 'Fare', 'Cabin', 'Embarked'],\n",
            "      dtype='object')\n"
          ]
        }
      ],
      "source": [
        "print(df.columns)"
      ]
    },
    {
      "cell_type": "markdown",
      "metadata": {
        "id": "MHe-rA8-2oZ_"
      },
      "source": [
        "В данном случае атрибут **columns** вернул список названий столбцов и сообщил, что каждое из них имеет тип данных **object**.\n",
        "Вообще типы данных могут быть разные. Для просмотра типа данных каждого столбца лучше всего использовать атрибут **dtypes**.\n"
      ]
    },
    {
      "cell_type": "code",
      "execution_count": 3,
      "metadata": {
        "id": "SGiHo-412oZ_",
        "outputId": "07c5c110-553c-41d9-a020-d97864263984",
        "colab": {
          "base_uri": "https://localhost:8080/"
        }
      },
      "outputs": [
        {
          "output_type": "stream",
          "name": "stdout",
          "text": [
            "PassengerId      int64\n",
            "Survived         int64\n",
            "Pclass           int64\n",
            "Name            object\n",
            "Sex             object\n",
            "Age            float64\n",
            "SibSp            int64\n",
            "Parch            int64\n",
            "Ticket          object\n",
            "Fare           float64\n",
            "Cabin           object\n",
            "Embarked        object\n",
            "dtype: object\n"
          ]
        }
      ],
      "source": [
        " print(df.dtypes)"
      ]
    },
    {
      "cell_type": "markdown",
      "metadata": {
        "id": "vbDM-ivU2oZ_"
      },
      "source": [
        "Типы данных, о которых сообщают нам атрибуты — это типы данных библиотеки Pandas. Каждому из них соответствует определённый тип данных языка Python.\n",
        "Так, для **int** таким «двойником» в Pandas будет **int64**. Тип данных object используется, когда данные не подходят ни под одну категорию или соответствуют в Python типу «строка». Вот таблица соответствия типов данных Pandas и Python:\n",
        "PANDASDTYPE    PYTHON TYPE\t     ЗНАЧЕНИЕ\n",
        "object\t          str \t         Строка\n",
        "int64\t          int\t         Целые числа\n",
        "float64\t         float\t         Вещественные числа\n",
        "bool\t          bool\t         Логический тип данных\n",
        "О размерах таблицы с данными сообщает её атрибут **shape**. В результате получается кортеж (неизменяемый список) из двух чисел: первое – количество строк, второе – количество столбцов.\n"
      ]
    },
    {
      "cell_type": "code",
      "execution_count": 4,
      "metadata": {
        "id": "vUmsRgZ62oZ_",
        "outputId": "46f861f3-d9fa-4c54-9535-65fbb0506840",
        "colab": {
          "base_uri": "https://localhost:8080/"
        }
      },
      "outputs": [
        {
          "output_type": "stream",
          "name": "stdout",
          "text": [
            "(891, 12)\n"
          ]
        }
      ],
      "source": [
        "print(df.shape)"
      ]
    },
    {
      "cell_type": "markdown",
      "metadata": {
        "id": "X34GoaRY2oZ_"
      },
      "source": [
        "Всю информацию, которую предоставляют разные атрибуты **DataFrame**, можно получить вызовом одного-единственного метода **info()**. Изучив результаты, которые этот метод возвращает, аналитик выбирает тактику дальнейшей работы с таблицей."
      ]
    },
    {
      "cell_type": "code",
      "execution_count": 5,
      "metadata": {
        "id": "0sGWDWfw2oZ_",
        "outputId": "3736a0cd-e935-466b-ec61-40daf2d22a6c",
        "colab": {
          "base_uri": "https://localhost:8080/"
        }
      },
      "outputs": [
        {
          "output_type": "stream",
          "name": "stdout",
          "text": [
            "<class 'pandas.core.frame.DataFrame'>\n",
            "RangeIndex: 891 entries, 0 to 890\n",
            "Data columns (total 12 columns):\n",
            " #   Column       Non-Null Count  Dtype  \n",
            "---  ------       --------------  -----  \n",
            " 0   PassengerId  891 non-null    int64  \n",
            " 1   Survived     891 non-null    int64  \n",
            " 2   Pclass       891 non-null    int64  \n",
            " 3   Name         891 non-null    object \n",
            " 4   Sex          891 non-null    object \n",
            " 5   Age          714 non-null    float64\n",
            " 6   SibSp        891 non-null    int64  \n",
            " 7   Parch        891 non-null    int64  \n",
            " 8   Ticket       891 non-null    object \n",
            " 9   Fare         891 non-null    float64\n",
            " 10  Cabin        204 non-null    object \n",
            " 11  Embarked     889 non-null    object \n",
            "dtypes: float64(2), int64(5), object(5)\n",
            "memory usage: 83.7+ KB\n",
            "None\n"
          ]
        }
      ],
      "source": [
        "print(df.info())"
      ]
    },
    {
      "cell_type": "markdown",
      "metadata": {
        "id": "WzjqUxX42oZ_"
      },
      "source": [
        "Например, здесь в рахных стольцах разное количество элементов с определёнными значениями (non-null). Следовательно, в таблице есть пропущенные значения (null). Прежде чем анализировать такие данные, их нужно обработать. Это одна из самых интересных задач аналитика, и мы поговорим о ней подробнее в следующей теме."
      ]
    },
    {
      "cell_type": "markdown",
      "metadata": {
        "id": "wLCmk1pm2oZ_"
      },
      "source": [
        "## Задачи\n",
        "1. Прочитайте файл **student-mat.csv** и сохраните его в переменной **df**. Выведите на экран первые 10 строк таблицы, изучите данныи и описание к таблице. Создайте переменную **shape_table** и сохраните в ней размеры таблицы **student-mat.csv**. Напечатайте на экране размер таблицы в таком виде:\n",
        "Размер таблицы: ...\n",
        "2. Сколько наблюдений в наборе данных? В переменной **shape_table** хранится кортеж. Его первый элемент — количество наблюдений, который надо сохранить в переменной **observations_table** (не забывайте, что индексация элементов идёт с 0). Напечатайте на экране ответ в таком виде:\n",
        "Количество наблюдений: ...\n",
        "3. Найдите в информации, которую вернул метод **info()**, число наблюдений. Вручную присвойте это число как значение переменной **observations_info_table**.\n",
        "4. Поскольку в ходе работы аналитик объявляет разные переменные и сохраняет в них добытую разными способами информацию, запутаться очень легко. Именно поэтому необходимо проверять себя и текущие результаты. Сравните полученные результаты в переменных observations_info_table и observations_table. Если значения переменных совпадают, то выведите количество наблюдений и сообщение:\n",
        "'Решение верно, количество наблюдений равно', observations_table   \n",
        "Если значения переменных не совпадают, то выведите сообщение:\n",
        "'Решение неверно, проверьте ещё раз!'\n"
      ]
    },
    {
      "cell_type": "code",
      "source": [
        "df = pd.read_csv('https://raw.githubusercontent.com/RayKoltner/datascience/refs/heads/main/student-mat.csv')\n",
        "print(df.head(10))\n",
        "print(df.info())\n",
        "\n",
        "shape_table = df.shape\n",
        "print(f\"Размер таблицы: {shape_table}\")"
      ],
      "metadata": {
        "id": "YJScwDvC5cGK",
        "outputId": "88385afc-3e93-4c5a-b2d0-815388ac7e1a",
        "colab": {
          "base_uri": "https://localhost:8080/"
        }
      },
      "execution_count": 11,
      "outputs": [
        {
          "output_type": "stream",
          "name": "stdout",
          "text": [
            "  school sex  age address famsize Pstatus  Medu  Fedu      Mjob      Fjob  \\\n",
            "0     GP   F   18       U     GT3       A     4     4   at_home   teacher   \n",
            "1     GP   F   17       U     GT3       T     1     1   at_home     other   \n",
            "2     GP   F   15       U     LE3       T     1     1   at_home     other   \n",
            "3     GP   F   15       U     GT3       T     4     2    health  services   \n",
            "4     GP   F   16       U     GT3       T     3     3     other     other   \n",
            "5     GP   M   16       U     LE3       T     4     3  services     other   \n",
            "6     GP   M   16       U     LE3       T     2     2     other     other   \n",
            "7     GP   F   17       U     GT3       A     4     4     other   teacher   \n",
            "8     GP   M   15       U     LE3       A     3     2  services     other   \n",
            "9     GP   M   15       U     GT3       T     3     4     other     other   \n",
            "\n",
            "   ... famrel freetime  goout  Dalc  Walc health absences  G1  G2  G3  \n",
            "0  ...      4        3      4     1     1      3        6   5   6   6  \n",
            "1  ...      5        3      3     1     1      3        4   5   5   6  \n",
            "2  ...      4        3      2     2     3      3       10   7   8  10  \n",
            "3  ...      3        2      2     1     1      5        2  15  14  15  \n",
            "4  ...      4        3      2     1     2      5        4   6  10  10  \n",
            "5  ...      5        4      2     1     2      5       10  15  15  15  \n",
            "6  ...      4        4      4     1     1      3        0  12  12  11  \n",
            "7  ...      4        1      4     1     1      1        6   6   5   6  \n",
            "8  ...      4        2      2     1     1      1        0  16  18  19  \n",
            "9  ...      5        5      1     1     1      5        0  14  15  15  \n",
            "\n",
            "[10 rows x 33 columns]\n",
            "<class 'pandas.core.frame.DataFrame'>\n",
            "RangeIndex: 395 entries, 0 to 394\n",
            "Data columns (total 33 columns):\n",
            " #   Column      Non-Null Count  Dtype \n",
            "---  ------      --------------  ----- \n",
            " 0   school      395 non-null    object\n",
            " 1   sex         395 non-null    object\n",
            " 2   age         395 non-null    int64 \n",
            " 3   address     395 non-null    object\n",
            " 4   famsize     395 non-null    object\n",
            " 5   Pstatus     395 non-null    object\n",
            " 6   Medu        395 non-null    int64 \n",
            " 7   Fedu        395 non-null    int64 \n",
            " 8   Mjob        395 non-null    object\n",
            " 9   Fjob        395 non-null    object\n",
            " 10  reason      395 non-null    object\n",
            " 11  guardian    395 non-null    object\n",
            " 12  traveltime  395 non-null    int64 \n",
            " 13  studytime   395 non-null    int64 \n",
            " 14  failures    395 non-null    int64 \n",
            " 15  schoolsup   395 non-null    object\n",
            " 16  famsup      395 non-null    object\n",
            " 17  paid        395 non-null    object\n",
            " 18  activities  395 non-null    object\n",
            " 19  nursery     395 non-null    object\n",
            " 20  higher      395 non-null    object\n",
            " 21  internet    395 non-null    object\n",
            " 22  romantic    395 non-null    object\n",
            " 23  famrel      395 non-null    int64 \n",
            " 24  freetime    395 non-null    int64 \n",
            " 25  goout       395 non-null    int64 \n",
            " 26  Dalc        395 non-null    int64 \n",
            " 27  Walc        395 non-null    int64 \n",
            " 28  health      395 non-null    int64 \n",
            " 29  absences    395 non-null    int64 \n",
            " 30  G1          395 non-null    int64 \n",
            " 31  G2          395 non-null    int64 \n",
            " 32  G3          395 non-null    int64 \n",
            "dtypes: int64(16), object(17)\n",
            "memory usage: 102.0+ KB\n",
            "None\n",
            "Размер таблицы: (395, 33)\n"
          ]
        }
      ]
    },
    {
      "cell_type": "code",
      "source": [
        "observations_table = shape_table[0]\n",
        "print(f\"Количество наблюдений: {observations_table}\")"
      ],
      "metadata": {
        "id": "w9n41Qbw62IS",
        "outputId": "369c6055-70f2-4cd8-a953-2b1e4d2ff714",
        "colab": {
          "base_uri": "https://localhost:8080/"
        }
      },
      "execution_count": 12,
      "outputs": [
        {
          "output_type": "stream",
          "name": "stdout",
          "text": [
            "Количество наблюдений: 395\n"
          ]
        }
      ]
    },
    {
      "cell_type": "code",
      "source": [
        "observations_info_table = 395"
      ],
      "metadata": {
        "id": "a5Wbe_ZB62ii"
      },
      "execution_count": 14,
      "outputs": []
    },
    {
      "cell_type": "code",
      "source": [
        "if observations_info_table == observations_table:\n",
        "  print(\"Решение верно, количество наблюдений равно\")\n",
        "else:\n",
        "  print(\"Решение неверно, проверьте ещё раз\")"
      ],
      "metadata": {
        "id": "5YwG1irU62wy",
        "outputId": "b1f293b2-1b29-4fab-b4ef-6203f3de2431",
        "colab": {
          "base_uri": "https://localhost:8080/"
        }
      },
      "execution_count": 15,
      "outputs": [
        {
          "output_type": "stream",
          "name": "stdout",
          "text": [
            "Решение верно, количество наблюдений равно\n"
          ]
        }
      ]
    },
    {
      "cell_type": "markdown",
      "metadata": {
        "id": "yqAl_r3N2oaA"
      },
      "source": [
        "## Идексация в DataFrame\n",
        "К каждой ячейке с данными в **DataFrame** можно обратиться по её индексу и названию столбца. Мы можем получать различные срезы данных в зависимости от того, какой запрос к **DataFrame** мы сформулируем. Этот процесс называется индексация. Для **DataFrame** она проводится разными способами.\n",
        "Атрибут **loc[строка, столбец]** даёт доступ к элементу по строке и столбцу.\n",
        "\n",
        "ВИД\t                                                  РЕАЛИЗАЦИЯ\n",
        "Одна ячейка\t                                         .loc[7, 'genre']\n",
        "Один столбец\t                                     .loc[:, 'genre']\n",
        "Несколько столбцов                                   .loc[:, ['genre', 'Artist']]\n",
        "Несколько столбцов подряд (срез)\t                 .loc[:, 'user_id': 'genre']\n",
        "Одна строка\t                                         .loc[1]\n",
        "Все строки, начиная с заданной\t                     .loc[1:]\n",
        "Все строки до заданной\t                             .loc[:3]\n",
        "Несколько строк подряд (срез)\t                     .loc[2:5]\n",
        "\n",
        "Также вы могли заметить, что запрос к атрибуту loc[] использует квадратные скобки, это напоминает списки в Python. Индексация здесь очень похожа на индексацию списков.\n",
        "Важное замечание: когда мы используем срезы в списках, то конец среза не включается в результат. А вот атрибут .loc[] тем и выделяется, что включает и начало, и конец среза.\n",
        "Например, есть список исполнителей:\n",
        "\n",
        "**artist = ['Marina Rei', 'Stive Morgan','Rixton','Henry Hall & His Gleneagles Hotel Band', 'Andrew Paul Woodworth', 'Pillar Point','Steve Campbell','David Civera','Lumipa Beats', 'Henning Wehland']**\n",
        "Элементы с 2 по 4 получают запросом:\n",
        "**print(artist[2:5])**\n",
        "['Rixton', 'Henry Hall & His Gleneagles Hotel Band', 'Andrew Paul Woodworth']\n",
        "Последним в запросе указан индекс 5 — именно для того, чтобы в срез попал элемент с индексом 4. Запрос на получение со 2 по 4 строки в таблице будет выглядеть вот так:\n",
        "\n",
        "**print(df.loc[2:4])**\n",
        "Самые ходовые запросы, которые вам предстоит делать как аналитику данных это запрашивать один столбец, одну строку, диапазон столбцов и диапазон строк.\n",
        "Для подсчета количества определенных значений в срезе данных в  Pandas для этого есть метод count().\n",
        "Например, на нужно подсчитать количество детей, младше трех лет на Титанике. Для столбца 'Age' таблицы  такие ячейки отвечают логическому условию df.loc[:,Age']<3.\n",
        "Поскольку в указании, какие именно значения считать, нужен логический оператор, такой доступ к значению ячейки называют логическая индексация.\n",
        "\n"
      ]
    },
    {
      "cell_type": "code",
      "execution_count": 23,
      "metadata": {
        "id": "uYJsS8vI2oaA",
        "outputId": "8d402c59-04c0-4b12-cf4a-631c5f9f79d3",
        "colab": {
          "base_uri": "https://localhost:8080/"
        }
      },
      "outputs": [
        {
          "output_type": "execute_result",
          "data": {
            "text/plain": [
              "24"
            ]
          },
          "metadata": {},
          "execution_count": 23
        }
      ],
      "source": [
        "titanic = pd.read_csv('https://raw.githubusercontent.com/allatambov/Py-programming-3/master/28-05/Titanic.csv')\n",
        "\n",
        "titanic.loc[titanic.loc[:,'Age']<3]['Age'].count()"
      ]
    },
    {
      "cell_type": "markdown",
      "metadata": {
        "id": "XC7yyf2A2oaA"
      },
      "source": [
        "ВИД\t                                                  РЕАЛИЗАЦИЯ\t                       СОКРАЩЁННАЯ ЗАПИСЬ\n",
        "Все строки, удовлетворяющие условию\t    battle.loc[battle.loc[:,'В'] == 'X']\t        battle[battle['В'] == 'X']\n",
        "Столбец, удовлетворяющий условию\t   battle.loc[battle.loc[:,'В'] == 'X']['В']\t    battle[battle['В'] == 'X']['В']\n",
        "Применение метода\t              battle.loc[battle.loc[:,'В'] == 'X']['В'].count()\t    battle[battle['В'] == 'X']['В'].count()\n"
      ]
    },
    {
      "cell_type": "markdown",
      "metadata": {
        "id": "M78NHwat2oaA"
      },
      "source": [
        "## Задачи\n",
        "1. Получите таблицу, состоящую из столбцов Medu и Fedu. Сохраните её в переменной parents. Выведите на экран превые 20 строк.\n",
        "2. Посчитайте число матерей студентов с высшим образованием. Для этого лучше всего использовать логическое условие parents ['Medu'] == 4. Сохраните результат в переменной mother_hight. Напечатайте ответ на экране в таком виде:\n",
        "Число матерей с высшим образованием равно ...\n",
        "\n",
        "3. Теперь посчитайте число отцов студентов с высшим образованием. Допишите в код подсчёт, похожий на предыдущий, только с логическим условием parents ['Fedu'] == 4.. Сохраните результат в переменной father_hight. Напечатайте ответ на экране в таком виде:\n",
        "Число отцов с высшим образованием равно ...\n",
        "4. Напишите условную конструкцию, которая сравнивает полученные значения и выводит информацию о победителе в этом бою!))"
      ]
    },
    {
      "cell_type": "code",
      "source": [
        "parents = df.loc[:,['Medu', 'Fedu']]\n",
        "print(parents.head(10))"
      ],
      "metadata": {
        "id": "8mCNpNHp-tZE",
        "outputId": "82d21f67-f22f-4241-86dc-93668a8c7643",
        "colab": {
          "base_uri": "https://localhost:8080/"
        }
      },
      "execution_count": 24,
      "outputs": [
        {
          "output_type": "stream",
          "name": "stdout",
          "text": [
            "   Medu  Fedu\n",
            "0     4     4\n",
            "1     1     1\n",
            "2     1     1\n",
            "3     4     2\n",
            "4     3     3\n",
            "5     4     3\n",
            "6     2     2\n",
            "7     4     4\n",
            "8     3     2\n",
            "9     3     4\n"
          ]
        }
      ]
    },
    {
      "cell_type": "code",
      "source": [
        "mother_hight = parents[parents['Medu'] == 4]['Medu'].count()\n",
        "print(f\"Число матерей с высшим образованием равно {mother_hight}\")"
      ],
      "metadata": {
        "id": "Nvx67oJa-tjU",
        "outputId": "a72d9092-c30d-4b4e-f627-b53672f3bd26",
        "colab": {
          "base_uri": "https://localhost:8080/"
        }
      },
      "execution_count": 28,
      "outputs": [
        {
          "output_type": "stream",
          "name": "stdout",
          "text": [
            "Число матерей с высшим образованием равно 131\n"
          ]
        }
      ]
    },
    {
      "cell_type": "code",
      "source": [
        "father_hight = parents[parents['Fedu'] == 4]['Fedu'].count()\n",
        "print(f\"Число отцов с высшим образованием равно {father_hight}\")"
      ],
      "metadata": {
        "id": "IhWh7aw7-tqc",
        "outputId": "93eeac3e-a758-4254-9a62-945bbc2e0c0b",
        "colab": {
          "base_uri": "https://localhost:8080/"
        }
      },
      "execution_count": 30,
      "outputs": [
        {
          "output_type": "stream",
          "name": "stdout",
          "text": [
            "Число отцов с высшим образованием равно 96\n"
          ]
        }
      ]
    },
    {
      "cell_type": "code",
      "source": [
        "if father_hight > mother_hight:\n",
        "  print('Отцы победили')\n",
        "elif father_hight == mother_hight:\n",
        "  print('Ничья')\n",
        "else:\n",
        "  print('Матери победили')"
      ],
      "metadata": {
        "id": "zZTxA3mR-t1E",
        "outputId": "facf8e08-5015-4062-e296-a702573b0395",
        "colab": {
          "base_uri": "https://localhost:8080/"
        }
      },
      "execution_count": 31,
      "outputs": [
        {
          "output_type": "stream",
          "name": "stdout",
          "text": [
            "Матери победили\n"
          ]
        }
      ]
    },
    {
      "cell_type": "markdown",
      "metadata": {
        "id": "DGQ8AzF72oaA"
      },
      "source": [
        "## Объект Series"
      ]
    },
    {
      "cell_type": "markdown",
      "metadata": {
        "id": "q1pwffph2oaA"
      },
      "source": [
        "В таблице, которую мы рассматривали весь прошлый урок, каждый столбец сам по себе — вовсе не структура данных DataFrame."
      ]
    },
    {
      "cell_type": "code",
      "execution_count": null,
      "metadata": {
        "id": "H5lOd2__2oaA",
        "outputId": "ff31d0e9-370d-47a9-a285-e5ab599620f5"
      },
      "outputs": [
        {
          "data": {
            "text/plain": [
              "pandas.core.frame.DataFrame"
            ]
          },
          "execution_count": 50,
          "metadata": {},
          "output_type": "execute_result"
        }
      ],
      "source": [
        "type(df) #Таблица всё так же имеет тип DataFrame.\n"
      ]
    },
    {
      "cell_type": "code",
      "execution_count": null,
      "metadata": {
        "id": "tMT5DzFi2oaB",
        "outputId": "bd0a7a6b-f0b4-4d12-a0a0-3faf106d201d"
      },
      "outputs": [
        {
          "data": {
            "text/plain": [
              "pandas.core.series.Series"
            ]
          },
          "execution_count": 51,
          "metadata": {},
          "output_type": "execute_result"
        }
      ],
      "source": [
        "type(df['Age']) #Но если мы возьмём отдельный столбец таблицы, то он представляет собой совсем иную структуру данных — Series."
      ]
    },
    {
      "cell_type": "markdown",
      "metadata": {
        "id": "QmKJTPK12oaB"
      },
      "source": [
        "Series — одномерная таблица, и её элементы можно получить по индексу. Каждый индекс — это номер отдельного наблюдения, и поэтому несколько различных Series вместе составляют DataFrame. В Series хранятся данные одного типа. У каждой Series есть имя (Name), информация о количестве данных в столбце (Length) и тип данных, которые хранятся в ней (dtype)."
      ]
    },
    {
      "cell_type": "code",
      "execution_count": null,
      "metadata": {
        "id": "pv4c3oQI2oaB",
        "outputId": "a794cd37-02d2-4d8f-a523-89c624928ca4"
      },
      "outputs": [
        {
          "name": "stdout",
          "output_type": "stream",
          "text": [
            "0      22.0\n",
            "1      38.0\n",
            "2      26.0\n",
            "3      35.0\n",
            "4      35.0\n",
            "       ... \n",
            "886    27.0\n",
            "887    19.0\n",
            "888     NaN\n",
            "889    26.0\n",
            "890    32.0\n",
            "Name: Age, Length: 891, dtype: float64\n"
          ]
        }
      ],
      "source": [
        "print(df['Age'])"
      ]
    },
    {
      "cell_type": "markdown",
      "metadata": {
        "id": "m2sbk1qg2oaB"
      },
      "source": [
        "Индексация в Series аналогична индексации элементов столбца в DataFrame. Давайте рассмотрим на примере. Сохраним столбец Age в переменной age."
      ]
    },
    {
      "cell_type": "code",
      "execution_count": null,
      "metadata": {
        "id": "h7Gnl_W92oaB"
      },
      "outputs": [],
      "source": [
        "age=df.loc[:,'Age']"
      ]
    },
    {
      "cell_type": "code",
      "execution_count": null,
      "metadata": {
        "id": "q-3e4oOZ2oaB",
        "outputId": "1dda89fe-88b9-4b6f-c308-f1b9d90d1ecc"
      },
      "outputs": [
        {
          "name": "stdout",
          "output_type": "stream",
          "text": [
            "54.0\n"
          ]
        }
      ],
      "source": [
        "#Для получения пятого по индексу элемента укажем 5 в квадратных скобках.\n",
        "print(age[6])\n"
      ]
    },
    {
      "cell_type": "code",
      "execution_count": null,
      "metadata": {
        "id": "K4XtcGf92oaB",
        "outputId": "6ee3238a-a9f5-4392-e438-8a117161f94d"
      },
      "outputs": [
        {
          "name": "stdout",
          "output_type": "stream",
          "text": [
            "10     4.0\n",
            "11    58.0\n",
            "12    20.0\n",
            "13    39.0\n",
            "14    14.0\n",
            "15    55.0\n",
            "16     2.0\n",
            "17     NaN\n",
            "18    31.0\n",
            "19     NaN\n",
            "20    35.0\n",
            "Name: Age, dtype: float64\n"
          ]
        }
      ],
      "source": [
        "#Если надо получить диапазон ячеек, запросите атрибут loc с границами среза в квадратных скобках.\n",
        "print(age.loc[10:20])"
      ]
    },
    {
      "cell_type": "markdown",
      "metadata": {
        "id": "Fz8gyoPT2oaB"
      },
      "source": [
        "ВИД\t                              РЕАЛИЗАЦИЯ\t                                         СОКРАЩЁННАЯ ЗАПИСЬ\n",
        "Один элемент\t                    total_play.loc[7]\t                                      total_play[7]\n",
        "Несколько элементов\t                total_play.loc[[5, 7, 10]]\t                          total_play[[5, 7, 10]]\n",
        "Несколько элементов подряд (срез)\ttotal_play.loc[5:10] включая 10                       total_play[5:10] не включая 10\n",
        "Все элементы, начиная с заданного\ttotal_play.loc[1:]\t                                  total_play[1:]\n",
        "Все элементы до заданного\t        total_play.loc[:3] включая 3\t                      total_play[:3] не включая 3\n"
      ]
    },
    {
      "cell_type": "markdown",
      "metadata": {
        "id": "FeFQmnew2oaB"
      },
      "source": [
        "Для Series также возможна логическая индексация. Рассмотрим такие примеры. Подсчитаем количествщ выживших мужчин и женщин на корабле."
      ]
    },
    {
      "cell_type": "markdown",
      "metadata": {
        "id": "2_n2ssXg2oaB"
      },
      "source": [
        "1. Получим таблицу только с женщинами и сохраним ее в переменной women."
      ]
    },
    {
      "cell_type": "code",
      "execution_count": null,
      "metadata": {
        "id": "X59mt8pA2oaB"
      },
      "outputs": [],
      "source": [
        "women=df.loc[df['Sex']=='female']\n",
        "print(women.head(10))"
      ]
    },
    {
      "cell_type": "markdown",
      "metadata": {
        "id": "WSHBiW2E2oaB"
      },
      "source": [
        "Выделим информацию с выжившими женщинами в особую структуру данных. Сохраним столбец Survived таблицы women в переменной women_life"
      ]
    },
    {
      "cell_type": "code",
      "execution_count": null,
      "metadata": {
        "id": "Otz7nd3L2oaB"
      },
      "outputs": [],
      "source": [
        "women_life=women.loc[:,'Survived']\n",
        "print(women_life)"
      ]
    },
    {
      "cell_type": "markdown",
      "metadata": {
        "id": "xjTOhA9A2oaC"
      },
      "source": [
        "Обратимся к новой переменной women_life и подсчитаем количество выживших женщин"
      ]
    },
    {
      "cell_type": "code",
      "execution_count": null,
      "metadata": {
        "id": "CvSqq69K2oaC"
      },
      "outputs": [],
      "source": [
        "quantity_women=women_life.loc[women_life==1].count()\n",
        "print('Количество выживших женщин равно', quantity_women)"
      ]
    },
    {
      "cell_type": "markdown",
      "metadata": {
        "id": "HXauHD9K2oaC"
      },
      "source": [
        "## Задачи\n",
        "1. Теперь по аналогии создайте Series, где хранятся данные только о выживаемости мужчин. Назовите его men_life и сохраните в нем данные столбца Survived.\n",
        "2. Обратитесь к созданной переменной для подсчета выживших мужчин. Сохраните результат в переменной quantity_men и напечатайте на экране в виде **Количество выживших женщин равно...**.\n",
        "3. Для обои полов посчитайте долю выживших в процентах. Разделите количество выживших на общее количество мужчин и женщин. Выведите значения новых переменных в процентах с точностью до одного знака после запятой."
      ]
    },
    {
      "cell_type": "code",
      "execution_count": 33,
      "metadata": {
        "id": "-KsktIb42oaC"
      },
      "outputs": [],
      "source": [
        "men_life = titanic.loc[titanic['Sex']=='male'].loc[:,'Survived']"
      ]
    },
    {
      "cell_type": "code",
      "source": [
        "quantity_men=men_life.loc[men_life==1].count()\n",
        "print('Количество выживших мужчин равно', quantity_men)"
      ],
      "metadata": {
        "id": "-wW5aa58Bove",
        "outputId": "5de31dfd-7921-47c5-f9b3-00eb56b682ea",
        "colab": {
          "base_uri": "https://localhost:8080/"
        }
      },
      "execution_count": 34,
      "outputs": [
        {
          "output_type": "stream",
          "name": "stdout",
          "text": [
            "Количество выживших мужчин равно 109\n"
          ]
        }
      ]
    },
    {
      "cell_type": "code",
      "source": [
        "men_survival_rate = round(quantity_men / titanic.loc[titanic['Sex']=='male'].shape[0] * 100, 1)\n",
        "print(f\"Доля выживших мужчин: {men_survival_rate}%\")\n",
        "\n",
        "women=titanic.loc[titanic['Sex']=='female']\n",
        "women_life=women.loc[:,'Survived']\n",
        "quantity_women=women_life.loc[women_life==1].count()\n",
        "\n",
        "women_survival_rate = round(quantity_women / women.shape[0] * 100, 1)\n",
        "print(f\"Доля выживших женщин: {women_survival_rate}%\")"
      ],
      "metadata": {
        "id": "BpSWnnKKBoyO",
        "outputId": "a01c7f36-84c9-46d5-a787-48bd4c0c249d",
        "colab": {
          "base_uri": "https://localhost:8080/"
        }
      },
      "execution_count": 47,
      "outputs": [
        {
          "output_type": "stream",
          "name": "stdout",
          "text": [
            "Доля выживших мужчин: 18.9%\n",
            "Доля выживших женщин: 74.2%\n"
          ]
        }
      ]
    }
  ],
  "metadata": {
    "kernelspec": {
      "display_name": "Python 3 (ipykernel)",
      "language": "python",
      "name": "python3"
    },
    "language_info": {
      "codemirror_mode": {
        "name": "ipython",
        "version": 3
      },
      "file_extension": ".py",
      "mimetype": "text/x-python",
      "name": "python",
      "nbconvert_exporter": "python",
      "pygments_lexer": "ipython3",
      "version": "3.9.12"
    },
    "colab": {
      "provenance": [],
      "include_colab_link": true
    }
  },
  "nbformat": 4,
  "nbformat_minor": 0
}