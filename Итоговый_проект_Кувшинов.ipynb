{
  "cells": [
    {
      "cell_type": "markdown",
      "metadata": {
        "id": "view-in-github",
        "colab_type": "text"
      },
      "source": [
        "<a href=\"https://colab.research.google.com/github/RayKoltner/datascience/blob/main/%D0%98%D1%82%D0%BE%D0%B3%D0%BE%D0%B2%D1%8B%D0%B9_%D0%BF%D1%80%D0%BE%D0%B5%D0%BA%D1%82_%D0%9A%D1%83%D0%B2%D1%88%D0%B8%D0%BD%D0%BE%D0%B2.ipynb\" target=\"_parent\"><img src=\"https://colab.research.google.com/assets/colab-badge.svg\" alt=\"Open In Colab\"/></a>"
      ]
    },
    {
      "cell_type": "markdown",
      "metadata": {
        "id": "2sxw_mCUc-Kh"
      },
      "source": [
        "\n",
        "# Описание проекта\n",
        "\n",
        "Вам предоставлена выгрузка заказов из CRM компании, занимающейся В2В-продажами.  На основе\n",
        "этих данных вам нужно подготовить дашборд для директора компании, который даст общее\n",
        "понимание ситуации с продажами, наглядно покажет ответы на вопросы:\n",
        "\n",
        "1. Как менеджеры выполняют план продаж?\n",
        "2. Какова помесячная динамика выполнения плана, есть ли сезонные «просадки»?\n",
        "3. Какова география продаж, какие регионы самые доходные?\n",
        "4. Как влияет канал продаж на выполнение плана, конверсию, длительность сделки?\n",
        "5. Какие товарные категории пользуются спросом (по числу клиентов) и по продажам?\n",
        "\n",
        "Дашборд должен дать информацию для принятия решений:\n",
        "Профилировать ли менеджеров по товарным категориям или каналам продаж (где они лучше закрывают сделки, выполняют план)\n",
        "Расширять самые доходные каналы продаж, регионы, где есть высокий спрос\n",
        "\n",
        "\n",
        "Задание\n",
        "\n",
        "Откройте файл с данными и изучите общую информацию\n",
        "Подготовьте данные\n",
        "Проведите исследовательский анализ данных\n",
        "Составьте портрет менеджера каждого региона\n",
        "Проведите исследование статистических показателей\n",
        "Проверьте гипотезы\n",
        "Напишите общий вывод\n"
      ]
    },
    {
      "cell_type": "markdown",
      "metadata": {
        "id": "2sd-N9mCc-Kk"
      },
      "source": [
        "# Загрузка данных, изучение общей информации"
      ]
    },
    {
      "cell_type": "code",
      "execution_count": 94,
      "metadata": {
        "id": "Utmev0bMc-Kk",
        "outputId": "9ef4bc59-9659-464d-af72-1536c2be0cda",
        "colab": {
          "base_uri": "https://localhost:8080/"
        }
      },
      "outputs": [
        {
          "output_type": "stream",
          "name": "stdout",
          "text": [
            "<class 'pandas.core.frame.DataFrame'>\n",
            "RangeIndex: 116 entries, 0 to 115\n",
            "Data columns (total 13 columns):\n",
            " #   Column                        Non-Null Count  Dtype         \n",
            "---  ------                        --------------  -----         \n",
            " 0   Номер заказа                  116 non-null    int64         \n",
            " 1   Канал продаж                  116 non-null    object        \n",
            " 2   Продуктовый сегмент           116 non-null    object        \n",
            " 3   Менеджер                      116 non-null    object        \n",
            " 4   Название заказа               116 non-null    object        \n",
            " 5   Продавец                      116 non-null    object        \n",
            " 6   Город                         116 non-null    object        \n",
            " 7   Продажи факт, тыс.руб         116 non-null    int64         \n",
            " 8   Продажи план, тыс.руб         116 non-null    int64         \n",
            " 9   Дата сделки                   116 non-null    datetime64[ns]\n",
            " 10  Дата оплаты                   93 non-null     datetime64[ns]\n",
            " 11  Дней между сделкой и оплатой  116 non-null    object        \n",
            " 12  Статус                        116 non-null    object        \n",
            "dtypes: datetime64[ns](2), int64(3), object(8)\n",
            "memory usage: 11.9+ KB\n",
            "None\n",
            "   Номер заказа     Канал продаж     Продуктовый сегмент  Менеджер  \\\n",
            "0          7290     Рекомендация      Ткань и аксессуары  С. Милер   \n",
            "1          7291     Рекомендация      Ткань и аксессуары  С. Милер   \n",
            "2          7436     Рекомендация      Ткань и аксессуары  С. Милер   \n",
            "3          7484     Рекомендация      Ткань и аксессуары  С. Милер   \n",
            "4          7040  Холодный звонок  Электронные устройства  М. Баили   \n",
            "\n",
            "          Название заказа  Продавец            Город  Продажи факт, тыс.руб  \\\n",
            "0                NAM SUNG  Айсберг   Санкт-Петербург                    300   \n",
            "1                CP Ткань  Айсберг   Санкт-Петербург                    450   \n",
            "2          UNIZIN COMPANY  Айсберг   Санкт-Петербург                      0   \n",
            "3                NAM SUNG  Айсберг   Санкт-Петербург                    500   \n",
            "4  Электронные устройства  Alen.com     Магнитогорск                    100   \n",
            "\n",
            "   Продажи план, тыс.руб Дата сделки Дата оплаты Дней между сделкой и оплатой  \\\n",
            "0                    500  2020-02-03  2020-03-25                           52   \n",
            "1                    500  2020-03-22  2020-04-05                           15   \n",
            "2                    500  2020-03-23         NaT                                \n",
            "3                    500  2020-03-04  2020-03-04                            1   \n",
            "4                   1000  2020-02-19  2020-05-15                           87   \n",
            "\n",
            "       Статус  \n",
            "0     Закрыто  \n",
            "1     Закрыто  \n",
            "2  В процессе  \n",
            "3     Закрыто  \n",
            "4     Закрыто  \n"
          ]
        }
      ],
      "source": [
        "#Youre code is here\n",
        "import pandas as pd\n",
        "data = pd.read_excel(\"https://github.com/RayKoltner/datascience/raw/refs/heads/main/xls_datasets/data.xlsx\")\n",
        "print(data.info())\n",
        "print(data.head(5))"
      ]
    },
    {
      "cell_type": "markdown",
      "metadata": {
        "id": "gia6AwXbc-Kl"
      },
      "source": [
        "# Подготовка данных\n",
        "\n",
        "Замените названия столбцов при необходимости (приведите к нижнему регистру); Преобразуйте данные в нужные типы. Опишите, в каких столбцах заменили тип данных и почему; Обработайте пропуски при необходимости: Объясните, почему заполнили пропуски определённым образом или почему не стали это делать; Опишите причины, которые могли привести к пропускам; Посчитайте суммарные фактические продажи по всем городам и запишите их в отдельный столбец."
      ]
    },
    {
      "cell_type": "code",
      "execution_count": 95,
      "metadata": {
        "id": "FQ5JJGf4c-Km",
        "outputId": "9cd9cdc3-1a4b-4191-9a7e-73147b27bb24",
        "colab": {
          "base_uri": "https://localhost:8080/"
        }
      },
      "outputs": [
        {
          "output_type": "stream",
          "name": "stdout",
          "text": [
            "Index(['Номер заказа', 'Канал продаж', 'Продуктовый сегмент', 'Менеджер',\n",
            "       'Название заказа', 'Продавец', 'Город', 'Продажи факт, тыс.руб',\n",
            "       'Продажи план, тыс.руб', 'Дата сделки', 'Дата оплаты',\n",
            "       'Дней между сделкой и оплатой', 'Статус'],\n",
            "      dtype='object')\n"
          ]
        }
      ],
      "source": [
        "#Youre code is here\n",
        "print(data.columns)"
      ]
    },
    {
      "cell_type": "code",
      "source": [
        "data = data.set_axis(labels = [\"id\",\n",
        "                               \"channel\",\n",
        "                               \"category\",\n",
        "                               \"manager\",\n",
        "                               \"order_name\",\n",
        "                               \"merchant\",\n",
        "                               \"city\",\n",
        "                               \"real_amount\",\n",
        "                               \"planned_amount\",\n",
        "                               \"deal_date\",\n",
        "                               \"payment_date\",\n",
        "                               \"days_between\",\n",
        "                               \"status\"], axis = 'columns')"
      ],
      "metadata": {
        "id": "6cKci8Pjfb57"
      },
      "execution_count": 96,
      "outputs": []
    },
    {
      "cell_type": "code",
      "source": [
        "print(data['status'].unique())"
      ],
      "metadata": {
        "id": "A9skcb4w9KYJ",
        "outputId": "7a9a25b0-852d-4b9e-bd4c-1c35a6595277",
        "colab": {
          "base_uri": "https://localhost:8080/"
        }
      },
      "execution_count": 97,
      "outputs": [
        {
          "output_type": "stream",
          "name": "stdout",
          "text": [
            "['Закрыто' 'В процессе' 'Потерянно']\n"
          ]
        }
      ]
    },
    {
      "cell_type": "markdown",
      "source": [
        "Для удобства переведем статус в числовой формат."
      ],
      "metadata": {
        "id": "oE-9rgJnCxzN"
      }
    },
    {
      "cell_type": "code",
      "source": [
        "def status_to_number(status):\n",
        "  match status:\n",
        "    case \"Закрыто\":\n",
        "      return 2\n",
        "    case \"Потерянно\":\n",
        "      return 0\n",
        "    case \"В процессе\":\n",
        "      return 1\n",
        "\n",
        "data['status'] = data['status'].map(lambda x: status_to_number(x))\n",
        "print(data['status'].unique())\n",
        "\n",
        "data[\"status\"].astype((int))\n",
        "print(data.groupby('status')['status'].count()) # Большинство сделок завершилось"
      ],
      "metadata": {
        "id": "R8r39Zj778EQ",
        "outputId": "a94c1576-bf1d-4403-8445-2fa10e6c228d",
        "colab": {
          "base_uri": "https://localhost:8080/"
        }
      },
      "execution_count": 98,
      "outputs": [
        {
          "output_type": "stream",
          "name": "stdout",
          "text": [
            "[2 1 0]\n",
            "status\n",
            "0     9\n",
            "1    14\n",
            "2    93\n",
            "Name: status, dtype: int64\n"
          ]
        }
      ]
    },
    {
      "cell_type": "code",
      "source": [
        "print(data.isna().sum())"
      ],
      "metadata": {
        "id": "6z0Juoc8BQFq",
        "outputId": "f200f4ec-50e4-409a-f707-2b361af756c5",
        "colab": {
          "base_uri": "https://localhost:8080/"
        }
      },
      "execution_count": 99,
      "outputs": [
        {
          "output_type": "stream",
          "name": "stdout",
          "text": [
            "id                 0\n",
            "channel            0\n",
            "category           0\n",
            "manager            0\n",
            "order_name         0\n",
            "merchant           0\n",
            "city               0\n",
            "real_amount        0\n",
            "planned_amount     0\n",
            "deal_date          0\n",
            "payment_date      23\n",
            "days_between       0\n",
            "status             0\n",
            "dtype: int64\n"
          ]
        }
      ]
    },
    {
      "cell_type": "markdown",
      "source": [
        "Все имеющиеся пропуски находятся в стобце даты оплаты. Скорее всего это связано с тем, что некоторые сделки не были завершены на момент сбора данных или были отменены. Проверим это:"
      ],
      "metadata": {
        "id": "J3CoJ6OOBqjn"
      }
    },
    {
      "cell_type": "code",
      "source": [
        "print(data[data[\"payment_date\"].isna()][\"status\"].unique()) # Проверка значений статуса у строк с пустой датой оплаты"
      ],
      "metadata": {
        "id": "bCOLaiUtCEep",
        "outputId": "0973fdcf-c184-45f2-ab11-7a14512bf153",
        "colab": {
          "base_uri": "https://localhost:8080/"
        }
      },
      "execution_count": 100,
      "outputs": [
        {
          "output_type": "stream",
          "name": "stdout",
          "text": [
            "[1 0]\n"
          ]
        }
      ]
    },
    {
      "cell_type": "markdown",
      "source": [
        "Как и ожидалось, строки с пустующей датой оплаты содержат информацию о незавершённых\\отменённых сделках. Заполнять такие строки нет смысла, поскольку сама по себе дата оплаты ничего не сообщает кроме того, что сделка не была завершена. Для это же цели можно использовать столбец статуса."
      ],
      "metadata": {
        "id": "NXP9_rP5CozQ"
      }
    },
    {
      "cell_type": "code",
      "source": [
        "data['days_between'].astype((int))"
      ],
      "metadata": {
        "id": "uEgNCWMfYYts",
        "outputId": "4163fff2-5327-46e3-ec81-33ef7181ee8a",
        "colab": {
          "base_uri": "https://localhost:8080/",
          "height": 287
        }
      },
      "execution_count": 101,
      "outputs": [
        {
          "output_type": "error",
          "ename": "ValueError",
          "evalue": "invalid literal for int() with base 10: ' '",
          "traceback": [
            "\u001b[0;31m---------------------------------------------------------------------------\u001b[0m",
            "\u001b[0;31mValueError\u001b[0m                                Traceback (most recent call last)",
            "\u001b[0;32m<ipython-input-101-4c0cef38ce3e>\u001b[0m in \u001b[0;36m<cell line: 1>\u001b[0;34m()\u001b[0m\n\u001b[0;32m----> 1\u001b[0;31m \u001b[0mdata\u001b[0m\u001b[0;34m[\u001b[0m\u001b[0;34m'days_between'\u001b[0m\u001b[0;34m]\u001b[0m\u001b[0;34m.\u001b[0m\u001b[0mastype\u001b[0m\u001b[0;34m(\u001b[0m\u001b[0;34m(\u001b[0m\u001b[0mint\u001b[0m\u001b[0;34m)\u001b[0m\u001b[0;34m)\u001b[0m\u001b[0;34m\u001b[0m\u001b[0;34m\u001b[0m\u001b[0m\n\u001b[0m",
            "\u001b[0;32m/usr/local/lib/python3.10/dist-packages/pandas/core/generic.py\u001b[0m in \u001b[0;36mastype\u001b[0;34m(self, dtype, copy, errors)\u001b[0m\n\u001b[1;32m   6641\u001b[0m         \u001b[0;32melse\u001b[0m\u001b[0;34m:\u001b[0m\u001b[0;34m\u001b[0m\u001b[0;34m\u001b[0m\u001b[0m\n\u001b[1;32m   6642\u001b[0m             \u001b[0;31m# else, only a single dtype is given\u001b[0m\u001b[0;34m\u001b[0m\u001b[0;34m\u001b[0m\u001b[0m\n\u001b[0;32m-> 6643\u001b[0;31m             \u001b[0mnew_data\u001b[0m \u001b[0;34m=\u001b[0m \u001b[0mself\u001b[0m\u001b[0;34m.\u001b[0m\u001b[0m_mgr\u001b[0m\u001b[0;34m.\u001b[0m\u001b[0mastype\u001b[0m\u001b[0;34m(\u001b[0m\u001b[0mdtype\u001b[0m\u001b[0;34m=\u001b[0m\u001b[0mdtype\u001b[0m\u001b[0;34m,\u001b[0m \u001b[0mcopy\u001b[0m\u001b[0;34m=\u001b[0m\u001b[0mcopy\u001b[0m\u001b[0;34m,\u001b[0m \u001b[0merrors\u001b[0m\u001b[0;34m=\u001b[0m\u001b[0merrors\u001b[0m\u001b[0;34m)\u001b[0m\u001b[0;34m\u001b[0m\u001b[0;34m\u001b[0m\u001b[0m\n\u001b[0m\u001b[1;32m   6644\u001b[0m             \u001b[0mres\u001b[0m \u001b[0;34m=\u001b[0m \u001b[0mself\u001b[0m\u001b[0;34m.\u001b[0m\u001b[0m_constructor_from_mgr\u001b[0m\u001b[0;34m(\u001b[0m\u001b[0mnew_data\u001b[0m\u001b[0;34m,\u001b[0m \u001b[0maxes\u001b[0m\u001b[0;34m=\u001b[0m\u001b[0mnew_data\u001b[0m\u001b[0;34m.\u001b[0m\u001b[0maxes\u001b[0m\u001b[0;34m)\u001b[0m\u001b[0;34m\u001b[0m\u001b[0;34m\u001b[0m\u001b[0m\n\u001b[1;32m   6645\u001b[0m             \u001b[0;32mreturn\u001b[0m \u001b[0mres\u001b[0m\u001b[0;34m.\u001b[0m\u001b[0m__finalize__\u001b[0m\u001b[0;34m(\u001b[0m\u001b[0mself\u001b[0m\u001b[0;34m,\u001b[0m \u001b[0mmethod\u001b[0m\u001b[0;34m=\u001b[0m\u001b[0;34m\"astype\"\u001b[0m\u001b[0;34m)\u001b[0m\u001b[0;34m\u001b[0m\u001b[0;34m\u001b[0m\u001b[0m\n",
            "\u001b[0;32m/usr/local/lib/python3.10/dist-packages/pandas/core/internals/managers.py\u001b[0m in \u001b[0;36mastype\u001b[0;34m(self, dtype, copy, errors)\u001b[0m\n\u001b[1;32m    428\u001b[0m             \u001b[0mcopy\u001b[0m \u001b[0;34m=\u001b[0m \u001b[0;32mFalse\u001b[0m\u001b[0;34m\u001b[0m\u001b[0;34m\u001b[0m\u001b[0m\n\u001b[1;32m    429\u001b[0m \u001b[0;34m\u001b[0m\u001b[0m\n\u001b[0;32m--> 430\u001b[0;31m         return self.apply(\n\u001b[0m\u001b[1;32m    431\u001b[0m             \u001b[0;34m\"astype\"\u001b[0m\u001b[0;34m,\u001b[0m\u001b[0;34m\u001b[0m\u001b[0;34m\u001b[0m\u001b[0m\n\u001b[1;32m    432\u001b[0m             \u001b[0mdtype\u001b[0m\u001b[0;34m=\u001b[0m\u001b[0mdtype\u001b[0m\u001b[0;34m,\u001b[0m\u001b[0;34m\u001b[0m\u001b[0;34m\u001b[0m\u001b[0m\n",
            "\u001b[0;32m/usr/local/lib/python3.10/dist-packages/pandas/core/internals/managers.py\u001b[0m in \u001b[0;36mapply\u001b[0;34m(self, f, align_keys, **kwargs)\u001b[0m\n\u001b[1;32m    361\u001b[0m                 \u001b[0mapplied\u001b[0m \u001b[0;34m=\u001b[0m \u001b[0mb\u001b[0m\u001b[0;34m.\u001b[0m\u001b[0mapply\u001b[0m\u001b[0;34m(\u001b[0m\u001b[0mf\u001b[0m\u001b[0;34m,\u001b[0m \u001b[0;34m**\u001b[0m\u001b[0mkwargs\u001b[0m\u001b[0;34m)\u001b[0m\u001b[0;34m\u001b[0m\u001b[0;34m\u001b[0m\u001b[0m\n\u001b[1;32m    362\u001b[0m             \u001b[0;32melse\u001b[0m\u001b[0;34m:\u001b[0m\u001b[0;34m\u001b[0m\u001b[0;34m\u001b[0m\u001b[0m\n\u001b[0;32m--> 363\u001b[0;31m                 \u001b[0mapplied\u001b[0m \u001b[0;34m=\u001b[0m \u001b[0mgetattr\u001b[0m\u001b[0;34m(\u001b[0m\u001b[0mb\u001b[0m\u001b[0;34m,\u001b[0m \u001b[0mf\u001b[0m\u001b[0;34m)\u001b[0m\u001b[0;34m(\u001b[0m\u001b[0;34m**\u001b[0m\u001b[0mkwargs\u001b[0m\u001b[0;34m)\u001b[0m\u001b[0;34m\u001b[0m\u001b[0;34m\u001b[0m\u001b[0m\n\u001b[0m\u001b[1;32m    364\u001b[0m             \u001b[0mresult_blocks\u001b[0m \u001b[0;34m=\u001b[0m \u001b[0mextend_blocks\u001b[0m\u001b[0;34m(\u001b[0m\u001b[0mapplied\u001b[0m\u001b[0;34m,\u001b[0m \u001b[0mresult_blocks\u001b[0m\u001b[0;34m)\u001b[0m\u001b[0;34m\u001b[0m\u001b[0;34m\u001b[0m\u001b[0m\n\u001b[1;32m    365\u001b[0m \u001b[0;34m\u001b[0m\u001b[0m\n",
            "\u001b[0;32m/usr/local/lib/python3.10/dist-packages/pandas/core/internals/blocks.py\u001b[0m in \u001b[0;36mastype\u001b[0;34m(self, dtype, copy, errors, using_cow, squeeze)\u001b[0m\n\u001b[1;32m    756\u001b[0m             \u001b[0mvalues\u001b[0m \u001b[0;34m=\u001b[0m \u001b[0mvalues\u001b[0m\u001b[0;34m[\u001b[0m\u001b[0;36m0\u001b[0m\u001b[0;34m,\u001b[0m \u001b[0;34m:\u001b[0m\u001b[0;34m]\u001b[0m  \u001b[0;31m# type: ignore[call-overload]\u001b[0m\u001b[0;34m\u001b[0m\u001b[0;34m\u001b[0m\u001b[0m\n\u001b[1;32m    757\u001b[0m \u001b[0;34m\u001b[0m\u001b[0m\n\u001b[0;32m--> 758\u001b[0;31m         \u001b[0mnew_values\u001b[0m \u001b[0;34m=\u001b[0m \u001b[0mastype_array_safe\u001b[0m\u001b[0;34m(\u001b[0m\u001b[0mvalues\u001b[0m\u001b[0;34m,\u001b[0m \u001b[0mdtype\u001b[0m\u001b[0;34m,\u001b[0m \u001b[0mcopy\u001b[0m\u001b[0;34m=\u001b[0m\u001b[0mcopy\u001b[0m\u001b[0;34m,\u001b[0m \u001b[0merrors\u001b[0m\u001b[0;34m=\u001b[0m\u001b[0merrors\u001b[0m\u001b[0;34m)\u001b[0m\u001b[0;34m\u001b[0m\u001b[0;34m\u001b[0m\u001b[0m\n\u001b[0m\u001b[1;32m    759\u001b[0m \u001b[0;34m\u001b[0m\u001b[0m\n\u001b[1;32m    760\u001b[0m         \u001b[0mnew_values\u001b[0m \u001b[0;34m=\u001b[0m \u001b[0mmaybe_coerce_values\u001b[0m\u001b[0;34m(\u001b[0m\u001b[0mnew_values\u001b[0m\u001b[0;34m)\u001b[0m\u001b[0;34m\u001b[0m\u001b[0;34m\u001b[0m\u001b[0m\n",
            "\u001b[0;32m/usr/local/lib/python3.10/dist-packages/pandas/core/dtypes/astype.py\u001b[0m in \u001b[0;36mastype_array_safe\u001b[0;34m(values, dtype, copy, errors)\u001b[0m\n\u001b[1;32m    235\u001b[0m \u001b[0;34m\u001b[0m\u001b[0m\n\u001b[1;32m    236\u001b[0m     \u001b[0;32mtry\u001b[0m\u001b[0;34m:\u001b[0m\u001b[0;34m\u001b[0m\u001b[0;34m\u001b[0m\u001b[0m\n\u001b[0;32m--> 237\u001b[0;31m         \u001b[0mnew_values\u001b[0m \u001b[0;34m=\u001b[0m \u001b[0mastype_array\u001b[0m\u001b[0;34m(\u001b[0m\u001b[0mvalues\u001b[0m\u001b[0;34m,\u001b[0m \u001b[0mdtype\u001b[0m\u001b[0;34m,\u001b[0m \u001b[0mcopy\u001b[0m\u001b[0;34m=\u001b[0m\u001b[0mcopy\u001b[0m\u001b[0;34m)\u001b[0m\u001b[0;34m\u001b[0m\u001b[0;34m\u001b[0m\u001b[0m\n\u001b[0m\u001b[1;32m    238\u001b[0m     \u001b[0;32mexcept\u001b[0m \u001b[0;34m(\u001b[0m\u001b[0mValueError\u001b[0m\u001b[0;34m,\u001b[0m \u001b[0mTypeError\u001b[0m\u001b[0;34m)\u001b[0m\u001b[0;34m:\u001b[0m\u001b[0;34m\u001b[0m\u001b[0;34m\u001b[0m\u001b[0m\n\u001b[1;32m    239\u001b[0m         \u001b[0;31m# e.g. _astype_nansafe can fail on object-dtype of strings\u001b[0m\u001b[0;34m\u001b[0m\u001b[0;34m\u001b[0m\u001b[0m\n",
            "\u001b[0;32m/usr/local/lib/python3.10/dist-packages/pandas/core/dtypes/astype.py\u001b[0m in \u001b[0;36mastype_array\u001b[0;34m(values, dtype, copy)\u001b[0m\n\u001b[1;32m    180\u001b[0m \u001b[0;34m\u001b[0m\u001b[0m\n\u001b[1;32m    181\u001b[0m     \u001b[0;32melse\u001b[0m\u001b[0;34m:\u001b[0m\u001b[0;34m\u001b[0m\u001b[0;34m\u001b[0m\u001b[0m\n\u001b[0;32m--> 182\u001b[0;31m         \u001b[0mvalues\u001b[0m \u001b[0;34m=\u001b[0m \u001b[0m_astype_nansafe\u001b[0m\u001b[0;34m(\u001b[0m\u001b[0mvalues\u001b[0m\u001b[0;34m,\u001b[0m \u001b[0mdtype\u001b[0m\u001b[0;34m,\u001b[0m \u001b[0mcopy\u001b[0m\u001b[0;34m=\u001b[0m\u001b[0mcopy\u001b[0m\u001b[0;34m)\u001b[0m\u001b[0;34m\u001b[0m\u001b[0;34m\u001b[0m\u001b[0m\n\u001b[0m\u001b[1;32m    183\u001b[0m \u001b[0;34m\u001b[0m\u001b[0m\n\u001b[1;32m    184\u001b[0m     \u001b[0;31m# in pandas we don't store numpy str dtypes, so convert to object\u001b[0m\u001b[0;34m\u001b[0m\u001b[0;34m\u001b[0m\u001b[0m\n",
            "\u001b[0;32m/usr/local/lib/python3.10/dist-packages/pandas/core/dtypes/astype.py\u001b[0m in \u001b[0;36m_astype_nansafe\u001b[0;34m(arr, dtype, copy, skipna)\u001b[0m\n\u001b[1;32m    131\u001b[0m     \u001b[0;32mif\u001b[0m \u001b[0mcopy\u001b[0m \u001b[0;32mor\u001b[0m \u001b[0marr\u001b[0m\u001b[0;34m.\u001b[0m\u001b[0mdtype\u001b[0m \u001b[0;34m==\u001b[0m \u001b[0mobject\u001b[0m \u001b[0;32mor\u001b[0m \u001b[0mdtype\u001b[0m \u001b[0;34m==\u001b[0m \u001b[0mobject\u001b[0m\u001b[0;34m:\u001b[0m\u001b[0;34m\u001b[0m\u001b[0;34m\u001b[0m\u001b[0m\n\u001b[1;32m    132\u001b[0m         \u001b[0;31m# Explicit copy, or required since NumPy can't view from / to object.\u001b[0m\u001b[0;34m\u001b[0m\u001b[0;34m\u001b[0m\u001b[0m\n\u001b[0;32m--> 133\u001b[0;31m         \u001b[0;32mreturn\u001b[0m \u001b[0marr\u001b[0m\u001b[0;34m.\u001b[0m\u001b[0mastype\u001b[0m\u001b[0;34m(\u001b[0m\u001b[0mdtype\u001b[0m\u001b[0;34m,\u001b[0m \u001b[0mcopy\u001b[0m\u001b[0;34m=\u001b[0m\u001b[0;32mTrue\u001b[0m\u001b[0;34m)\u001b[0m\u001b[0;34m\u001b[0m\u001b[0;34m\u001b[0m\u001b[0m\n\u001b[0m\u001b[1;32m    134\u001b[0m \u001b[0;34m\u001b[0m\u001b[0m\n\u001b[1;32m    135\u001b[0m     \u001b[0;32mreturn\u001b[0m \u001b[0marr\u001b[0m\u001b[0;34m.\u001b[0m\u001b[0mastype\u001b[0m\u001b[0;34m(\u001b[0m\u001b[0mdtype\u001b[0m\u001b[0;34m,\u001b[0m \u001b[0mcopy\u001b[0m\u001b[0;34m=\u001b[0m\u001b[0mcopy\u001b[0m\u001b[0;34m)\u001b[0m\u001b[0;34m\u001b[0m\u001b[0;34m\u001b[0m\u001b[0m\n",
            "\u001b[0;31mValueError\u001b[0m: invalid literal for int() with base 10: ' '"
          ]
        }
      ]
    },
    {
      "cell_type": "markdown",
      "source": [
        "Как оказалось, поле количества прошедших дней между сделкой и оплатой также содержит пустые значения, хоть по общей статистике пропусков этого не видно. Исправим это и переведем столбец в целочисленный формат."
      ],
      "metadata": {
        "id": "GmnAKxN1Ya1J"
      }
    },
    {
      "cell_type": "code",
      "source": [
        "data['days_between'] = data['days_between'].replace(\" \", \"0\")\n",
        "data['days_between'].astype((int))"
      ],
      "metadata": {
        "id": "ihohA-BEYytH",
        "outputId": "e6f38829-da5a-453f-c0cc-df7a18ad7bb2",
        "colab": {
          "base_uri": "https://localhost:8080/",
          "height": 458
        }
      },
      "execution_count": 102,
      "outputs": [
        {
          "output_type": "execute_result",
          "data": {
            "text/plain": [
              "0      52\n",
              "1      15\n",
              "2       0\n",
              "3       1\n",
              "4      87\n",
              "       ..\n",
              "111     0\n",
              "112    13\n",
              "113     9\n",
              "114     5\n",
              "115     7\n",
              "Name: days_between, Length: 116, dtype: int64"
            ],
            "text/html": [
              "<div>\n",
              "<style scoped>\n",
              "    .dataframe tbody tr th:only-of-type {\n",
              "        vertical-align: middle;\n",
              "    }\n",
              "\n",
              "    .dataframe tbody tr th {\n",
              "        vertical-align: top;\n",
              "    }\n",
              "\n",
              "    .dataframe thead th {\n",
              "        text-align: right;\n",
              "    }\n",
              "</style>\n",
              "<table border=\"1\" class=\"dataframe\">\n",
              "  <thead>\n",
              "    <tr style=\"text-align: right;\">\n",
              "      <th></th>\n",
              "      <th>days_between</th>\n",
              "    </tr>\n",
              "  </thead>\n",
              "  <tbody>\n",
              "    <tr>\n",
              "      <th>0</th>\n",
              "      <td>52</td>\n",
              "    </tr>\n",
              "    <tr>\n",
              "      <th>1</th>\n",
              "      <td>15</td>\n",
              "    </tr>\n",
              "    <tr>\n",
              "      <th>2</th>\n",
              "      <td>0</td>\n",
              "    </tr>\n",
              "    <tr>\n",
              "      <th>3</th>\n",
              "      <td>1</td>\n",
              "    </tr>\n",
              "    <tr>\n",
              "      <th>4</th>\n",
              "      <td>87</td>\n",
              "    </tr>\n",
              "    <tr>\n",
              "      <th>...</th>\n",
              "      <td>...</td>\n",
              "    </tr>\n",
              "    <tr>\n",
              "      <th>111</th>\n",
              "      <td>0</td>\n",
              "    </tr>\n",
              "    <tr>\n",
              "      <th>112</th>\n",
              "      <td>13</td>\n",
              "    </tr>\n",
              "    <tr>\n",
              "      <th>113</th>\n",
              "      <td>9</td>\n",
              "    </tr>\n",
              "    <tr>\n",
              "      <th>114</th>\n",
              "      <td>5</td>\n",
              "    </tr>\n",
              "    <tr>\n",
              "      <th>115</th>\n",
              "      <td>7</td>\n",
              "    </tr>\n",
              "  </tbody>\n",
              "</table>\n",
              "<p>116 rows × 1 columns</p>\n",
              "</div><br><label><b>dtype:</b> int64</label>"
            ]
          },
          "metadata": {},
          "execution_count": 102
        }
      ]
    },
    {
      "cell_type": "markdown",
      "source": [
        "Посчитаем продажи по городам, учитавая только завершенные сделки:"
      ],
      "metadata": {
        "id": "oyPXp9JtEkWN"
      }
    },
    {
      "cell_type": "code",
      "source": [
        "complete_deals = data[data[\"status\"] == 2]\n",
        "sells_by_cities = data.groupby(\"city\")\n",
        "print(sells_by_cities['status'].count().sort_values(ascending=False))"
      ],
      "metadata": {
        "id": "CaXG7Yt-EdZ0",
        "outputId": "47ae245b-c032-485c-ea76-36c01cf550c7",
        "colab": {
          "base_uri": "https://localhost:8080/"
        }
      },
      "execution_count": 103,
      "outputs": [
        {
          "output_type": "stream",
          "name": "stdout",
          "text": [
            "city\n",
            "Магнитогорск       17\n",
            "Москва             15\n",
            "Сочи               11\n",
            "Новосибирск        10\n",
            "Самара             10\n",
            "Оренбург            8\n",
            "Казань              7\n",
            "Челябинск           6\n",
            "Санкт-Петербург     6\n",
            "Волгоград           4\n",
            "Уфа                 3\n",
            "Нижний Новгород     3\n",
            "Тула                3\n",
            "Улан-Удэ            2\n",
            "Пермь               2\n",
            "Омск                2\n",
            "Севастополь         1\n",
            "Саратов             1\n",
            "Стоврополь          1\n",
            "Липецк              1\n",
            "Курск               1\n",
            "Кемерово            1\n",
            "Ярославль           1\n",
            "Name: status, dtype: int64\n"
          ]
        }
      ]
    },
    {
      "cell_type": "markdown",
      "source": [
        "Продажи распределены по городам неравномерно. Неожиданным является то, что Москва или Санкт-Петербург не являются лидерами по количеству покупок. Самымы доходными регионами являются Магнитогорск, Москва, Сочи, Новосибирск и Самара. Около половины регионов приносят минимальный доход."
      ],
      "metadata": {
        "id": "gqP2DVsVFSZW"
      }
    },
    {
      "cell_type": "markdown",
      "metadata": {
        "id": "rvDXVVtUc-Km"
      },
      "source": [
        "# Исследовательский анализ данных\n",
        "\n",
        "Проведите исследовательский анализ данных\n",
        "\n",
        "Посмотрите, как менеджеры выполняют план продаж.  Какова помесячная динамика выполнения плана, есть ли сезонные «просадки»? Важны ли данные за все периоды? Посмотрите, как менялись продажи по продуктовым сегментам. Выберите сегменты с наибольшими суммарными продажами и постройте распределение по месяцам. Есть ли популярные в прошлом сегменты, у которых сейчас продажи на нуле.\n",
        "\n",
        "Какова география продаж, какие регионы самые доходные?\n",
        "\n",
        "Как влияет канал продаж на выполнение плана, конверсию, длительность сделки?\n",
        "\n",
        "Какие товарные категории пользуются спросом (по числу клиентов) и по продажам?"
      ]
    },
    {
      "cell_type": "code",
      "execution_count": 104,
      "metadata": {
        "id": "gfX5xg5Kc-Kn",
        "outputId": "f8d9c1a0-74fc-4492-a7f0-84f449df59c4",
        "colab": {
          "base_uri": "https://localhost:8080/"
        }
      },
      "outputs": [
        {
          "output_type": "stream",
          "name": "stdout",
          "text": [
            "29.310344827586203\n",
            "36.55913978494624\n"
          ]
        }
      ],
      "source": [
        "# Начнем с анализа эффективности менеджеров\n",
        "# Введём столбец выполненности плана\n",
        "data[\"completed_plan\"] = data['real_amount'] >= data['planned_amount']\n",
        "complete_deals = data[data[\"status\"] == 2] # Обновим таблицу для завершенных сделок\n",
        "print(data[\"completed_plan\"].sum() / data[\"completed_plan\"].count() * 100) # Сколько процентов от продаж\n",
        "print(complete_deals[\"completed_plan\"].sum() / complete_deals[\"completed_plan\"].count() * 100) # Для завершенных продаж"
      ]
    },
    {
      "cell_type": "markdown",
      "source": [
        "Статистика печальная - только 29% продаж были равны плану или превосходили его. Если считать только по завершенным продажам, то получается около 36.6%. Это говорит о том, что незавершенные продажи не сильно портят статистику выполнения плана."
      ],
      "metadata": {
        "id": "EnTBAZS7HljJ"
      }
    },
    {
      "cell_type": "code",
      "source": [
        "# Посмотрим, как конкретные менеджеры выполняют план\n",
        "\n",
        "manager_efficiency = pd.pivot_table(complete_deals, index=\"manager\", values=\"completed_plan\")\n",
        "print(manager_efficiency)"
      ],
      "metadata": {
        "id": "Iy8C5R40J4Jf",
        "outputId": "970071df-96ba-4894-f96e-41289678f24a",
        "colab": {
          "base_uri": "https://localhost:8080/"
        }
      },
      "execution_count": 105,
      "outputs": [
        {
          "output_type": "stream",
          "name": "stdout",
          "text": [
            "           completed_plan\n",
            "manager                  \n",
            "А. Перри         0.000000\n",
            "А. Фостер        0.727273\n",
            "М. Баили         0.416667\n",
            "Р. Хайерс        0.333333\n",
            "С. Милер         0.142857\n",
            "Т. Ли            0.000000\n"
          ]
        }
      ]
    },
    {
      "cell_type": "markdown",
      "source": [
        "Статистика показывает, что половина менеджеров никогда или почти никогда не выполняет план."
      ],
      "metadata": {
        "id": "5vUiON4zLMMJ"
      }
    },
    {
      "cell_type": "markdown",
      "source": [
        "Перейдем к распределению продаж по времени"
      ],
      "metadata": {
        "id": "t9pXKsOeUrYH"
      }
    },
    {
      "cell_type": "code",
      "source": [
        "# Посмотрим на распределение продаж по времени\n",
        "data['month'] = data[\"deal_date\"].dt.month\n",
        "complete_deals = data[data[\"status\"] == 2] # Обновим таблицу для завершенных сделок\n",
        "complete_deals.groupby('month')['status'].count().plot()"
      ],
      "metadata": {
        "id": "SCHSf3QCLLBB",
        "outputId": "93770399-dfa5-48d5-d38e-5201eb2d2229",
        "colab": {
          "base_uri": "https://localhost:8080/",
          "height": 466
        }
      },
      "execution_count": 106,
      "outputs": [
        {
          "output_type": "execute_result",
          "data": {
            "text/plain": [
              "<Axes: xlabel='month'>"
            ]
          },
          "metadata": {},
          "execution_count": 106
        },
        {
          "output_type": "display_data",
          "data": {
            "text/plain": [
              "<Figure size 640x480 with 1 Axes>"
            ],
            "image/png": "[encoded data removed]"
          },
          "metadata": {}
        }
      ]
    },
    {
      "cell_type": "markdown",
      "source": [
        "График показывает, что большинство сделок было заключено в первый кввартал года."
      ],
      "metadata": {
        "id": "Zv0-Dm4fOae4"
      }
    },
    {
      "cell_type": "code",
      "source": [
        "complete_deals.groupby('month')['completed_plan'].mean().plot()"
      ],
      "metadata": {
        "id": "aUtJcBJbOZjz",
        "outputId": "f571d4f8-59a7-47f8-999b-aba8341fa8f9",
        "colab": {
          "base_uri": "https://localhost:8080/",
          "height": 466
        }
      },
      "execution_count": 107,
      "outputs": [
        {
          "output_type": "execute_result",
          "data": {
            "text/plain": [
              "<Axes: xlabel='month'>"
            ]
          },
          "metadata": {},
          "execution_count": 107
        },
        {
          "output_type": "display_data",
          "data": {
            "text/plain": [
              "<Figure size 640x480 with 1 Axes>"
            ],
            "image/png": "[encoded data removed]"
          },
          "metadata": {}
        }
      ]
    },
    {
      "cell_type": "markdown",
      "source": [
        "График выполнения плана показывает, что все лето и большую часть осени идёт простой, план не выполняется совсем. Общее количество сделок в этот период также значительно снижается. Вывод: количество сделок подвержено сезонным перепадам"
      ],
      "metadata": {
        "id": "I6yDSpVDO4w2"
      }
    },
    {
      "cell_type": "markdown",
      "source": [
        "Перейдем к сегментам продаж"
      ],
      "metadata": {
        "id": "vZAoRrPdPwhA"
      }
    },
    {
      "cell_type": "code",
      "source": [
        "print(data.groupby('category')[\"status\"].count().sort_values(ascending=False))"
      ],
      "metadata": {
        "id": "T8e_wW8WQYgd",
        "outputId": "b813b709-cbfb-4efb-ab9f-81c35d3f9b85",
        "colab": {
          "base_uri": "https://localhost:8080/"
        }
      },
      "execution_count": 108,
      "outputs": [
        {
          "output_type": "stream",
          "name": "stdout",
          "text": [
            "category\n",
            "Оборудование              46\n",
            "Ткань и аксессуары        21\n",
            "Свет                      12\n",
            "Другое                    10\n",
            "Электронные устройства     7\n",
            "Одежда                     6\n",
            "Упаковка                   3\n",
            "Игрушки                    2\n",
            "Спорт товары               2\n",
            "Сувениры                   2\n",
            "Автозапчасти               1\n",
            "Бассейн                    1\n",
            "Косметика                  1\n",
            "Медецина                   1\n",
            "Охота и рыбалка            1\n",
            "Name: status, dtype: int64\n"
          ]
        }
      ]
    },
    {
      "cell_type": "markdown",
      "source": [
        "Больше всего закупают оборудования, также продаж в сегиенте ткани и аксессуаров достаточно много. Однако половина сегментов приносит меньше продаж в сумме, чем третье место в списке. Рассмотрим динамику продаж топ-3 категорий по времени."
      ],
      "metadata": {
        "id": "Y4KMy01cQxhy"
      }
    },
    {
      "cell_type": "code",
      "source": [
        "complete_deals[complete_deals['category'] == \"Оборудование\"].groupby('month')['status'].count().plot()"
      ],
      "metadata": {
        "id": "xAqkIRFPRfep",
        "outputId": "7915cbb3-5f7c-4d5e-dbb8-e4393c291b35",
        "colab": {
          "base_uri": "https://localhost:8080/",
          "height": 466
        }
      },
      "execution_count": 111,
      "outputs": [
        {
          "output_type": "execute_result",
          "data": {
            "text/plain": [
              "<Axes: xlabel='month'>"
            ]
          },
          "metadata": {},
          "execution_count": 111
        },
        {
          "output_type": "display_data",
          "data": {
            "text/plain": [
              "<Figure size 640x480 with 1 Axes>"
            ],
            "image/png": "[encoded data removed]"
          },
          "metadata": {}
        }
      ]
    },
    {
      "cell_type": "code",
      "source": [
        "complete_deals[complete_deals['category'] == \"Ткань и аксессуары\"].groupby('month')['status'].count().plot()"
      ],
      "metadata": {
        "id": "O2gD96JJRwSX",
        "outputId": "3255f3e4-97fa-49b1-f9ee-ac74ea8222bc",
        "colab": {
          "base_uri": "https://localhost:8080/",
          "height": 466
        }
      },
      "execution_count": 110,
      "outputs": [
        {
          "output_type": "execute_result",
          "data": {
            "text/plain": [
              "<Axes: xlabel='month'>"
            ]
          },
          "metadata": {},
          "execution_count": 110
        },
        {
          "output_type": "display_data",
          "data": {
            "text/plain": [
              "<Figure size 640x480 with 1 Axes>"
            ],
            "image/png": "[encoded data removed]"
          },
          "metadata": {}
        }
      ]
    },
    {
      "cell_type": "code",
      "source": [
        "complete_deals[complete_deals['category'] == \"Свет\"].groupby('month')['status'].count().plot()"
      ],
      "metadata": {
        "id": "5_dbP5qRRwYD",
        "outputId": "1d8396bc-d09d-4c26-e41f-a35b23f28c95",
        "colab": {
          "base_uri": "https://localhost:8080/",
          "height": 466
        }
      },
      "execution_count": 109,
      "outputs": [
        {
          "output_type": "execute_result",
          "data": {
            "text/plain": [
              "<Axes: xlabel='month'>"
            ]
          },
          "metadata": {},
          "execution_count": 109
        },
        {
          "output_type": "display_data",
          "data": {
            "text/plain": [
              "<Figure size 640x480 with 1 Axes>"
            ],
            "image/png": "[encoded data removed]"
          },
          "metadata": {}
        }
      ]
    },
    {
      "cell_type": "markdown",
      "source": [
        "Картина продаж оборудования или ткани и аксессуаров примерно соответствует общей. Со светом же ситуация интересней: товары этого сегмента хорошо продавались в первый квартал года, а дальше продажи упали до 0"
      ],
      "metadata": {
        "id": "9UNbw6uSSN_T"
      }
    },
    {
      "cell_type": "code",
      "source": [
        "# Теперь посмотрим распределение по количеству клиентов\n",
        "print(data.groupby('category')[\"merchant\"].nunique().sort_values(ascending=False))"
      ],
      "metadata": {
        "id": "Z1Zt639LTn55",
        "outputId": "41e0f4fd-7cf0-45f3-9b50-4055f289ec94",
        "colab": {
          "base_uri": "https://localhost:8080/"
        }
      },
      "execution_count": 112,
      "outputs": [
        {
          "output_type": "stream",
          "name": "stdout",
          "text": [
            "category\n",
            "Оборудование              7\n",
            "Ткань и аксессуары        6\n",
            "Другое                    4\n",
            "Одежда                    4\n",
            "Электронные устройства    4\n",
            "Свет                      2\n",
            "Автозапчасти              1\n",
            "Бассейн                   1\n",
            "Игрушки                   1\n",
            "Косметика                 1\n",
            "Медецина                  1\n",
            "Охота и рыбалка           1\n",
            "Спорт товары              1\n",
            "Сувениры                  1\n",
            "Упаковка                  1\n",
            "Name: merchant, dtype: int64\n"
          ]
        }
      ]
    },
    {
      "cell_type": "markdown",
      "source": [
        "По количеству клиентов распределение примерно такое же, только сегмент \"Свет\" утратил своё третье место."
      ],
      "metadata": {
        "id": "uWv325OrUO2W"
      }
    },
    {
      "cell_type": "markdown",
      "source": [
        "Вывод: большая часть категорий приносит минимум продаж. Есть смысл сфокусироваться на 5-10 сегментов с лучшими показателями"
      ],
      "metadata": {
        "id": "Fzdb5tEdVmup"
      }
    },
    {
      "cell_type": "markdown",
      "source": [
        "Перейдем к каналам продаж"
      ],
      "metadata": {
        "id": "0C4DlMN0V43W"
      }
    },
    {
      "cell_type": "code",
      "source": [
        "# Создадим копию датасета, где статус будет бинарным\n",
        "binary_status = data.copy()\n",
        "binary_status['days_between'] = binary_status['days_between'].astype((int))\n",
        "binary_status[\"status\"] = binary_status[\"status\"].map(lambda x: x > 1)\n",
        "print(pd.pivot_table(binary_status, index=\"channel\", values=['completed_plan', \"status\", \"days_between\"]))"
      ],
      "metadata": {
        "id": "ptr6njXCWFco",
        "outputId": "c1bba0ce-9234-4c11-846a-bcbace2d233a",
        "colab": {
          "base_uri": "https://localhost:8080/"
        }
      },
      "execution_count": 120,
      "outputs": [
        {
          "output_type": "stream",
          "name": "stdout",
          "text": [
            "                     completed_plan  days_between    status\n",
            "channel                                                    \n",
            "Вебсайт                    0.000000     13.333333  0.666667\n",
            "Выставка                   0.277778      7.166667  0.777778\n",
            "Контекстная реклама        0.000000     18.625000  0.625000\n",
            "Почта                      0.250000     42.750000  0.750000\n",
            "Рекомендация               0.343750     20.656250  0.781250\n",
            "Холодный звонок            0.363636     40.030303  0.909091\n"
          ]
        }
      ]
    },
    {
      "cell_type": "markdown",
      "source": [
        "Как и ожидалось, разные каналы дают разные результаты. Лучше всего работает холодный звонок, но в таком случае сделки долго длятся. Быстрее всего сделки происходят через канал выставок. Процент выполнения плана в целом ожидаемый, за исключением ссайта и рекламы - в случае этих каналов план не выполнялся никогда."
      ],
      "metadata": {
        "id": "hzK5TCHsaK6Q"
      }
    },
    {
      "cell_type": "code",
      "source": [
        "print(pd.pivot_table(binary_status, index=\"channel\", values=[\"status\"], aggfunc=\"count\"))"
      ],
      "metadata": {
        "id": "JMMOANnXZiq0",
        "outputId": "bd06d140-fa94-4ed1-de39-ae49a1662abc",
        "colab": {
          "base_uri": "https://localhost:8080/"
        }
      },
      "execution_count": 121,
      "outputs": [
        {
          "output_type": "stream",
          "name": "stdout",
          "text": [
            "                     status\n",
            "channel                    \n",
            "Вебсайт                   3\n",
            "Выставка                 36\n",
            "Контекстная реклама       8\n",
            "Почта                     4\n",
            "Рекомендация             32\n",
            "Холодный звонок          33\n"
          ]
        }
      ]
    },
    {
      "cell_type": "markdown",
      "metadata": {
        "id": "QkfAo36Uc-Kn"
      },
      "source": [
        "# Общий вывод\n",
        "На основании исследовательского анализа сделайте вывод относительно того, что стоит ли\n",
        " - Профилировать ли менеджеров по товарным категориям или каналам продаж (где они лучше закрывают сделки, выполняют план)\n",
        " - Расширять самые доходные каналы продаж, регионы, где есть высокий спрос"
      ]
    },
    {
      "cell_type": "code",
      "execution_count": 126,
      "metadata": {
        "id": "6jepnZZ5c-Kn",
        "outputId": "2640539f-445d-49e2-c2e9-f8dcfce5a9ef",
        "colab": {
          "base_uri": "https://localhost:8080/"
        }
      },
      "outputs": [
        {
          "output_type": "stream",
          "name": "stdout",
          "text": [
            "                  status                                                    \\\n",
            "channel          Вебсайт       Выставка Контекстная реклама          Почта   \n",
            "manager                                                                      \n",
            "А. Перри   Не использует  Не использует       Не использует  Не использует   \n",
            "А. Фостер  Не использует  Не использует       Не использует  Не использует   \n",
            "М. Баили             0.5            1.0            0.666667           0.75   \n",
            "Р. Хайерс            1.0       0.771429       Не использует  Не использует   \n",
            "С. Милер   Не использует  Не использует       Не использует  Не использует   \n",
            "Т. Ли      Не использует  Не использует                 0.6  Не использует   \n",
            "\n",
            "                                          \n",
            "channel     Рекомендация Холодный звонок  \n",
            "manager                                   \n",
            "А. Перри             1.0   Не использует  \n",
            "А. Фостер  Не использует        0.916667  \n",
            "М. Баили           0.875        0.882353  \n",
            "Р. Хайерс  Не использует             1.0  \n",
            "С. Милер             0.7   Не использует  \n",
            "Т. Ли                0.5             1.0  \n"
          ]
        }
      ],
      "source": [
        "# Посмотрим на эффективность менеджеров в зависимости от канала\n",
        "print(pd.pivot_table(binary_status, index=\"manager\", columns=\"channel\", values=[\"status\"], fill_value=\"Не использует\"))"
      ]
    },
    {
      "cell_type": "code",
      "source": [
        "print(pd.pivot_table(binary_status, index=\"manager\", columns=\"channel\", values=[\"completed_plan\"], fill_value=\"Не использует\"))"
      ],
      "metadata": {
        "id": "ry3g_Rhgccfd",
        "outputId": "9f503af7-26be-4d80-a71f-00a915ea8351",
        "colab": {
          "base_uri": "https://localhost:8080/"
        }
      },
      "execution_count": 127,
      "outputs": [
        {
          "output_type": "stream",
          "name": "stdout",
          "text": [
            "          completed_plan                                                    \\\n",
            "channel          Вебсайт       Выставка Контекстная реклама          Почта   \n",
            "manager                                                                      \n",
            "А. Перри   Не использует  Не использует       Не использует  Не использует   \n",
            "А. Фостер  Не использует  Не использует       Не использует  Не использует   \n",
            "М. Баили             0.0            0.0                 0.0           0.25   \n",
            "Р. Хайерс            0.0       0.285714       Не использует  Не использует   \n",
            "С. Милер   Не использует  Не использует       Не использует  Не использует   \n",
            "Т. Ли      Не использует  Не использует                 0.0  Не использует   \n",
            "\n",
            "                                          \n",
            "channel     Рекомендация Холодный звонок  \n",
            "manager                                   \n",
            "А. Перри             0.0   Не использует  \n",
            "А. Фостер  Не использует        0.666667  \n",
            "М. Баили           0.625        0.235294  \n",
            "Р. Хайерс  Не использует             0.0  \n",
            "С. Милер             0.1   Не использует  \n",
            "Т. Ли                0.0             0.0  \n"
          ]
        }
      ]
    },
    {
      "cell_type": "markdown",
      "source": [
        "**Вывод: Менеджеры явно лучше работают с определённым каналом связи. Профилирование менеджеров имеет смысл.**"
      ],
      "metadata": {
        "id": "iYVLszWncas7"
      }
    },
    {
      "cell_type": "markdown",
      "source": [
        "**Вывод 2: есть смысл сфокусироваться только на опредеденных, самых выгодных, категориях (например, оборудование) и регионах (например, магнитогорск)**"
      ],
      "metadata": {
        "id": "fD4ZcnnLdKuM"
      }
    }
  ],
  "metadata": {
    "kernelspec": {
      "display_name": "Python 3",
      "language": "python",
      "name": "python3"
    },
    "language_info": {
      "codemirror_mode": {
        "name": "ipython",
        "version": 3
      },
      "file_extension": ".py",
      "mimetype": "text/x-python",
      "name": "python",
      "nbconvert_exporter": "python",
      "pygments_lexer": "ipython3",
      "version": "3.7.6"
    },
    "colab": {
      "provenance": [],
      "include_colab_link": true
    }
  },
  "nbformat": 4,
  "nbformat_minor": 0
}