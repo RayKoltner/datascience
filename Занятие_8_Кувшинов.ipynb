{
  "cells": [
    {
      "cell_type": "markdown",
      "metadata": {
        "id": "1NJrU9xhCK1u"
      },
      "source": [
        "# Первые графики и выводы\n",
        "\n",
        "Продолжаем разговор о виртуализации данных.\n",
        "\n",
        "Аналитик должен представлять себе гистограмму ожидаемого вида, чтобы знать, когда стоит насторожиться. Для некоторых явлений можно выяснить все возможные значения и описать частоту их появления — это называется распределение.\n",
        "Отвлекитесь от задачи про АЗС и пофантазируйте. Представьте два игральных кубика с шестью гранями. Мысленно подбросьте их пару.\n",
        "\n",
        "Единственная комбинация, дающая 12 очков в сумме — это две шестёрки. А 8 можно получить разными способами: 2 и 6; 3 и 5; 4 и 4. Из-за того, что таких наборов больше, получить восьмёрку более вероятно, чем 12. Напишем функцию в Python, она выдаст все возможные комбинации с их частотой, по ним построим гистограмму.\n",
        "\n",
        "Для генерации случайных чисел в Python вызывают библиотеку **random** (англ. «случайный»):\n",
        "\n",
        "**import random**\n",
        "\n",
        "Функция **random.randint()** (от англ. random integer, «случайное целое число») возвращает случайные целые числа. Она принимает два аргумента: самое маленькое и самое большое допустимое число. Посмотрим, как она работает:"
      ]
    },
    {
      "cell_type": "code",
      "execution_count": null,
      "metadata": {
        "id": "SSPxT6UTCK1y",
        "outputId": "f7d30400-d40b-4daa-c017-25c5bc297e00"
      },
      "outputs": [
        {
          "name": "stdout",
          "output_type": "stream",
          "text": [
            "5\n",
            "4\n",
            "1\n"
          ]
        }
      ],
      "source": [
        "import random\n",
        "print(random.randint(1, 5))\n",
        "print(random.randint(1, 5))\n",
        "print(random.randint(1, 5))"
      ]
    },
    {
      "cell_type": "markdown",
      "metadata": {
        "id": "Q2Nj6FTtCK1z"
      },
      "source": [
        "Распечатанные результаты работы функции выдали нам пять случайных чисел от 1 до 5. Однако вернёмся к кубикам. Эта же функция для диапазона от 1 до 6 будет имитировать результат броска кубика.  Напишем функцию, возвращающую случайное число точек на верхней грани:"
      ]
    },
    {
      "cell_type": "code",
      "execution_count": null,
      "metadata": {
        "id": "O3GjLI8RCK10",
        "outputId": "bf4776f8-02ab-4be1-c648-5a0d470862b3"
      },
      "outputs": [
        {
          "name": "stdout",
          "output_type": "stream",
          "text": [
            "1\n",
            "4\n",
            "6\n"
          ]
        }
      ],
      "source": [
        "# от англ. dice - кубик, roll - бросок\n",
        "def dice_roll():\n",
        "    score = random.randint(1, 6)\n",
        "    return score\n",
        "print(dice_roll())\n",
        "print(dice_roll())\n",
        "print(dice_roll())\n"
      ]
    },
    {
      "cell_type": "markdown",
      "metadata": {
        "id": "iHqxluOvCK11"
      },
      "source": [
        "У нас пара кубиков. Значит, нужна функция, получающая количество очков от броска двух кубиков."
      ]
    },
    {
      "cell_type": "code",
      "execution_count": null,
      "metadata": {
        "id": "9fQqE9hBCK12",
        "outputId": "833e7c95-ddb5-432e-b90e-7a6588a24b08"
      },
      "outputs": [
        {
          "name": "stdout",
          "output_type": "stream",
          "text": [
            "12\n",
            "6\n",
            "8\n"
          ]
        }
      ],
      "source": [
        "# от англ. double - двойной, roll - бросок, score - очки\n",
        "def double_roll_score():\n",
        "    first = dice_roll()\n",
        "    second = dice_roll()\n",
        "    score = first + second\n",
        "    return score\n",
        "\n",
        "\n",
        "print(double_roll_score())\n",
        "print(double_roll_score())\n",
        "print(double_roll_score())\n"
      ]
    },
    {
      "cell_type": "markdown",
      "metadata": {
        "id": "YzXrqWqqCK13"
      },
      "source": [
        "Сделаем 1000 таких бросков и построим гистограмму полученных очков:"
      ]
    },
    {
      "cell_type": "code",
      "execution_count": null,
      "metadata": {
        "id": "ju9MPX8FCK13",
        "outputId": "9a5abf39-2209-4f8b-c7a8-7ad6a7214021"
      },
      "outputs": [
        {
          "data": {
            "text/plain": [
              "array([[<matplotlib.axes._subplots.AxesSubplot object at 0x000001E1016A6088>]],\n",
              "      dtype=object)"
            ]
          },
          "execution_count": 70,
          "metadata": {},
          "output_type": "execute_result"
        },
        {
          "data": {
            "image/png": "[encoded data removed]",
            "text/plain": [
              "<Figure size 432x288 with 1 Axes>"
            ]
          },
          "metadata": {
            "needs_background": "light"
          },
          "output_type": "display_data"
        }
      ],
      "source": [
        "import pandas as pd\n",
        "# Cоздаём пустой список. В него мы\n",
        "# будем складывать результаты экспериментов.\n",
        "experiments = []\n",
        "for i in range(1000):\n",
        "        score = double_roll_score()\n",
        "        # Напомним: функция append() добавляет новый\n",
        "        # элемент score в конец списка experiments.\n",
        "        experiments.append(score)\n",
        "\n",
        "df_experiments = pd.DataFrame(experiments)\n",
        "df_experiments.hist(bins=11, range=(2, 12))\n"
      ]
    },
    {
      "cell_type": "markdown",
      "metadata": {
        "id": "AWqHwUeLCK13"
      },
      "source": [
        "Интересно, такая гистограмма описывает только броски кубиков или характерна для других явлений?\n",
        "\n",
        "Будем бросать на стол 10 монет и считать количество выпавших орлов. Функции для имитации одного броска и подсчёта числа орлов в нескольких бросках уже в прекоде. Мы повторили эксперимент 1000 раз и сохранили результат в переменной df_experiments.\n",
        "Построим гистограмму полученных полученных значений с диапазоном значений от 0 до 10 и количеством корзин 11."
      ]
    },
    {
      "cell_type": "code",
      "execution_count": null,
      "metadata": {
        "id": "kp2RvJb8CK14",
        "outputId": "de80af5b-70c5-4a3c-ebaa-b20cd734610f"
      },
      "outputs": [
        {
          "data": {
            "text/plain": [
              "array([[<matplotlib.axes._subplots.AxesSubplot object at 0x000001E1016655C8>]],\n",
              "      dtype=object)"
            ]
          },
          "execution_count": 71,
          "metadata": {},
          "output_type": "execute_result"
        },
        {
          "data": {
            "image/png": "[encoded data removed]",
            "text/plain": [
              "<Figure size 432x288 with 1 Axes>"
            ]
          },
          "metadata": {
            "needs_background": "light"
          },
          "output_type": "display_data"
        }
      ],
      "source": [
        "# Функция, имитирующая один бросок монеты.\n",
        "# От англ. coin - монета, flip - бросок монеты.\n",
        "def coin_flip():\n",
        "    # возможны два варианта:\n",
        "    # - выпала решка, это +0 орлов\n",
        "    # - выпал орёл, это +1 орёл\n",
        "    score = random.randint(0, 1)\n",
        "    return score\n",
        "\n",
        "\n",
        "# Функция для суммирования числа орлов в нескольких бросках.\n",
        "# Орёл и решка переводятся на английский как heads и tails.\n",
        "# Аргумент repeat говорит, сколько раз бросать монету\n",
        "# (от англ. repeat - повторение).\n",
        "def flips_heads(repeat):\n",
        "    total = 0\n",
        "    for i in range(repeat):\n",
        "        flip = coin_flip()\n",
        "        total += flip\n",
        "    return total\n",
        "\n",
        "\n",
        "# Cоздаём пустой список. В него мы\n",
        "# будем складывать результаты экспериментов.\n",
        "experiments = []\n",
        "\n",
        "for i in range(1000):\n",
        "    score = flips_heads(10)\n",
        "\n",
        "    # Напомним: функция append() добавляет новый\n",
        "    # элемент score в конец списка experiments.\n",
        "    experiments.append(score)\n",
        "\n",
        "# превращаем список в DataFrame\n",
        "df_experiments = pd.DataFrame(experiments)\n",
        "df_experiments.hist(bins=11, range=(0, 10))\n"
      ]
    },
    {
      "cell_type": "markdown",
      "metadata": {
        "id": "VW4DwA66CK14"
      },
      "source": [
        "## Распределения\n",
        "\n",
        "Взгляните ещё раз на гистограммы кубиков и орлов. Наиболее частые (типичные, нормальные) значения оказываются посередине. А редкие — по краям. График симметричен и напоминает колокол. Такое распределение называется **нормальное**.\n",
        "![image.png](attachment:image.png)\n",
        "\n",
        "Нормальные или тяготеющие к ним распределения распространены в жизни. Так распределяется рост людей, размер яблок, результаты измерения температуры. Понимание природы распределений необходимо для обнаружения важных аномалий.\n",
        "\n",
        "Так, измеряя длину изготовленных на заводе деталей, мы ожидаем распределение, тяготеющее к нормальному. Если же в результате расчётов получили распределение, скажем, с двумя пиками, это должно насторожить аналитика. Такое может быть, если на заводе есть две производственные линии, и с одной из них приходят данные в сантиметрах, а с другой — в метрах.\n",
        "\n",
        "В общем случае любое отклонение от ожидаемого распределения — это сигнал, что данные не в порядке.\n",
        "Ещё одно распределение, которое часто встречается — распределение Пуассона. Оно описывает число событий в единицу времени."
      ]
    },
    {
      "cell_type": "markdown",
      "metadata": {
        "id": "1TnV1vx8CK15"
      },
      "source": [
        "Например, в среднем в магазин заходит 2 человека в минуту. Но это не значит, что каждую минуту заходит ровно 2 человека. Может, в эту минуту не зайдёт ни одного, а через минуту зайдёт 5. Если каждый посетитель заходит случайным образом, независимо от других — это и есть распределение Пуассона:\n",
        "![image.png](attachment:image.png)"
      ]
    },
    {
      "cell_type": "markdown",
      "metadata": {
        "id": "a7feT1IeCK15"
      },
      "source": [
        "Форма распределения Пуассона зависит от числа событий. При небольших значениях распределение смещено влево, а с увеличением числа событий становится симметричным и уходит вправо."
      ]
    },
    {
      "cell_type": "markdown",
      "metadata": {
        "id": "LOSWrF5jCK15"
      },
      "source": [
        "## Диаграмма размаха\n",
        "Вспомним распределение времени на АЗС, которое мы получили на прошлом занятии.\n"
      ]
    },
    {
      "cell_type": "code",
      "execution_count": null,
      "metadata": {
        "id": "T4frSumOCK16",
        "outputId": "9503ea73-8bd9-4801-b730-7490e050f541"
      },
      "outputs": [
        {
          "data": {
            "text/plain": [
              "<matplotlib.axes._subplots.AxesSubplot at 0x1e100b3c548>"
            ]
          },
          "execution_count": 72,
          "metadata": {},
          "output_type": "execute_result"
        },
        {
          "data": {
            "image/png": "[encoded data removed]",
            "text/plain": [
              "<Figure size 432x288 with 1 Axes>"
            ]
          },
          "metadata": {
            "needs_background": "light"
          },
          "output_type": "display_data"
        }
      ],
      "source": [
        "import pandas as d\n",
        "data = pd.read_csv('D:/все тут мое!/Анализ данных/visits.csv', sep = '\\t')\n",
        "#data.info()\n",
        "data['time_spent'].hist(bins=100, range=(0, 1500))"
      ]
    },
    {
      "cell_type": "markdown",
      "metadata": {
        "id": "zS6TfXOCCK16"
      },
      "source": [
        "Ожидаемое распределение времени заправки — гистограмма с длинным хвостом на высоких значениях и падением в ноль слева от пика, не доходя до нулевого времени заправки. Однако на графике виден высокий пик около 0. Скорее всего, он имеет иную природу. Это не заправки, а ошибки расчётов, проезды сквозь АЗС или что-то ещё.\n",
        "\n",
        "Описывая распределение, аналитики рассчитывают среднее арифметическое или медиану. С соответствующими методами **mean()** и **median()** вы познакомились в курсе по предобработке данных. Однако помимо медианы и среднего, важно знать характерный разброс — то, какие значения оказались вдали от среднего, и насколько их много.\n",
        "\n",
        "Самое простое, что можно посчитать для оценки разброса — это минимальное и максимальное значения. Такое описание не всегда точно, подвержено влиянию выбросов. Гораздо более устойчивая оценка — **межквартильный размах**.\n",
        "\n",
        "Квартили (от латинского quartus — «четвёртый») разбивают упорядоченный набор данных на четыре части. Первый квартиль Q1 — число, отделяющее первую четверть выборки: 25% элементов меньше, а 75% — больше него. Медиана — второй квартиль Q2, половина элементов больше и половина меньше неё. Третий квартиль Q3 — это отсечка трёх четвертей: 75% элементов меньше и 25% элементов больше него. Межквартильный размах — это расстояние между Q1 и Q3.\n",
        "![image.png](attachment:image.png)\n"
      ]
    },
    {
      "cell_type": "markdown",
      "metadata": {
        "id": "TwxwAxJcCK16"
      },
      "source": [
        "Увидеть медиану и квартили в Python можно на специальном графике. Его называют диаграмма размаха или ящик с усами.\n",
        "![image.png](attachment:image.png)\n",
        "«Ящик» ограничен первым и третьим квартилями. Внутри ящика обозначают медиану."
      ]
    },
    {
      "cell_type": "markdown",
      "metadata": {
        "id": "DQB8VPSNCK17"
      },
      "source": [
        "«Усы» простираются влево и вправо от границ ящика на расстояние, равное 1,5 межквартильным размахам (сокращённо IQR, от англ. interquartile range, «межквартильный размах»). В размах «усов» попадают нормальные значения, а за пределами находятся выбросы, изображённые точками.\n",
        "![image.png](attachment:image.png)"
      ]
    },
    {
      "cell_type": "markdown",
      "metadata": {
        "id": "ia2kdzInCK17"
      },
      "source": [
        "## Диаграмма размаха в Python\n",
        "В Python диаграмму размаха строят методом **boxplot()** (от англ. box and whisker plot — «ящик с усами»).\n",
        "Посмотрим, как выглядит график для данных задачи про АЗС:"
      ]
    },
    {
      "cell_type": "code",
      "execution_count": null,
      "metadata": {
        "id": "9XQhbhmGCK18",
        "outputId": "dd7bfb06-1407-41ce-fd00-26552e324be3"
      },
      "outputs": [
        {
          "data": {
            "text/plain": [
              "<matplotlib.axes._subplots.AxesSubplot at 0x1e1018e5488>"
            ]
          },
          "execution_count": 73,
          "metadata": {},
          "output_type": "execute_result"
        },
        {
          "data": {
            "image/png": "[encoded data removed]",
            "text/plain": [
              "<Figure size 432x288 with 1 Axes>"
            ]
          },
          "metadata": {
            "needs_background": "light"
          },
          "output_type": "display_data"
        }
      ],
      "source": [
        "data.boxplot()"
      ]
    },
    {
      "cell_type": "markdown",
      "metadata": {
        "id": "G5956zNsCK18"
      },
      "source": [
        "Для продвинутой работы с графиками (в том числе гистограммами), импортируют библиотеку **matplotlib** (от англ. math — «математический», **plot** — «график, диаграмма», **library** — «библиотека»).\n",
        "\n",
        "Желая построить график, обращаются к методам Pandas, а он, в свою очередь, передаёт данные **matplotlib**. Pandas при вызове функций рисования возвращает оси графика. Ими можно управлять, задавая ограничения на оси абсцисс (x) и оси ординат (y).\n",
        "\n",
        "Применим метод **ylim(y_min, y_max)** (от англ. y-limits, «пределы по оси ординат») для изменения масштаба по вертикальной оси. Если требуется поменять масштаб по горизонтальной оси, вызывают метод **xlim (x_min, x_max)** (от англ. х-limits, «пределы по оси абсцисс»). Оба метода имеют 2 аргумента: минимальное и максимальное желаемое значение для графика; а сам метод вызывают из библиотеки **plt**:"
      ]
    },
    {
      "cell_type": "code",
      "execution_count": null,
      "metadata": {
        "id": "hlyLALptCK18",
        "outputId": "b8d20808-a6c7-43d9-c55a-b98fac1bc767"
      },
      "outputs": [
        {
          "data": {
            "text/plain": [
              "(0, 200)"
            ]
          },
          "execution_count": 74,
          "metadata": {},
          "output_type": "execute_result"
        },
        {
          "data": {
            "image/png": "[encoded data removed]",
            "text/plain": [
              "<Figure size 432x288 with 1 Axes>"
            ]
          },
          "metadata": {
            "needs_background": "light"
          },
          "output_type": "display_data"
        }
      ],
      "source": [
        "import matplotlib.pyplot as plt\n",
        "\n",
        "plt.ylim(-50, 500)\n",
        "plt.xlim(0, 200)\n"
      ]
    },
    {
      "cell_type": "markdown",
      "metadata": {
        "id": "8aJsSC-XCK19"
      },
      "source": [
        "### Задача 1\n",
        "**boxplot()** позволяет визуально оценить характеристики распределения, не прибегая к гистограмме. Удобно, когда нужно сравнить разные выборки.\n",
        "Нарисуйте диаграмму размаха для **data**, ограничив диапазон по вертикали значениями -100 и 1000.\n"
      ]
    },
    {
      "cell_type": "code",
      "execution_count": 1,
      "metadata": {
        "id": "3lzVDth3CK19",
        "outputId": "b04de2d9-c7a0-410e-f9f2-7716249d8c1f",
        "colab": {
          "base_uri": "https://localhost:8080/",
          "height": 452
        }
      },
      "outputs": [
        {
          "output_type": "execute_result",
          "data": {
            "text/plain": [
              "<Axes: >"
            ]
          },
          "metadata": {},
          "execution_count": 1
        },
        {
          "output_type": "display_data",
          "data": {
            "text/plain": [
              "<Figure size 640x480 with 1 Axes>"
            ],
            "image/png": "[encoded data removed]"
          },
          "metadata": {}
        }
      ],
      "source": [
        "#Youre code is here\n",
        "import matplotlib.pyplot as plt\n",
        "import pandas as pd\n",
        "\n",
        "data = pd.read_csv(\"https://raw.githubusercontent.com/RayKoltner/datascience/refs/heads/main/visits.csv\", sep=\"\\t\")\n",
        "plt.ylim(-100, 1000)\n",
        "data.boxplot()"
      ]
    },
    {
      "cell_type": "markdown",
      "metadata": {
        "id": "1p1Ks1DfCK19"
      },
      "source": [
        "## Описание данных\n",
        "\n",
        "Внимательно изучите усы.\n",
        "Нижний «ус» упирается в 0, минимальное значение. Верхний заканчивается около 650 секунд — это 1.5 межквартильного размаха, добавленного к 3-му квартилю. Это ориентировочная граница нормального размаха. Всё, что лежит за ней, считается выбросом. Более высокие значения рисуются отдельными точками, но сливаются в единую жирную линию: таких выбросов у нас очень много.\n",
        "\n",
        "И всё же значения, которые отсёк верхний «ус» — редкие. Видно, насколько медиана (зелёная линия) не стремится к длинному хвосту высоких значений.\n",
        "\n",
        "Заметные на гистограмме нюансы распределения хорошо бы зафиксировать в числах: иметь под рукой среднее, медиану, количество наблюдений в выборке и разброс их значений. Такие характеристики, дающие представление о выборке, входят в числовое описание данных. В Python его получают методом **describe()** (англ. «описать, охарактеризовать»). Результат отработки метода — список характерных значений:\n",
        "\n",
        "count -  количество наблюдений в наборе данных\n",
        "mean - среднее арифметическое\n",
        "std -  стандартное отклонение\n",
        "min -  минимальное значение\n",
        "25% -  первый квартиль\n",
        "50% -  медиана или второй квартиль\n",
        "75% - третий квартиль\n",
        "max -  максимальное значение\n"
      ]
    },
    {
      "cell_type": "code",
      "execution_count": null,
      "metadata": {
        "id": "4An_vLRSCK19",
        "outputId": "0dcda5e4-c0dd-46ec-c957-eb9ffbd1de9a"
      },
      "outputs": [
        {
          "name": "stdout",
          "output_type": "stream",
          "text": [
            "          time_spent\n",
            "count  317104.000000\n",
            "mean      203.382294\n",
            "std       395.754791\n",
            "min         0.000000\n",
            "25%        19.000000\n",
            "50%       108.000000\n",
            "75%       274.000000\n",
            "max     28925.000000\n"
          ]
        }
      ],
      "source": [
        "print(data.describe())"
      ]
    },
    {
      "cell_type": "markdown",
      "metadata": {
        "id": "NR2X-m8SCK1-"
      },
      "source": [
        "Описание данных может быть не только дополнением к графикам, но и самодостаточной боевой единицей первичного анализа. Если в данных много столбцов, или нужно сравнить несколько выборок, аналитики обращаются к числовому описанию, а не к графикам.\n",
        "\n",
        "Стандартное отклонение — единственное значение, которого мы ещё не касались. Оно характеризует разброс величин, показывает, насколько значения в выборке отличаются от среднего арифметического.\n",
        "Бывает, что именно стандартное отклонение позволяет понять природу распределения и определить, насколько значения однородны. Выборка, где все значения близки к среднему, будет охарактеризована малым стандартным отклонением. Если же стандартное отклонение велико, в наборе данных могут быть серьёзные аномалии или выбросы.\n"
      ]
    },
    {
      "cell_type": "markdown",
      "metadata": {
        "id": "Cwc7G4N6CK1-"
      },
      "source": [
        "# Срезы данных методом query()\n",
        "\n",
        "Вы уже знаете, как получить общее представление о данных. Пора научиться разбираться в деталях. Откуда взялись короткие заезды на АЗС? А очень долгие? Это характерно для одной АЗС или всех? Отличаются ли чем-то АЗС со сверхдолгими заправками от других?\n",
        "\n",
        "Это гибкий инструмент получения срезов и владеть им полезно. Однако существует и более простой способ — метод **query()** (англ. «запрос»).\n",
        "\n",
        "Необходимое условие для среза записывается в строке, которую передают как аргумент методу query(). А его применяют к датафрейму. В результате получаем нужный срез.\n",
        "\n",
        "Вот для примера датафрейм с информацией об авиабилетах. Указаны пункт вылета **('From')** и прилёта **('To')**, наличие багажа **('Has_luggage')**, прямой ли рейс **('Is_Direct')**, цена билета туда-обратно **('Price')**, дата вылета **('Date_From')** и прилёта **('Date_To')**, название авиалиний **('Airline')**, время в пути в минутах туда **('Travel_time_from')** и обратно **('Travel_time_to')**.\n"
      ]
    },
    {
      "cell_type": "code",
      "execution_count": 2,
      "metadata": {
        "id": "MdO9O9WsCK1-",
        "outputId": "016fca20-50b2-40ef-9ecf-8b5a8292fc45",
        "colab": {
          "base_uri": "https://localhost:8080/"
        }
      },
      "outputs": [
        {
          "output_type": "stream",
          "name": "stdout",
          "text": [
            "             From         To  Is_Direct  Has_luggage  Price   Date_From  \\\n",
            "0          Moscow       Rome      False         True  21032    01.07.19   \n",
            "1          Moscow       Rome       True        False  19250    01.07.19   \n",
            "2  St. Petersburg       Rome      False        False  19301  04.07.2019   \n",
            "3  St. Petersburg  Barcelona      False         True  20168  03.07.2019   \n",
            "4  St. Petersburg  Barcelona       True        False  31425  05.07.2019   \n",
            "\n",
            "      Date_To  Airline  Travel_time_from  Travel_time_to  \n",
            "0    07.07.19  Belavia               995             350  \n",
            "1    07.07.19       S7               230             225  \n",
            "2  10.07.2019  Finnair               605             720  \n",
            "3  09.07.2019    Swiss               365             355  \n",
            "4  11.07.2019  Rossiya               255             250  \n"
          ]
        }
      ],
      "source": [
        "df = pd.DataFrame(\n",
        "    {\n",
        "        'From': [\n",
        "            'Moscow',\n",
        "            'Moscow',\n",
        "            'St. Petersburg',\n",
        "            'St. Petersburg',\n",
        "            'St. Petersburg',\n",
        "        ],\n",
        "        'To': ['Rome', 'Rome', 'Rome', 'Barcelona', 'Barcelona'],\n",
        "        'Is_Direct': [False, True, False, False, True],\n",
        "        'Has_luggage': [True, False, False, True, False],\n",
        "        'Price': [21032, 19250, 19301, 20168, 31425],\n",
        "        'Date_From': [\n",
        "            '01.07.19',\n",
        "            '01.07.19',\n",
        "            '04.07.2019',\n",
        "            '03.07.2019',\n",
        "            '05.07.2019',\n",
        "        ],\n",
        "        'Date_To': [\n",
        "            '07.07.19',\n",
        "            '07.07.19',\n",
        "            '10.07.2019',\n",
        "            '09.07.2019',\n",
        "            '11.07.2019',\n",
        "        ],\n",
        "        'Airline': ['Belavia', 'S7', 'Finnair', 'Swiss', 'Rossiya'],\n",
        "        'Travel_time_from': [995, 230, 605, 365, 255],\n",
        "        'Travel_time_to': [350, 225, 720, 355, 250],\n",
        "    }\n",
        ")\n",
        "print(df)\n",
        "\n"
      ]
    },
    {
      "cell_type": "markdown",
      "metadata": {
        "id": "O_raFYz-CK1_"
      },
      "source": [
        "Посмотрим информацию о рейсах на Барселону"
      ]
    },
    {
      "cell_type": "code",
      "execution_count": null,
      "metadata": {
        "id": "3Wz9KQoYCK1_",
        "outputId": "3d80242e-53f9-4e8d-d85d-b875ab2e2a4e"
      },
      "outputs": [
        {
          "data": {
            "text/html": [
              "<div>\n",
              "<style scoped>\n",
              "    .dataframe tbody tr th:only-of-type {\n",
              "        vertical-align: middle;\n",
              "    }\n",
              "\n",
              "    .dataframe tbody tr th {\n",
              "        vertical-align: top;\n",
              "    }\n",
              "\n",
              "    .dataframe thead th {\n",
              "        text-align: right;\n",
              "    }\n",
              "</style>\n",
              "<table border=\"1\" class=\"dataframe\">\n",
              "  <thead>\n",
              "    <tr style=\"text-align: right;\">\n",
              "      <th></th>\n",
              "      <th>From</th>\n",
              "      <th>To</th>\n",
              "      <th>Is_Direct</th>\n",
              "      <th>Has_luggage</th>\n",
              "      <th>Price</th>\n",
              "      <th>Date_From</th>\n",
              "      <th>Date_To</th>\n",
              "      <th>Airline</th>\n",
              "      <th>Travel_time_from</th>\n",
              "      <th>Travel_time_to</th>\n",
              "    </tr>\n",
              "  </thead>\n",
              "  <tbody>\n",
              "    <tr>\n",
              "      <th>3</th>\n",
              "      <td>St. Petersburg</td>\n",
              "      <td>Barcelona</td>\n",
              "      <td>False</td>\n",
              "      <td>True</td>\n",
              "      <td>20168</td>\n",
              "      <td>03.07.2019</td>\n",
              "      <td>09.07.2019</td>\n",
              "      <td>Swiss</td>\n",
              "      <td>365</td>\n",
              "      <td>355</td>\n",
              "    </tr>\n",
              "    <tr>\n",
              "      <th>4</th>\n",
              "      <td>St. Petersburg</td>\n",
              "      <td>Barcelona</td>\n",
              "      <td>True</td>\n",
              "      <td>False</td>\n",
              "      <td>31425</td>\n",
              "      <td>05.07.2019</td>\n",
              "      <td>11.07.2019</td>\n",
              "      <td>Rossiya</td>\n",
              "      <td>255</td>\n",
              "      <td>250</td>\n",
              "    </tr>\n",
              "  </tbody>\n",
              "</table>\n",
              "</div>"
            ],
            "text/plain": [
              "             From         To  Is_Direct  Has_luggage  Price   Date_From  \\\n",
              "3  St. Petersburg  Barcelona      False         True  20168  03.07.2019   \n",
              "4  St. Petersburg  Barcelona       True        False  31425  05.07.2019   \n",
              "\n",
              "      Date_To  Airline  Travel_time_from  Travel_time_to  \n",
              "3  09.07.2019    Swiss               365             355  \n",
              "4  11.07.2019  Rossiya               255             250  "
            ]
          },
          "execution_count": 78,
          "metadata": {},
          "output_type": "execute_result"
        }
      ],
      "source": [
        "df.query('To == \"Barcelona\"')"
      ]
    },
    {
      "cell_type": "markdown",
      "metadata": {
        "id": "SK75pG3HCK2A"
      },
      "source": [
        "Условия, указанные в параметре **query()**:\n",
        "\n",
        "•\tподдерживают разные операции сравнения: !=, >, >=, <, <=\n",
        "\n",
        "•\tпроверяют, входят ли конкретные значения в список, конструкцией: **Date_To in (\"07.07.19\", \"09.07.2019\")**. Если нужно узнать, нет ли в списке определённых значений, пишут так: **Date_To not in (\"07.07.19\", \"09.07.2019\")**.\n",
        "\n",
        "•\tработают с логическими операторами в привычном виде, где «или» — or , «и» — and, «не» — not. Указывать условия в скобках необязательно. Без скобок операции выполняются в следующем порядке: сначала not, потом and и, наконец, or.\n",
        "\n",
        "Обратите внимание, что значение \"Barcelona\" в коде задачи заключено в двойные кавычки. Это нужно, чтобы различать одинарные кавычки, оформляющие строку, и кавычки для элемента \"Barcelona\".\n",
        "\n",
        "Условия для среза данных можно объединять. Например, чтобы отыскать прямые рейсы или билеты с включённым в стоимость багажом — мало кому нравится летать со множеством пересадок, да ещё и без вещей.\n"
      ]
    },
    {
      "cell_type": "code",
      "execution_count": null,
      "metadata": {
        "id": "TQ36HiY_CK2B",
        "outputId": "f689184c-abf6-43a2-c50c-b078b30f4653"
      },
      "outputs": [
        {
          "data": {
            "text/html": [
              "<div>\n",
              "<style scoped>\n",
              "    .dataframe tbody tr th:only-of-type {\n",
              "        vertical-align: middle;\n",
              "    }\n",
              "\n",
              "    .dataframe tbody tr th {\n",
              "        vertical-align: top;\n",
              "    }\n",
              "\n",
              "    .dataframe thead th {\n",
              "        text-align: right;\n",
              "    }\n",
              "</style>\n",
              "<table border=\"1\" class=\"dataframe\">\n",
              "  <thead>\n",
              "    <tr style=\"text-align: right;\">\n",
              "      <th></th>\n",
              "      <th>From</th>\n",
              "      <th>To</th>\n",
              "      <th>Is_Direct</th>\n",
              "      <th>Has_luggage</th>\n",
              "      <th>Price</th>\n",
              "      <th>Date_From</th>\n",
              "      <th>Date_To</th>\n",
              "      <th>Airline</th>\n",
              "      <th>Travel_time_from</th>\n",
              "      <th>Travel_time_to</th>\n",
              "    </tr>\n",
              "  </thead>\n",
              "  <tbody>\n",
              "    <tr>\n",
              "      <th>0</th>\n",
              "      <td>Moscow</td>\n",
              "      <td>Rome</td>\n",
              "      <td>False</td>\n",
              "      <td>True</td>\n",
              "      <td>21032</td>\n",
              "      <td>01.07.19</td>\n",
              "      <td>07.07.19</td>\n",
              "      <td>Belavia</td>\n",
              "      <td>995</td>\n",
              "      <td>350</td>\n",
              "    </tr>\n",
              "    <tr>\n",
              "      <th>1</th>\n",
              "      <td>Moscow</td>\n",
              "      <td>Rome</td>\n",
              "      <td>True</td>\n",
              "      <td>False</td>\n",
              "      <td>19250</td>\n",
              "      <td>01.07.19</td>\n",
              "      <td>07.07.19</td>\n",
              "      <td>S7</td>\n",
              "      <td>230</td>\n",
              "      <td>225</td>\n",
              "    </tr>\n",
              "    <tr>\n",
              "      <th>3</th>\n",
              "      <td>St. Petersburg</td>\n",
              "      <td>Barcelona</td>\n",
              "      <td>False</td>\n",
              "      <td>True</td>\n",
              "      <td>20168</td>\n",
              "      <td>03.07.2019</td>\n",
              "      <td>09.07.2019</td>\n",
              "      <td>Swiss</td>\n",
              "      <td>365</td>\n",
              "      <td>355</td>\n",
              "    </tr>\n",
              "    <tr>\n",
              "      <th>4</th>\n",
              "      <td>St. Petersburg</td>\n",
              "      <td>Barcelona</td>\n",
              "      <td>True</td>\n",
              "      <td>False</td>\n",
              "      <td>31425</td>\n",
              "      <td>05.07.2019</td>\n",
              "      <td>11.07.2019</td>\n",
              "      <td>Rossiya</td>\n",
              "      <td>255</td>\n",
              "      <td>250</td>\n",
              "    </tr>\n",
              "  </tbody>\n",
              "</table>\n",
              "</div>"
            ],
            "text/plain": [
              "             From         To  Is_Direct  Has_luggage  Price   Date_From  \\\n",
              "0          Moscow       Rome      False         True  21032    01.07.19   \n",
              "1          Moscow       Rome       True        False  19250    01.07.19   \n",
              "3  St. Petersburg  Barcelona      False         True  20168  03.07.2019   \n",
              "4  St. Petersburg  Barcelona       True        False  31425  05.07.2019   \n",
              "\n",
              "      Date_To  Airline  Travel_time_from  Travel_time_to  \n",
              "0    07.07.19  Belavia               995             350  \n",
              "1    07.07.19       S7               230             225  \n",
              "3  09.07.2019    Swiss               365             355  \n",
              "4  11.07.2019  Rossiya               255             250  "
            ]
          },
          "execution_count": 79,
          "metadata": {},
          "output_type": "execute_result"
        }
      ],
      "source": [
        "df.query('Is_Direct == True or Has_luggage == True')"
      ]
    },
    {
      "cell_type": "markdown",
      "metadata": {
        "id": "9UHGmDMPCK2C"
      },
      "source": [
        "## Возможности query()\n",
        "Кроме объединения условий, в **query()** можно проводить математические операции:\n"
      ]
    },
    {
      "cell_type": "code",
      "execution_count": null,
      "metadata": {
        "id": "psXZzikxCK2D",
        "outputId": "240e6b0e-5ebc-43e8-bf10-0860d81c2c59"
      },
      "outputs": [
        {
          "data": {
            "text/html": [
              "<div>\n",
              "<style scoped>\n",
              "    .dataframe tbody tr th:only-of-type {\n",
              "        vertical-align: middle;\n",
              "    }\n",
              "\n",
              "    .dataframe tbody tr th {\n",
              "        vertical-align: top;\n",
              "    }\n",
              "\n",
              "    .dataframe thead th {\n",
              "        text-align: right;\n",
              "    }\n",
              "</style>\n",
              "<table border=\"1\" class=\"dataframe\">\n",
              "  <thead>\n",
              "    <tr style=\"text-align: right;\">\n",
              "      <th></th>\n",
              "      <th>From</th>\n",
              "      <th>To</th>\n",
              "      <th>Is_Direct</th>\n",
              "      <th>Has_luggage</th>\n",
              "      <th>Price</th>\n",
              "      <th>Date_From</th>\n",
              "      <th>Date_To</th>\n",
              "      <th>Airline</th>\n",
              "      <th>Travel_time_from</th>\n",
              "      <th>Travel_time_to</th>\n",
              "    </tr>\n",
              "  </thead>\n",
              "  <tbody>\n",
              "    <tr>\n",
              "      <th>1</th>\n",
              "      <td>Moscow</td>\n",
              "      <td>Rome</td>\n",
              "      <td>True</td>\n",
              "      <td>False</td>\n",
              "      <td>19250</td>\n",
              "      <td>01.07.19</td>\n",
              "      <td>07.07.19</td>\n",
              "      <td>S7</td>\n",
              "      <td>230</td>\n",
              "      <td>225</td>\n",
              "    </tr>\n",
              "    <tr>\n",
              "      <th>2</th>\n",
              "      <td>St. Petersburg</td>\n",
              "      <td>Rome</td>\n",
              "      <td>False</td>\n",
              "      <td>False</td>\n",
              "      <td>19301</td>\n",
              "      <td>04.07.2019</td>\n",
              "      <td>10.07.2019</td>\n",
              "      <td>Finnair</td>\n",
              "      <td>605</td>\n",
              "      <td>720</td>\n",
              "    </tr>\n",
              "    <tr>\n",
              "      <th>3</th>\n",
              "      <td>St. Petersburg</td>\n",
              "      <td>Barcelona</td>\n",
              "      <td>False</td>\n",
              "      <td>True</td>\n",
              "      <td>20168</td>\n",
              "      <td>03.07.2019</td>\n",
              "      <td>09.07.2019</td>\n",
              "      <td>Swiss</td>\n",
              "      <td>365</td>\n",
              "      <td>355</td>\n",
              "    </tr>\n",
              "    <tr>\n",
              "      <th>4</th>\n",
              "      <td>St. Petersburg</td>\n",
              "      <td>Barcelona</td>\n",
              "      <td>True</td>\n",
              "      <td>False</td>\n",
              "      <td>31425</td>\n",
              "      <td>05.07.2019</td>\n",
              "      <td>11.07.2019</td>\n",
              "      <td>Rossiya</td>\n",
              "      <td>255</td>\n",
              "      <td>250</td>\n",
              "    </tr>\n",
              "  </tbody>\n",
              "</table>\n",
              "</div>"
            ],
            "text/plain": [
              "             From         To  Is_Direct  Has_luggage  Price   Date_From  \\\n",
              "1          Moscow       Rome       True        False  19250    01.07.19   \n",
              "2  St. Petersburg       Rome      False        False  19301  04.07.2019   \n",
              "3  St. Petersburg  Barcelona      False         True  20168  03.07.2019   \n",
              "4  St. Petersburg  Barcelona       True        False  31425  05.07.2019   \n",
              "\n",
              "      Date_To  Airline  Travel_time_from  Travel_time_to  \n",
              "1    07.07.19       S7               230             225  \n",
              "2  10.07.2019  Finnair               605             720  \n",
              "3  09.07.2019    Swiss               365             355  \n",
              "4  11.07.2019  Rossiya               255             250  "
            ]
          },
          "execution_count": 80,
          "metadata": {},
          "output_type": "execute_result"
        }
      ],
      "source": [
        "df.query('Travel_time_from < 2 * Travel_time_to ')"
      ]
    },
    {
      "cell_type": "markdown",
      "metadata": {
        "id": "1CZ5Sls5CK2E"
      },
      "source": [
        "И даже вызывать методы:"
      ]
    },
    {
      "cell_type": "code",
      "execution_count": null,
      "metadata": {
        "id": "nH_UvIdbCK2E",
        "outputId": "44eb1aff-24bc-4033-845a-6879f77c27f3"
      },
      "outputs": [
        {
          "data": {
            "text/html": [
              "<div>\n",
              "<style scoped>\n",
              "    .dataframe tbody tr th:only-of-type {\n",
              "        vertical-align: middle;\n",
              "    }\n",
              "\n",
              "    .dataframe tbody tr th {\n",
              "        vertical-align: top;\n",
              "    }\n",
              "\n",
              "    .dataframe thead th {\n",
              "        text-align: right;\n",
              "    }\n",
              "</style>\n",
              "<table border=\"1\" class=\"dataframe\">\n",
              "  <thead>\n",
              "    <tr style=\"text-align: right;\">\n",
              "      <th></th>\n",
              "      <th>From</th>\n",
              "      <th>To</th>\n",
              "      <th>Is_Direct</th>\n",
              "      <th>Has_luggage</th>\n",
              "      <th>Price</th>\n",
              "      <th>Date_From</th>\n",
              "      <th>Date_To</th>\n",
              "      <th>Airline</th>\n",
              "      <th>Travel_time_from</th>\n",
              "      <th>Travel_time_to</th>\n",
              "    </tr>\n",
              "  </thead>\n",
              "  <tbody>\n",
              "    <tr>\n",
              "      <th>1</th>\n",
              "      <td>Moscow</td>\n",
              "      <td>Rome</td>\n",
              "      <td>True</td>\n",
              "      <td>False</td>\n",
              "      <td>19250</td>\n",
              "      <td>01.07.19</td>\n",
              "      <td>07.07.19</td>\n",
              "      <td>S7</td>\n",
              "      <td>230</td>\n",
              "      <td>225</td>\n",
              "    </tr>\n",
              "    <tr>\n",
              "      <th>3</th>\n",
              "      <td>St. Petersburg</td>\n",
              "      <td>Barcelona</td>\n",
              "      <td>False</td>\n",
              "      <td>True</td>\n",
              "      <td>20168</td>\n",
              "      <td>03.07.2019</td>\n",
              "      <td>09.07.2019</td>\n",
              "      <td>Swiss</td>\n",
              "      <td>365</td>\n",
              "      <td>355</td>\n",
              "    </tr>\n",
              "    <tr>\n",
              "      <th>4</th>\n",
              "      <td>St. Petersburg</td>\n",
              "      <td>Barcelona</td>\n",
              "      <td>True</td>\n",
              "      <td>False</td>\n",
              "      <td>31425</td>\n",
              "      <td>05.07.2019</td>\n",
              "      <td>11.07.2019</td>\n",
              "      <td>Rossiya</td>\n",
              "      <td>255</td>\n",
              "      <td>250</td>\n",
              "    </tr>\n",
              "  </tbody>\n",
              "</table>\n",
              "</div>"
            ],
            "text/plain": [
              "             From         To  Is_Direct  Has_luggage  Price   Date_From  \\\n",
              "1          Moscow       Rome       True        False  19250    01.07.19   \n",
              "3  St. Petersburg  Barcelona      False         True  20168  03.07.2019   \n",
              "4  St. Petersburg  Barcelona       True        False  31425  05.07.2019   \n",
              "\n",
              "      Date_To  Airline  Travel_time_from  Travel_time_to  \n",
              "1    07.07.19       S7               230             225  \n",
              "3  09.07.2019    Swiss               365             355  \n",
              "4  11.07.2019  Rossiya               255             250  "
            ]
          },
          "execution_count": 81,
          "metadata": {},
          "output_type": "execute_result"
        }
      ],
      "source": [
        "df.query('Travel_time_from < Travel_time_to.mean()')"
      ]
    },
    {
      "cell_type": "markdown",
      "metadata": {
        "id": "-Czr7B0UCK2F"
      },
      "source": [
        "Ещё в **query()** можно включать внешние переменные (не из датафрейма). Когда упоминаете такую переменную, помечайте её знаком @:"
      ]
    },
    {
      "cell_type": "code",
      "execution_count": null,
      "metadata": {
        "id": "eHlhP9uKCK2G",
        "outputId": "e4715d9a-15ca-472d-89ad-4c939a4a4d6e"
      },
      "outputs": [
        {
          "data": {
            "text/html": [
              "<div>\n",
              "<style scoped>\n",
              "    .dataframe tbody tr th:only-of-type {\n",
              "        vertical-align: middle;\n",
              "    }\n",
              "\n",
              "    .dataframe tbody tr th {\n",
              "        vertical-align: top;\n",
              "    }\n",
              "\n",
              "    .dataframe thead th {\n",
              "        text-align: right;\n",
              "    }\n",
              "</style>\n",
              "<table border=\"1\" class=\"dataframe\">\n",
              "  <thead>\n",
              "    <tr style=\"text-align: right;\">\n",
              "      <th></th>\n",
              "      <th>From</th>\n",
              "      <th>To</th>\n",
              "      <th>Is_Direct</th>\n",
              "      <th>Has_luggage</th>\n",
              "      <th>Price</th>\n",
              "      <th>Date_From</th>\n",
              "      <th>Date_To</th>\n",
              "      <th>Airline</th>\n",
              "      <th>Travel_time_from</th>\n",
              "      <th>Travel_time_to</th>\n",
              "    </tr>\n",
              "  </thead>\n",
              "  <tbody>\n",
              "    <tr>\n",
              "      <th>1</th>\n",
              "      <td>Moscow</td>\n",
              "      <td>Rome</td>\n",
              "      <td>True</td>\n",
              "      <td>False</td>\n",
              "      <td>19250</td>\n",
              "      <td>01.07.19</td>\n",
              "      <td>07.07.19</td>\n",
              "      <td>S7</td>\n",
              "      <td>230</td>\n",
              "      <td>225</td>\n",
              "    </tr>\n",
              "    <tr>\n",
              "      <th>2</th>\n",
              "      <td>St. Petersburg</td>\n",
              "      <td>Rome</td>\n",
              "      <td>False</td>\n",
              "      <td>False</td>\n",
              "      <td>19301</td>\n",
              "      <td>04.07.2019</td>\n",
              "      <td>10.07.2019</td>\n",
              "      <td>Finnair</td>\n",
              "      <td>605</td>\n",
              "      <td>720</td>\n",
              "    </tr>\n",
              "  </tbody>\n",
              "</table>\n",
              "</div>"
            ],
            "text/plain": [
              "             From    To  Is_Direct  Has_luggage  Price   Date_From  \\\n",
              "1          Moscow  Rome       True        False  19250    01.07.19   \n",
              "2  St. Petersburg  Rome      False        False  19301  04.07.2019   \n",
              "\n",
              "      Date_To  Airline  Travel_time_from  Travel_time_to  \n",
              "1    07.07.19       S7               230             225  \n",
              "2  10.07.2019  Finnair               605             720  "
            ]
          },
          "execution_count": 82,
          "metadata": {},
          "output_type": "execute_result"
        }
      ],
      "source": [
        "maximum_price = 20000\n",
        "df.query('Price <= @maximum_price')\n"
      ]
    },
    {
      "cell_type": "markdown",
      "metadata": {
        "id": "Mf494oR6CK2O"
      },
      "source": [
        "### Задача 2   \n",
        "1.Выберите строки, где: Has_luggage равно False и Airline не равно ни S7, ни Rossiya. Напечатайте полученную выборку на экране."
      ]
    },
    {
      "cell_type": "code",
      "execution_count": 3,
      "metadata": {
        "id": "sJQLdks7CK2P",
        "outputId": "f4f60cb8-59db-46ae-b6ac-e9adb9f2bd8c",
        "colab": {
          "base_uri": "https://localhost:8080/",
          "height": 80
        }
      },
      "outputs": [
        {
          "output_type": "execute_result",
          "data": {
            "text/plain": [
              "             From    To  Is_Direct  Has_luggage  Price   Date_From  \\\n",
              "2  St. Petersburg  Rome      False        False  19301  04.07.2019   \n",
              "\n",
              "      Date_To  Airline  Travel_time_from  Travel_time_to  \n",
              "2  10.07.2019  Finnair               605             720  "
            ],
            "text/html": [
              "\n",
              "  <div id=\"df-018d1bcd-e4db-49fa-a731-488a3b1b7d7b\" class=\"colab-df-container\">\n",
              "    <div>\n",
              "<style scoped>\n",
              "    .dataframe tbody tr th:only-of-type {\n",
              "        vertical-align: middle;\n",
              "    }\n",
              "\n",
              "    .dataframe tbody tr th {\n",
              "        vertical-align: top;\n",
              "    }\n",
              "\n",
              "    .dataframe thead th {\n",
              "        text-align: right;\n",
              "    }\n",
              "</style>\n",
              "<table border=\"1\" class=\"dataframe\">\n",
              "  <thead>\n",
              "    <tr style=\"text-align: right;\">\n",
              "      <th></th>\n",
              "      <th>From</th>\n",
              "      <th>To</th>\n",
              "      <th>Is_Direct</th>\n",
              "      <th>Has_luggage</th>\n",
              "      <th>Price</th>\n",
              "      <th>Date_From</th>\n",
              "      <th>Date_To</th>\n",
              "      <th>Airline</th>\n",
              "      <th>Travel_time_from</th>\n",
              "      <th>Travel_time_to</th>\n",
              "    </tr>\n",
              "  </thead>\n",
              "  <tbody>\n",
              "    <tr>\n",
              "      <th>2</th>\n",
              "      <td>St. Petersburg</td>\n",
              "      <td>Rome</td>\n",
              "      <td>False</td>\n",
              "      <td>False</td>\n",
              "      <td>19301</td>\n",
              "      <td>04.07.2019</td>\n",
              "      <td>10.07.2019</td>\n",
              "      <td>Finnair</td>\n",
              "      <td>605</td>\n",
              "      <td>720</td>\n",
              "    </tr>\n",
              "  </tbody>\n",
              "</table>\n",
              "</div>\n",
              "    <div class=\"colab-df-buttons\">\n",
              "\n",
              "  <div class=\"colab-df-container\">\n",
              "    <button class=\"colab-df-convert\" onclick=\"convertToInteractive('df-018d1bcd-e4db-49fa-a731-488a3b1b7d7b')\"\n",
              "            title=\"Convert this dataframe to an interactive table.\"\n",
              "            style=\"display:none;\">\n",
              "\n",
              "  <svg xmlns=\"http://www.w3.org/2000/svg\" height=\"24px\" viewBox=\"0 -960 960 960\">\n",
              "    <path d=\"M120-120v-720h720v720H120Zm60-500h600v-160H180v160Zm220 220h160v-160H400v160Zm0 220h160v-160H400v160ZM180-400h160v-160H180v160Zm440 0h160v-160H620v160ZM180-180h160v-160H180v160Zm440 0h160v-160H620v160Z\"/>\n",
              "  </svg>\n",
              "    </button>\n",
              "\n",
              "  <style>\n",
              "    .colab-df-container {\n",
              "      display:flex;\n",
              "      gap: 12px;\n",
              "    }\n",
              "\n",
              "    .colab-df-convert {\n",
              "      background-color: #E8F0FE;\n",
              "      border: none;\n",
              "      border-radius: 50%;\n",
              "      cursor: pointer;\n",
              "      display: none;\n",
              "      fill: #1967D2;\n",
              "      height: 32px;\n",
              "      padding: 0 0 0 0;\n",
              "      width: 32px;\n",
              "    }\n",
              "\n",
              "    .colab-df-convert:hover {\n",
              "      background-color: #E2EBFA;\n",
              "      box-shadow: 0px 1px 2px rgba(60, 64, 67, 0.3), 0px 1px 3px 1px rgba(60, 64, 67, 0.15);\n",
              "      fill: #174EA6;\n",
              "    }\n",
              "\n",
              "    .colab-df-buttons div {\n",
              "      margin-bottom: 4px;\n",
              "    }\n",
              "\n",
              "    [theme=dark] .colab-df-convert {\n",
              "      background-color: #3B4455;\n",
              "      fill: #D2E3FC;\n",
              "    }\n",
              "\n",
              "    [theme=dark] .colab-df-convert:hover {\n",
              "      background-color: #434B5C;\n",
              "      box-shadow: 0px 1px 3px 1px rgba(0, 0, 0, 0.15);\n",
              "      filter: drop-shadow(0px 1px 2px rgba(0, 0, 0, 0.3));\n",
              "      fill: #FFFFFF;\n",
              "    }\n",
              "  </style>\n",
              "\n",
              "    <script>\n",
              "      const buttonEl =\n",
              "        document.querySelector('#df-018d1bcd-e4db-49fa-a731-488a3b1b7d7b button.colab-df-convert');\n",
              "      buttonEl.style.display =\n",
              "        google.colab.kernel.accessAllowed ? 'block' : 'none';\n",
              "\n",
              "      async function convertToInteractive(key) {\n",
              "        const element = document.querySelector('#df-018d1bcd-e4db-49fa-a731-488a3b1b7d7b');\n",
              "        const dataTable =\n",
              "          await google.colab.kernel.invokeFunction('convertToInteractive',\n",
              "                                                    [key], {});\n",
              "        if (!dataTable) return;\n",
              "\n",
              "        const docLinkHtml = 'Like what you see? Visit the ' +\n",
              "          '<a target=\"_blank\" href=https://colab.research.google.com/notebooks/data_table.ipynb>data table notebook</a>'\n",
              "          + ' to learn more about interactive tables.';\n",
              "        element.innerHTML = '';\n",
              "        dataTable['output_type'] = 'display_data';\n",
              "        await google.colab.output.renderOutput(dataTable, element);\n",
              "        const docLink = document.createElement('div');\n",
              "        docLink.innerHTML = docLinkHtml;\n",
              "        element.appendChild(docLink);\n",
              "      }\n",
              "    </script>\n",
              "  </div>\n",
              "\n",
              "    </div>\n",
              "  </div>\n"
            ],
            "application/vnd.google.colaboratory.intrinsic+json": {
              "type": "dataframe",
              "repr_error": "0"
            }
          },
          "metadata": {},
          "execution_count": 3
        }
      ],
      "source": [
        "#Youre code is here\n",
        "df.query('Has_luggage == False and Airline not in (\"S7\", \"Rossiya\")')"
      ]
    },
    {
      "cell_type": "markdown",
      "metadata": {
        "id": "sJ92njPVCK2P"
      },
      "source": [
        "### Задача 3\n",
        "Выберите строки, где Airline равно \"Belavia\", \"S7\" или \"Rossiya\", при этом 'Travel_time_from' меньше переменной под названием max_time. Напечатайте полученную выборку на экране."
      ]
    },
    {
      "cell_type": "code",
      "execution_count": 4,
      "metadata": {
        "id": "qK1Nj38ZCK2P",
        "outputId": "c3dbe5a4-c257-4334-aca9-643af98b500a",
        "colab": {
          "base_uri": "https://localhost:8080/",
          "height": 112
        }
      },
      "outputs": [
        {
          "output_type": "execute_result",
          "data": {
            "text/plain": [
              "             From         To  Is_Direct  Has_luggage  Price   Date_From  \\\n",
              "1          Moscow       Rome       True        False  19250    01.07.19   \n",
              "4  St. Petersburg  Barcelona       True        False  31425  05.07.2019   \n",
              "\n",
              "      Date_To  Airline  Travel_time_from  Travel_time_to  \n",
              "1    07.07.19       S7               230             225  \n",
              "4  11.07.2019  Rossiya               255             250  "
            ],
            "text/html": [
              "\n",
              "  <div id=\"df-e3fb16bf-c6b1-40c6-a366-39cc1b9458fb\" class=\"colab-df-container\">\n",
              "    <div>\n",
              "<style scoped>\n",
              "    .dataframe tbody tr th:only-of-type {\n",
              "        vertical-align: middle;\n",
              "    }\n",
              "\n",
              "    .dataframe tbody tr th {\n",
              "        vertical-align: top;\n",
              "    }\n",
              "\n",
              "    .dataframe thead th {\n",
              "        text-align: right;\n",
              "    }\n",
              "</style>\n",
              "<table border=\"1\" class=\"dataframe\">\n",
              "  <thead>\n",
              "    <tr style=\"text-align: right;\">\n",
              "      <th></th>\n",
              "      <th>From</th>\n",
              "      <th>To</th>\n",
              "      <th>Is_Direct</th>\n",
              "      <th>Has_luggage</th>\n",
              "      <th>Price</th>\n",
              "      <th>Date_From</th>\n",
              "      <th>Date_To</th>\n",
              "      <th>Airline</th>\n",
              "      <th>Travel_time_from</th>\n",
              "      <th>Travel_time_to</th>\n",
              "    </tr>\n",
              "  </thead>\n",
              "  <tbody>\n",
              "    <tr>\n",
              "      <th>1</th>\n",
              "      <td>Moscow</td>\n",
              "      <td>Rome</td>\n",
              "      <td>True</td>\n",
              "      <td>False</td>\n",
              "      <td>19250</td>\n",
              "      <td>01.07.19</td>\n",
              "      <td>07.07.19</td>\n",
              "      <td>S7</td>\n",
              "      <td>230</td>\n",
              "      <td>225</td>\n",
              "    </tr>\n",
              "    <tr>\n",
              "      <th>4</th>\n",
              "      <td>St. Petersburg</td>\n",
              "      <td>Barcelona</td>\n",
              "      <td>True</td>\n",
              "      <td>False</td>\n",
              "      <td>31425</td>\n",
              "      <td>05.07.2019</td>\n",
              "      <td>11.07.2019</td>\n",
              "      <td>Rossiya</td>\n",
              "      <td>255</td>\n",
              "      <td>250</td>\n",
              "    </tr>\n",
              "  </tbody>\n",
              "</table>\n",
              "</div>\n",
              "    <div class=\"colab-df-buttons\">\n",
              "\n",
              "  <div class=\"colab-df-container\">\n",
              "    <button class=\"colab-df-convert\" onclick=\"convertToInteractive('df-e3fb16bf-c6b1-40c6-a366-39cc1b9458fb')\"\n",
              "            title=\"Convert this dataframe to an interactive table.\"\n",
              "            style=\"display:none;\">\n",
              "\n",
              "  <svg xmlns=\"http://www.w3.org/2000/svg\" height=\"24px\" viewBox=\"0 -960 960 960\">\n",
              "    <path d=\"M120-120v-720h720v720H120Zm60-500h600v-160H180v160Zm220 220h160v-160H400v160Zm0 220h160v-160H400v160ZM180-400h160v-160H180v160Zm440 0h160v-160H620v160ZM180-180h160v-160H180v160Zm440 0h160v-160H620v160Z\"/>\n",
              "  </svg>\n",
              "    </button>\n",
              "\n",
              "  <style>\n",
              "    .colab-df-container {\n",
              "      display:flex;\n",
              "      gap: 12px;\n",
              "    }\n",
              "\n",
              "    .colab-df-convert {\n",
              "      background-color: #E8F0FE;\n",
              "      border: none;\n",
              "      border-radius: 50%;\n",
              "      cursor: pointer;\n",
              "      display: none;\n",
              "      fill: #1967D2;\n",
              "      height: 32px;\n",
              "      padding: 0 0 0 0;\n",
              "      width: 32px;\n",
              "    }\n",
              "\n",
              "    .colab-df-convert:hover {\n",
              "      background-color: #E2EBFA;\n",
              "      box-shadow: 0px 1px 2px rgba(60, 64, 67, 0.3), 0px 1px 3px 1px rgba(60, 64, 67, 0.15);\n",
              "      fill: #174EA6;\n",
              "    }\n",
              "\n",
              "    .colab-df-buttons div {\n",
              "      margin-bottom: 4px;\n",
              "    }\n",
              "\n",
              "    [theme=dark] .colab-df-convert {\n",
              "      background-color: #3B4455;\n",
              "      fill: #D2E3FC;\n",
              "    }\n",
              "\n",
              "    [theme=dark] .colab-df-convert:hover {\n",
              "      background-color: #434B5C;\n",
              "      box-shadow: 0px 1px 3px 1px rgba(0, 0, 0, 0.15);\n",
              "      filter: drop-shadow(0px 1px 2px rgba(0, 0, 0, 0.3));\n",
              "      fill: #FFFFFF;\n",
              "    }\n",
              "  </style>\n",
              "\n",
              "    <script>\n",
              "      const buttonEl =\n",
              "        document.querySelector('#df-e3fb16bf-c6b1-40c6-a366-39cc1b9458fb button.colab-df-convert');\n",
              "      buttonEl.style.display =\n",
              "        google.colab.kernel.accessAllowed ? 'block' : 'none';\n",
              "\n",
              "      async function convertToInteractive(key) {\n",
              "        const element = document.querySelector('#df-e3fb16bf-c6b1-40c6-a366-39cc1b9458fb');\n",
              "        const dataTable =\n",
              "          await google.colab.kernel.invokeFunction('convertToInteractive',\n",
              "                                                    [key], {});\n",
              "        if (!dataTable) return;\n",
              "\n",
              "        const docLinkHtml = 'Like what you see? Visit the ' +\n",
              "          '<a target=\"_blank\" href=https://colab.research.google.com/notebooks/data_table.ipynb>data table notebook</a>'\n",
              "          + ' to learn more about interactive tables.';\n",
              "        element.innerHTML = '';\n",
              "        dataTable['output_type'] = 'display_data';\n",
              "        await google.colab.output.renderOutput(dataTable, element);\n",
              "        const docLink = document.createElement('div');\n",
              "        docLink.innerHTML = docLinkHtml;\n",
              "        element.appendChild(docLink);\n",
              "      }\n",
              "    </script>\n",
              "  </div>\n",
              "\n",
              "\n",
              "<div id=\"df-eedb02a4-3f70-4977-af40-f1bf50faae8f\">\n",
              "  <button class=\"colab-df-quickchart\" onclick=\"quickchart('df-eedb02a4-3f70-4977-af40-f1bf50faae8f')\"\n",
              "            title=\"Suggest charts\"\n",
              "            style=\"display:none;\">\n",
              "\n",
              "<svg xmlns=\"http://www.w3.org/2000/svg\" height=\"24px\"viewBox=\"0 0 24 24\"\n",
              "     width=\"24px\">\n",
              "    <g>\n",
              "        <path d=\"M19 3H5c-1.1 0-2 .9-2 2v14c0 1.1.9 2 2 2h14c1.1 0 2-.9 2-2V5c0-1.1-.9-2-2-2zM9 17H7v-7h2v7zm4 0h-2V7h2v10zm4 0h-2v-4h2v4z\"/>\n",
              "    </g>\n",
              "</svg>\n",
              "  </button>\n",
              "\n",
              "<style>\n",
              "  .colab-df-quickchart {\n",
              "      --bg-color: #E8F0FE;\n",
              "      --fill-color: #1967D2;\n",
              "      --hover-bg-color: #E2EBFA;\n",
              "      --hover-fill-color: #174EA6;\n",
              "      --disabled-fill-color: #AAA;\n",
              "      --disabled-bg-color: #DDD;\n",
              "  }\n",
              "\n",
              "  [theme=dark] .colab-df-quickchart {\n",
              "      --bg-color: #3B4455;\n",
              "      --fill-color: #D2E3FC;\n",
              "      --hover-bg-color: #434B5C;\n",
              "      --hover-fill-color: #FFFFFF;\n",
              "      --disabled-bg-color: #3B4455;\n",
              "      --disabled-fill-color: #666;\n",
              "  }\n",
              "\n",
              "  .colab-df-quickchart {\n",
              "    background-color: var(--bg-color);\n",
              "    border: none;\n",
              "    border-radius: 50%;\n",
              "    cursor: pointer;\n",
              "    display: none;\n",
              "    fill: var(--fill-color);\n",
              "    height: 32px;\n",
              "    padding: 0;\n",
              "    width: 32px;\n",
              "  }\n",
              "\n",
              "  .colab-df-quickchart:hover {\n",
              "    background-color: var(--hover-bg-color);\n",
              "    box-shadow: 0 1px 2px rgba(60, 64, 67, 0.3), 0 1px 3px 1px rgba(60, 64, 67, 0.15);\n",
              "    fill: var(--button-hover-fill-color);\n",
              "  }\n",
              "\n",
              "  .colab-df-quickchart-complete:disabled,\n",
              "  .colab-df-quickchart-complete:disabled:hover {\n",
              "    background-color: var(--disabled-bg-color);\n",
              "    fill: var(--disabled-fill-color);\n",
              "    box-shadow: none;\n",
              "  }\n",
              "\n",
              "  .colab-df-spinner {\n",
              "    border: 2px solid var(--fill-color);\n",
              "    border-color: transparent;\n",
              "    border-bottom-color: var(--fill-color);\n",
              "    animation:\n",
              "      spin 1s steps(1) infinite;\n",
              "  }\n",
              "\n",
              "  @keyframes spin {\n",
              "    0% {\n",
              "      border-color: transparent;\n",
              "      border-bottom-color: var(--fill-color);\n",
              "      border-left-color: var(--fill-color);\n",
              "    }\n",
              "    20% {\n",
              "      border-color: transparent;\n",
              "      border-left-color: var(--fill-color);\n",
              "      border-top-color: var(--fill-color);\n",
              "    }\n",
              "    30% {\n",
              "      border-color: transparent;\n",
              "      border-left-color: var(--fill-color);\n",
              "      border-top-color: var(--fill-color);\n",
              "      border-right-color: var(--fill-color);\n",
              "    }\n",
              "    40% {\n",
              "      border-color: transparent;\n",
              "      border-right-color: var(--fill-color);\n",
              "      border-top-color: var(--fill-color);\n",
              "    }\n",
              "    60% {\n",
              "      border-color: transparent;\n",
              "      border-right-color: var(--fill-color);\n",
              "    }\n",
              "    80% {\n",
              "      border-color: transparent;\n",
              "      border-right-color: var(--fill-color);\n",
              "      border-bottom-color: var(--fill-color);\n",
              "    }\n",
              "    90% {\n",
              "      border-color: transparent;\n",
              "      border-bottom-color: var(--fill-color);\n",
              "    }\n",
              "  }\n",
              "</style>\n",
              "\n",
              "  <script>\n",
              "    async function quickchart(key) {\n",
              "      const quickchartButtonEl =\n",
              "        document.querySelector('#' + key + ' button');\n",
              "      quickchartButtonEl.disabled = true;  // To prevent multiple clicks.\n",
              "      quickchartButtonEl.classList.add('colab-df-spinner');\n",
              "      try {\n",
              "        const charts = await google.colab.kernel.invokeFunction(\n",
              "            'suggestCharts', [key], {});\n",
              "      } catch (error) {\n",
              "        console.error('Error during call to suggestCharts:', error);\n",
              "      }\n",
              "      quickchartButtonEl.classList.remove('colab-df-spinner');\n",
              "      quickchartButtonEl.classList.add('colab-df-quickchart-complete');\n",
              "    }\n",
              "    (() => {\n",
              "      let quickchartButtonEl =\n",
              "        document.querySelector('#df-eedb02a4-3f70-4977-af40-f1bf50faae8f button');\n",
              "      quickchartButtonEl.style.display =\n",
              "        google.colab.kernel.accessAllowed ? 'block' : 'none';\n",
              "    })();\n",
              "  </script>\n",
              "</div>\n",
              "    </div>\n",
              "  </div>\n"
            ],
            "application/vnd.google.colaboratory.intrinsic+json": {
              "type": "dataframe",
              "repr_error": "0"
            }
          },
          "metadata": {},
          "execution_count": 4
        }
      ],
      "source": [
        "#Youre code is here\n",
        "max_time = df['Travel_time_to'].max()\n",
        "df.query('Airline in (\"Belavia\", \"Rossiya\", \"S7\") and Travel_time_from < @max_time')"
      ]
    },
    {
      "cell_type": "markdown",
      "metadata": {
        "id": "UwtMvVX-CK2P"
      },
      "source": [
        "# Срезы в действии\n",
        "\n",
        "Наконец-то вы готовы строить срезы на практике.\n",
        "Вспомним, как выглядела диаграмма размаха времени заезда на АЗС:\n"
      ]
    },
    {
      "cell_type": "code",
      "execution_count": null,
      "metadata": {
        "id": "db1MiN9GCK2Q",
        "outputId": "143de9fb-0669-4506-b015-61a642d46b64"
      },
      "outputs": [
        {
          "data": {
            "image/png": "[encoded data removed]",
            "text/plain": [
              "<Figure size 432x288 with 1 Axes>"
            ]
          },
          "metadata": {
            "needs_background": "light"
          },
          "output_type": "display_data"
        }
      ],
      "source": [
        "data.boxplot();"
      ]
    },
    {
      "cell_type": "markdown",
      "metadata": {
        "id": "DsS5L7v_CK2Q"
      },
      "source": [
        "Есть несколько заездов со временем около 30 000 секунд (это около 8 часов). Крайне маловероятно, что водители заправляются так долго. Они повстречали свою любовь или случайно вырвали заправочный пистолет? А может, всё одновременно?\n",
        "\n",
        "У вас есть всё необходимое, чтобы с этим разобраться.\n",
        "\n",
        "Чтобы построить графики, обращаются к библиотеке **matplotlib** (от англ. mathematical plotting library, «библиотека математических построений»). Точнее к её модулю — **pyplot:**\n"
      ]
    },
    {
      "cell_type": "code",
      "execution_count": null,
      "metadata": {
        "id": "Co1ICIH4CK2R"
      },
      "outputs": [],
      "source": [
        "import matplotlib.pyplot as plt"
      ]
    },
    {
      "cell_type": "markdown",
      "metadata": {
        "id": "0efdBOrKCK2S"
      },
      "source": [
        "Для простейших графиков импортировать её не обязательно. Однако вызов библиотеки может помочь, когда вывод графиков нужно разделить. После команды вывода графика вызывают метод **show()**. Он позволяет посмотреть, как отличаются гистограммы с разным числом корзин:"
      ]
    },
    {
      "cell_type": "code",
      "execution_count": null,
      "metadata": {
        "id": "eXe4LeNrCK2T",
        "outputId": "83e061de-b792-446d-c78b-8a390b0bacb7"
      },
      "outputs": [
        {
          "data": {
            "image/png": "[encoded data removed]",
            "text/plain": [
              "<Figure size 432x288 with 1 Axes>"
            ]
          },
          "metadata": {
            "needs_background": "light"
          },
          "output_type": "display_data"
        },
        {
          "data": {
            "image/png": "[encoded data removed]",
            "text/plain": [
              "<Figure size 432x288 with 1 Axes>"
            ]
          },
          "metadata": {
            "needs_background": "light"
          },
          "output_type": "display_data"
        }
      ],
      "source": [
        "data.hist(bins=10)\n",
        "plt.show()\n",
        "data.hist(bins=100)\n",
        "plt.show()\n"
      ]
    },
    {
      "cell_type": "markdown",
      "metadata": {
        "id": "o_zbwX_wCK2U"
      },
      "source": [
        "### Задача 4\n",
        "Узнайте, на каких АЗС водители проводят больше всего времени. Выведите топ-10 строк с самой долгой заправкой.\n"
      ]
    },
    {
      "cell_type": "code",
      "execution_count": 5,
      "metadata": {
        "id": "zFpCc6UxCK2V",
        "outputId": "dcf42365-c236-4dcc-90a6-d2cf9c966c1f",
        "colab": {
          "base_uri": "https://localhost:8080/"
        }
      },
      "outputs": [
        {
          "output_type": "stream",
          "name": "stdout",
          "text": [
            "              date_time        id  time_spent      name\n",
            "114797  20180402T055708  3c1e4c52     28925.0   Василек\n",
            "27147   20180406T080254  4b5f2af5     28519.0   Немезия\n",
            "60547   20180408T000002  cf1ba8a5     28292.0   Василек\n",
            "19042   20180408T204208  5410e876     23696.0   Василек\n",
            "118597  20180408T165020  3c1e4c52     21184.0   Василек\n",
            "118058  20180402T111333  3c1e4c52     20359.0   Василек\n",
            "114406  20180408T083722  3c1e4c52     19886.0   Василек\n",
            "132164  20180405T160745  627ea5e3     19445.0    Левкой\n",
            "281360  20180406T180459  d0c0928d     18614.0      Пион\n",
            "165326  20180402T230204  3af3bb71     18569.0  Агератум\n"
          ]
        }
      ],
      "source": [
        "#Youre code is here\n",
        "print(data.sort_values(by=\"time_spent\", ascending=False).head(10))"
      ]
    },
    {
      "cell_type": "markdown",
      "metadata": {
        "id": "2J8ixe1PCK2V"
      },
      "source": [
        "### Задача 5\n",
        "Сохраните срез данных с id == \"3c1e4c52\" в переменной sample (англ. «выборка, проба»). Выведите количество заездов на эту АЗС."
      ]
    },
    {
      "cell_type": "code",
      "execution_count": 8,
      "metadata": {
        "id": "xm4GuOoZCK2W",
        "outputId": "9f7194ad-8c30-4e0c-99de-7ad7d93048a7",
        "colab": {
          "base_uri": "https://localhost:8080/"
        }
      },
      "outputs": [
        {
          "output_type": "stream",
          "name": "stdout",
          "text": [
            "Количество заездов:  5814\n"
          ]
        }
      ],
      "source": [
        "#Youre code is here\n",
        "sample = data.query('id == \"3c1e4c52\"')\n",
        "print(\"Количество заездов: \",sample.shape[0])"
      ]
    },
    {
      "cell_type": "markdown",
      "metadata": {
        "id": "IU7bmrZyCK2X"
      },
      "source": [
        "### Задача 6\n",
        "Посмотрим, как они распределены, отличаются ли от остальных данных. Вспомните, как выглядела гистограмма по всему набору данных.\n",
        "Постройте гистограмму времён заезда на все АЗС. И аналогичную гистограмму для выбранной АЗС (мы уже сохранили данные в переменную sample). Для обеих гистограмм задайте диапазон 0-1500 секунд и 100 корзин.\n"
      ]
    },
    {
      "cell_type": "code",
      "execution_count": 9,
      "metadata": {
        "id": "TIh4sdOzCK2X",
        "outputId": "23e8d635-09b0-4572-bf3d-93055a13a8cd",
        "colab": {
          "base_uri": "https://localhost:8080/",
          "height": 887
        }
      },
      "outputs": [
        {
          "output_type": "display_data",
          "data": {
            "text/plain": [
              "<Figure size 640x480 with 1 Axes>"
            ],
            "image/png": "[encoded data removed]"
          },
          "metadata": {}
        },
        {
          "output_type": "display_data",
          "data": {
            "text/plain": [
              "<Figure size 640x480 with 1 Axes>"
            ],
            "image/png": "[encoded data removed]"
          },
          "metadata": {}
        }
      ],
      "source": [
        "#Youre code is here\n",
        "data.hist(range=[0, 1500], bins=100)\n",
        "plt.show()\n",
        "sample.hist(range=[0, 1500], bins=100)\n",
        "plt.show()"
      ]
    },
    {
      "cell_type": "markdown",
      "metadata": {
        "id": "mHwQoitlCK2Y"
      },
      "source": [
        "## «Слишком долгая» заправка — это сколько?\n",
        "Нетипично долгие заезды признаем выбросами и отбросим. Почему так можно?\n",
        "Во-первых, их немного. Во-вторых, скорее всего, такие заезды — не заправки. Например, водитель мог отдыхать, есть или заниматься чем-то ещё. Раз это не заправки в чистом виде, значит в рамках нашего исследования такие заезды не интересны.\n",
        "Как определить, что заправка «слишком долгая»? Где провести границу между заправкой автомобиля и прочими занятиями на АЗС?\n",
        "Обратимся к гистограмме:\n",
        "![image.png](attachment:image.png)"
      ]
    },
    {
      "cell_type": "markdown",
      "metadata": {
        "id": "YiQS6EXtCK2Z"
      },
      "source": [
        "Заправки продолжительностью 600 секунд — уже редки. Дольше 800 секунд почти не заправляются. А на участке более 1300 секунд гистограмма сливается с нулём (это не значит, что там ровно 0, но таких заправок единицы).\n",
        "\n",
        "Примем верхнюю границу в 1000 секунд. Это число кажется разумным: дольше заправляются редко. Отбросив значения больше 1000, мы не потеряем много данных. Да и вряд ли водители тратят на заправку больше 1000 секунд (16 минут).\n",
        "\n",
        "Решено. Продолжаем работать с наблюдениями, удовлетворяющими условию: **data.query('time_spent < 1000')**\n",
        "\n"
      ]
    },
    {
      "cell_type": "markdown",
      "metadata": {
        "id": "hZzbdL2tCK2a"
      },
      "source": [
        "## Работа с датой и временем\n",
        "Мы посчитали подозрительно долгие заправки выбросами. Но что делать с чрезвычайно короткими заправками? Изучим их подробнее. Узнаем, связана ли их продолжительность со временем заезда на АЗС.\n"
      ]
    },
    {
      "cell_type": "code",
      "execution_count": null,
      "metadata": {
        "id": "Z9bSv4aqCK2a",
        "outputId": "c1c9fe5a-4149-4982-d6eb-88b0c57c5092"
      },
      "outputs": [
        {
          "data": {
            "text/html": [
              "<div>\n",
              "<style scoped>\n",
              "    .dataframe tbody tr th:only-of-type {\n",
              "        vertical-align: middle;\n",
              "    }\n",
              "\n",
              "    .dataframe tbody tr th {\n",
              "        vertical-align: top;\n",
              "    }\n",
              "\n",
              "    .dataframe thead th {\n",
              "        text-align: right;\n",
              "    }\n",
              "</style>\n",
              "<table border=\"1\" class=\"dataframe\">\n",
              "  <thead>\n",
              "    <tr style=\"text-align: right;\">\n",
              "      <th></th>\n",
              "      <th>date_time</th>\n",
              "      <th>id</th>\n",
              "      <th>time_spent</th>\n",
              "      <th>name</th>\n",
              "    </tr>\n",
              "  </thead>\n",
              "  <tbody>\n",
              "    <tr>\n",
              "      <th>0</th>\n",
              "      <td>20180406T165358</td>\n",
              "      <td>76144fb2</td>\n",
              "      <td>98.0</td>\n",
              "      <td>Василек</td>\n",
              "    </tr>\n",
              "    <tr>\n",
              "      <th>1</th>\n",
              "      <td>20180404T173913</td>\n",
              "      <td>76144fb2</td>\n",
              "      <td>15.0</td>\n",
              "      <td>Василек</td>\n",
              "    </tr>\n",
              "    <tr>\n",
              "      <th>2</th>\n",
              "      <td>20180403T172824</td>\n",
              "      <td>76144fb2</td>\n",
              "      <td>220.0</td>\n",
              "      <td>Василек</td>\n",
              "    </tr>\n",
              "    <tr>\n",
              "      <th>3</th>\n",
              "      <td>20180407T070441</td>\n",
              "      <td>76144fb2</td>\n",
              "      <td>19.0</td>\n",
              "      <td>Василек</td>\n",
              "    </tr>\n",
              "    <tr>\n",
              "      <th>4</th>\n",
              "      <td>20180404T132049</td>\n",
              "      <td>76144fb2</td>\n",
              "      <td>14.0</td>\n",
              "      <td>Василек</td>\n",
              "    </tr>\n",
              "  </tbody>\n",
              "</table>\n",
              "</div>"
            ],
            "text/plain": [
              "         date_time        id  time_spent     name\n",
              "0  20180406T165358  76144fb2        98.0  Василек\n",
              "1  20180404T173913  76144fb2        15.0  Василек\n",
              "2  20180403T172824  76144fb2       220.0  Василек\n",
              "3  20180407T070441  76144fb2        19.0  Василек\n",
              "4  20180404T132049  76144fb2        14.0  Василек"
            ]
          },
          "execution_count": 91,
          "metadata": {},
          "output_type": "execute_result"
        }
      ],
      "source": [
        "data.head()"
      ]
    },
    {
      "cell_type": "markdown",
      "metadata": {
        "id": "FAUTSMoNCK2b"
      },
      "source": [
        "В столбце **'date_time'** дата и время заезда. Из описания данных известно, что время заезда указали в часовом поясе UTC+0, в формате ISO. Значит, сначала идут год, месяц, день; затем буквенный разделитель даты и времени; часы, минуты и секунды.\n",
        "\n",
        "Давайте познакомимся с методом **to_datetime()**, который переводит строки в даты.\n",
        "\n",
        "В аргументе **format метода to_datetime()** указывают специальные обозначения, порядок которых соответствует порядку чисел в строке с датой:\n",
        "\n",
        "•\t%d — день месяца (от 01 до 31)\n",
        "\n",
        "•\t%m — номер месяца (от 01 до 12)\n",
        "\n",
        "•\t%Y — четырёхзначный номер года (например, 2019)\n",
        "\n",
        "•\tZ или T — стандартный разделитель даты и времени\n",
        "\n",
        "•\t%H — номер часа в 24-часовом формате\n",
        "\n",
        "•\t%I — номер часа в 12-часовом формате\n",
        "\n",
        "•\t%M — минуты (от 00 до 59)\n",
        "\n",
        "•\t%S — секунды (от 00 до 59)\n",
        "\n",
        "Пора научиться:\n",
        "\n",
        "•\tОкруглять даты;\n",
        "\n",
        "•\tДобывать отдельные компоненты из дат, например, день недели;\n",
        "\n",
        "•\t«Сдвигать» даты в другие часовые пояса.\n",
        "\n",
        "О том, что операции предстоит выполнять именно с датами, аналитик сообщает Pandas отдельно, через атрибут **dt** (от англ. **date time**). Атрибут **dt** указывает, что тип данных, к которым будут применены методы, — **datetime**. А значит, **Pandas** не примет их за строки или числа.\n",
        "\n",
        "Чтобы округлить время, применяют метод **dt.round()** (англ. round, «округлять»). В качестве параметра ему передают строку с шагом округления в часах, днях, минутах или секундах:\n",
        "\n",
        "•\t'D' — day (от англ. «день»)\n",
        "\n",
        "•\t'H' — hour (от англ. «час»)\n",
        "\n",
        "•\t'min' или 'T' — minute (от англ. «минута»)\n",
        "\n",
        "•\t'S' — second (от англ. «секунда»)\n",
        "\n",
        "Чаще всего округляют с шагом в один час:\n"
      ]
    },
    {
      "cell_type": "code",
      "execution_count": null,
      "metadata": {
        "id": "IGVCqsqICK2c",
        "outputId": "1cd097ff-28e4-4f59-8ac2-74b2a3aa81dc"
      },
      "outputs": [
        {
          "name": "stdout",
          "output_type": "stream",
          "text": [
            "0   2011-03-01 18:00:00\n",
            "Name: time_rounded, dtype: datetime64[ns]\n"
          ]
        }
      ],
      "source": [
        "import pandas as pd\n",
        "\n",
        "df = pd.DataFrame({'time': ['11-03-01 17:34']})\n",
        "df['time'] = pd.to_datetime(df['time'], format='%y-%m-%d %H:%M')\n",
        "df['time_rounded'] = df['time'].dt.round('1H')  # округляем до ближайшего значения с шагом в один час\n",
        "print(df['time_rounded'])\n"
      ]
    },
    {
      "cell_type": "markdown",
      "metadata": {
        "id": "f7CDFJ9WCK2c"
      },
      "source": [
        "**dt.round()** округляет до ближайшего значения — не всегда получается в бóльшую сторону. Четверть шестого после округления методом **dt.round()** станет пятью часами:"
      ]
    },
    {
      "cell_type": "code",
      "execution_count": null,
      "metadata": {
        "id": "LExzDycdCK2d",
        "outputId": "1005821a-5986-45e8-f1eb-643403035742"
      },
      "outputs": [
        {
          "name": "stdout",
          "output_type": "stream",
          "text": [
            "0   2011-03-01 17:00:00\n",
            "Name: time_rounded, dtype: datetime64[ns]\n"
          ]
        }
      ],
      "source": [
        "df = pd.DataFrame({'time': ['11-03-01 17:15']})\n",
        "df['time'] = pd.to_datetime(df['time'], format='%y-%m-%d %H:%M')\n",
        "df['time_rounded'] = df['time'].dt.round('1H')  # округляем до ближайшего значения с шагом в один час\n",
        "print(df['time_rounded'])\n"
      ]
    },
    {
      "cell_type": "markdown",
      "metadata": {
        "id": "y15g1JaMCK2e"
      },
      "source": [
        "Чтобы быть уверенными в том, что время будет округлено к бóльшему значению, обращаются к методу **dt.ceil()** (от англ. ceiling — «потолок»). К меньшему значению, «вниз», округляют методом **dt.floor()** (англ. floor, «пол»)."
      ]
    },
    {
      "cell_type": "code",
      "execution_count": null,
      "metadata": {
        "id": "vJxy-V73CK2e",
        "outputId": "6551de4b-8b5c-4405-fc04-9f8f88faa1a5"
      },
      "outputs": [
        {
          "name": "stdout",
          "output_type": "stream",
          "text": [
            "Время, округлённое вверх 0   2011-03-01 18:00:00\n",
            "Name: ceil, dtype: datetime64[ns]\n",
            "Время, округлённое вниз 0   2011-03-01 17:00:00\n",
            "Name: floor, dtype: datetime64[ns]\n"
          ]
        }
      ],
      "source": [
        "df = pd.DataFrame({'time': ['11-03-01 17:15']})\n",
        "df['time'] = pd.to_datetime(df['time'], format='%y-%m-%d %H:%M')\n",
        "df['ceil'] = df['time'].dt.ceil('1H') # округляем к потолку\n",
        "df['floor'] = df['time'].dt.floor('1H') # округляем к полу\n",
        "print('Время, округлённое вверх', df['ceil'])\n",
        "print('Время, округлённое вниз', df['floor'])\n"
      ]
    },
    {
      "cell_type": "markdown",
      "metadata": {
        "id": "f33cW-ldCK2f"
      },
      "source": [
        "Номер дня в неделе находят методом **dt.weekday** (англ. weekday, «будний день»). Понедельник — день под номером 0, а воскресенье — шестой день."
      ]
    },
    {
      "cell_type": "code",
      "execution_count": null,
      "metadata": {
        "id": "XaZxjyz9CK2g",
        "outputId": "32f3384d-4562-407d-bea5-eb117f4dea7e"
      },
      "outputs": [
        {
          "name": "stdout",
          "output_type": "stream",
          "text": [
            "0    0\n",
            "1    5\n",
            "Name: weekday, dtype: int64\n"
          ]
        }
      ],
      "source": [
        "df = pd.DataFrame({'time': ['11-03-07 17:15', '11-04-02 17:15']}) # пн и сб\n",
        "df['time'] = pd.to_datetime(df['time'], format='%y-%m-%d %H:%M')\n",
        "df['weekday'] = df['time'].dt.weekday\n",
        "print(df['weekday'])\n"
      ]
    },
    {
      "cell_type": "markdown",
      "metadata": {
        "id": "bwUNdhLECK2g"
      },
      "source": [
        "Иногда нужно переводить время в другой часовой пояс. За временные сдвиги отвечает **pd.Timedelta()** (от англ. time delta — «дельта времени, перепад во времени»). Количество часов передают в параметре: **(hours=10)**.\n",
        "\n",
        "Прибавим 9 часов к московскому времени и узнаем, который час был в Петропавловске-Камчатском, когда в Москве происходили события датафрейма.\n",
        "\n",
        "Можно и наоборот: отнимать время, указав в параметре отрицательное количество часов.\n"
      ]
    },
    {
      "cell_type": "code",
      "execution_count": null,
      "metadata": {
        "id": "pYCsseNRCK2h",
        "outputId": "11baf5c2-3757-41a7-fb21-55879042cca1"
      },
      "outputs": [
        {
          "name": "stdout",
          "output_type": "stream",
          "text": [
            "0   2011-03-08 02:15:00\n",
            "1   2011-05-02 19:20:00\n",
            "Name: petropavlovsk-kamchatsky_time, dtype: datetime64[ns]\n"
          ]
        }
      ],
      "source": [
        "df = pd.DataFrame({'time': ['11-03-07 17:15', '11-05-02 10:20']})\n",
        "df['moscow_time'] = pd.to_datetime(df['time'], format='%y-%m-%d %H:%M')\n",
        "df['petropavlovsk-kamchatsky_time'] = df['moscow_time'] + pd.Timedelta(hours=9)\n",
        "print(df['petropavlovsk-kamchatsky_time'])\n"
      ]
    },
    {
      "cell_type": "markdown",
      "metadata": {
        "id": "W7irIhLKCK2i"
      },
      "source": [
        "### Задача   7\n",
        "Переведите значения в столбце **'date_time'** в формат даты.\n",
        "В аргументе **format** метода **to_datetime()** передайте строку со значениями года, месяца, дня и времени, чтобы получить запись вида: 2018-04-06T16:53:58. Результат сохраните в столбце **'date_time'**.\n",
        "Первые 5 строк таблицы data выведите на экран.\n"
      ]
    },
    {
      "cell_type": "code",
      "execution_count": 20,
      "metadata": {
        "id": "TfO-k55dCK2i",
        "outputId": "f452a691-ea7f-4d80-d9a4-3440ea18a831",
        "colab": {
          "base_uri": "https://localhost:8080/"
        }
      },
      "outputs": [
        {
          "output_type": "stream",
          "name": "stdout",
          "text": [
            "            date_time        id  time_spent     name\n",
            "0 2018-04-06 16:53:58  76144fb2        98.0  Василек\n",
            "1 2018-04-04 17:39:13  76144fb2        15.0  Василек\n",
            "2 2018-04-03 17:28:24  76144fb2       220.0  Василек\n",
            "3 2018-04-07 07:04:41  76144fb2        19.0  Василек\n",
            "4 2018-04-04 13:20:49  76144fb2        14.0  Василек\n"
          ]
        }
      ],
      "source": [
        "#Youre code is here\n",
        "data['date_time'] = pd.to_datetime(data['date_time'], format='%y-%m-%dT%H:%T:%S')\n",
        "print(data.head(5))"
      ]
    },
    {
      "cell_type": "markdown",
      "metadata": {
        "id": "MkxkOGjDCK2i"
      },
      "source": [
        "### Задача   8\n",
        "Напомним, что в датафрейме записано время UTC. Московское рассчитывают как UTC + 3 часа.\n",
        "Создайте столбец **data['local_time']** и сохраните в нём сдвинутую на +3 часа дату и время из столбца **data['date_time']**. Напечатайте первые 5 строк таблицы data.\n"
      ]
    },
    {
      "cell_type": "code",
      "execution_count": 22,
      "metadata": {
        "id": "pvDpvVx_CK2j",
        "outputId": "2c81e8ad-389c-4ed3-b8f3-1c7f98b29812",
        "colab": {
          "base_uri": "https://localhost:8080/"
        }
      },
      "outputs": [
        {
          "output_type": "stream",
          "name": "stdout",
          "text": [
            "            date_time        id  time_spent     name          local_time\n",
            "0 2018-04-06 16:53:58  76144fb2        98.0  Василек 2018-04-06 19:53:58\n",
            "1 2018-04-04 17:39:13  76144fb2        15.0  Василек 2018-04-04 20:39:13\n",
            "2 2018-04-03 17:28:24  76144fb2       220.0  Василек 2018-04-03 20:28:24\n",
            "3 2018-04-07 07:04:41  76144fb2        19.0  Василек 2018-04-07 10:04:41\n",
            "4 2018-04-04 13:20:49  76144fb2        14.0  Василек 2018-04-04 16:20:49\n"
          ]
        }
      ],
      "source": [
        "#Youre code is here\n",
        "data['local_time'] = data['date_time'] + pd.Timedelta(hours=3)\n",
        "print(data.head(5))"
      ]
    },
    {
      "cell_type": "markdown",
      "metadata": {
        "id": "cG7uj-oaCK2k"
      },
      "source": [
        "### Задача   8\n",
        "Создайте столбец **data['date_hour']** с московским временем заезда на АЗС, округлённым до 1 часа методом dt.round(). Напечатайте первые 5 строк."
      ]
    },
    {
      "cell_type": "code",
      "execution_count": 24,
      "metadata": {
        "id": "mHoTJUZ1CK2k"
      },
      "outputs": [],
      "source": [
        "#Youre code is here\n",
        "data['date_hour'] = data['date_time'].dt.round('1h')"
      ]
    },
    {
      "cell_type": "code",
      "execution_count": 25,
      "metadata": {
        "id": "Ic7ZtYGiCK2k",
        "outputId": "b7248123-6fcb-4deb-d621-c07915c5362a",
        "colab": {
          "base_uri": "https://localhost:8080/"
        }
      },
      "outputs": [
        {
          "output_type": "stream",
          "name": "stdout",
          "text": [
            "            date_time        id  time_spent     name          local_time  \\\n",
            "0 2018-04-06 16:53:58  76144fb2        98.0  Василек 2018-04-06 19:53:58   \n",
            "1 2018-04-04 17:39:13  76144fb2        15.0  Василек 2018-04-04 20:39:13   \n",
            "2 2018-04-03 17:28:24  76144fb2       220.0  Василек 2018-04-03 20:28:24   \n",
            "3 2018-04-07 07:04:41  76144fb2        19.0  Василек 2018-04-07 10:04:41   \n",
            "4 2018-04-04 13:20:49  76144fb2        14.0  Василек 2018-04-04 16:20:49   \n",
            "\n",
            "            date_hour  \n",
            "0 2018-04-06 17:00:00  \n",
            "1 2018-04-04 18:00:00  \n",
            "2 2018-04-03 17:00:00  \n",
            "3 2018-04-07 07:00:00  \n",
            "4 2018-04-04 13:00:00  \n"
          ]
        }
      ],
      "source": [
        "print(data.head(5))"
      ]
    }
  ],
  "metadata": {
    "kernelspec": {
      "display_name": "Python 3 (ipykernel)",
      "language": "python",
      "name": "python3"
    },
    "language_info": {
      "codemirror_mode": {
        "name": "ipython",
        "version": 3
      },
      "file_extension": ".py",
      "mimetype": "text/x-python",
      "name": "python",
      "nbconvert_exporter": "python",
      "pygments_lexer": "ipython3",
      "version": "3.9.12"
    },
    "colab": {
      "provenance": []
    }
  },
  "nbformat": 4,
  "nbformat_minor": 0
}